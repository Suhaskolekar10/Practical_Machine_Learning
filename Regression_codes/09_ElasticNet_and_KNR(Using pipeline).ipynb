{
 "cells": [
  {
   "cell_type": "code",
   "execution_count": 1,
   "id": "dfaa0cc3",
   "metadata": {},
   "outputs": [],
   "source": [
    "###-----------------\n",
    "### Import Libraries\n",
    "###-----------------\n",
    "\n",
    "import pandas as pd\n",
    "import numpy as np\n",
    "\n",
    "from sklearn.model_selection import KFold,cross_val_score,GridSearchCV\n",
    "from sklearn.model_selection import train_test_split\n",
    "\n",
    "from sklearn.linear_model import Ridge,Lasso,ElasticNet\n",
    "\n",
    "from sklearn.metrics import log_loss,accuracy_score\n",
    "from sklearn.metrics import mean_squared_error\n",
    "\n",
    "from sklearn.preprocessing import LabelEncoder\n",
    "\n",
    "import warnings\n",
    "warnings.filterwarnings('ignore')"
   ]
  },
  {
   "cell_type": "code",
   "execution_count": 2,
   "id": "a299e76a",
   "metadata": {},
   "outputs": [
    {
     "data": {
      "text/html": [
       "<div>\n",
       "<style scoped>\n",
       "    .dataframe tbody tr th:only-of-type {\n",
       "        vertical-align: middle;\n",
       "    }\n",
       "\n",
       "    .dataframe tbody tr th {\n",
       "        vertical-align: top;\n",
       "    }\n",
       "\n",
       "    .dataframe thead th {\n",
       "        text-align: right;\n",
       "    }\n",
       "</style>\n",
       "<table border=\"1\" class=\"dataframe\">\n",
       "  <thead>\n",
       "    <tr style=\"text-align: right;\">\n",
       "      <th></th>\n",
       "      <th>age</th>\n",
       "      <th>sex</th>\n",
       "      <th>bmi</th>\n",
       "      <th>children</th>\n",
       "      <th>smoker</th>\n",
       "      <th>region</th>\n",
       "      <th>charges</th>\n",
       "    </tr>\n",
       "  </thead>\n",
       "  <tbody>\n",
       "    <tr>\n",
       "      <th>0</th>\n",
       "      <td>19</td>\n",
       "      <td>female</td>\n",
       "      <td>27.900</td>\n",
       "      <td>0</td>\n",
       "      <td>yes</td>\n",
       "      <td>southwest</td>\n",
       "      <td>16884.92400</td>\n",
       "    </tr>\n",
       "    <tr>\n",
       "      <th>1</th>\n",
       "      <td>18</td>\n",
       "      <td>male</td>\n",
       "      <td>33.770</td>\n",
       "      <td>1</td>\n",
       "      <td>no</td>\n",
       "      <td>southeast</td>\n",
       "      <td>1725.55230</td>\n",
       "    </tr>\n",
       "    <tr>\n",
       "      <th>2</th>\n",
       "      <td>28</td>\n",
       "      <td>male</td>\n",
       "      <td>33.000</td>\n",
       "      <td>3</td>\n",
       "      <td>no</td>\n",
       "      <td>southeast</td>\n",
       "      <td>4449.46200</td>\n",
       "    </tr>\n",
       "    <tr>\n",
       "      <th>3</th>\n",
       "      <td>33</td>\n",
       "      <td>male</td>\n",
       "      <td>22.705</td>\n",
       "      <td>0</td>\n",
       "      <td>no</td>\n",
       "      <td>northwest</td>\n",
       "      <td>21984.47061</td>\n",
       "    </tr>\n",
       "    <tr>\n",
       "      <th>4</th>\n",
       "      <td>32</td>\n",
       "      <td>male</td>\n",
       "      <td>28.880</td>\n",
       "      <td>0</td>\n",
       "      <td>no</td>\n",
       "      <td>northwest</td>\n",
       "      <td>3866.85520</td>\n",
       "    </tr>\n",
       "  </tbody>\n",
       "</table>\n",
       "</div>"
      ],
      "text/plain": [
       "   age     sex     bmi  children smoker     region      charges\n",
       "0   19  female  27.900         0    yes  southwest  16884.92400\n",
       "1   18    male  33.770         1     no  southeast   1725.55230\n",
       "2   28    male  33.000         3     no  southeast   4449.46200\n",
       "3   33    male  22.705         0     no  northwest  21984.47061\n",
       "4   32    male  28.880         0     no  northwest   3866.85520"
      ]
     },
     "execution_count": 2,
     "metadata": {},
     "output_type": "execute_result"
    }
   ],
   "source": [
    "insure=pd.read_csv('insurance.csv')\n",
    "\n",
    "insure.head()"
   ]
  },
  {
   "cell_type": "code",
   "execution_count": 3,
   "id": "965156aa",
   "metadata": {},
   "outputs": [],
   "source": [
    "dum_ins=pd.get_dummies(insure,drop_first=True)\n",
    "\n",
    "X=dum_ins.drop('charges',axis=1)\n",
    "y=dum_ins['charges']"
   ]
  },
  {
   "cell_type": "code",
   "execution_count": 4,
   "id": "e6730efd",
   "metadata": {},
   "outputs": [
    {
     "name": "stdout",
     "output_type": "stream",
     "text": [
      "0.6896851975844127\n"
     ]
    }
   ],
   "source": [
    "kfold=KFold(n_splits=5,shuffle=True,random_state=23)\n",
    "\n",
    "elastic=ElasticNet(alpha=0.1,l1_ratio=0.3)\n",
    "\n",
    "results=cross_val_score(elastic,X,y,cv=kfold,scoring='r2')\n",
    "\n",
    "print(results.mean())"
   ]
  },
  {
   "cell_type": "code",
   "execution_count": 5,
   "id": "ccc65c95",
   "metadata": {},
   "outputs": [
    {
     "name": "stdout",
     "output_type": "stream",
     "text": [
      "{'alpha': 0.6324210526315789, 'l1_ratio': 0.999}\n",
      "0.7472365796783413\n"
     ]
    }
   ],
   "source": [
    "l1_rat=np.linspace(0.001,0.999,20)\n",
    "alpha=np.linspace(0.001,4,20)\n",
    "\n",
    "params={'alpha':alpha,'l1_ratio':l1_rat}\n",
    "elastic=ElasticNet()\n",
    "\n",
    "gcv=GridSearchCV(elastic,param_grid=params,\n",
    "                 cv=kfold,scoring='r2')\n",
    "\n",
    "gcv.fit(X,y)\n",
    "\n",
    "\n",
    "print(gcv.best_params_)\n",
    "print(gcv.best_score_)"
   ]
  },
  {
   "cell_type": "code",
   "execution_count": 6,
   "id": "9b660bc0",
   "metadata": {},
   "outputs": [],
   "source": [
    "X_train,X_test,y_train,y_test=train_test_split(X,y,test_size=0.3,random_state=23)"
   ]
  },
  {
   "cell_type": "code",
   "execution_count": 7,
   "id": "5d4548c5",
   "metadata": {},
   "outputs": [
    {
     "name": "stdout",
     "output_type": "stream",
     "text": [
      "{'KNR__n_neighbors': 6, 'SCL': StandardScaler()}\n",
      "0.7929593107756748\n"
     ]
    }
   ],
   "source": [
    "#With Pipeline #Comparison between StadardScaler and MinMaxScaler and getting the max values\n",
    "from sklearn.neighbors import KNeighborsRegressor\n",
    "from sklearn.metrics import r2_score\n",
    "from sklearn.preprocessing import StandardScaler,MinMaxScaler \n",
    "from sklearn.pipeline import Pipeline\n",
    "\n",
    "kfold=KFold(n_splits=5,shuffle=True,random_state=23)\n",
    "scalar=StandardScaler()\n",
    "knr=KNeighborsRegressor() \n",
    " \n",
    "pipe=Pipeline([(\"SCL\",scalar),(\"KNR\",knr)])          #here we are using values of KNN transformer\n",
    "params={'KNR__n_neighbors':np.arange(1,11),'SCL':[StandardScaler(),MinMaxScaler()]}\n",
    "\n",
    "#log_loss\n",
    "gcv=GridSearchCV(pipe,param_grid=params,cv=kfold,scoring='r2')\n",
    "gcv.fit(X,y)\n",
    "\n",
    "print(gcv.best_params_)\n",
    "print(gcv.best_score_)"
   ]
  },
  {
   "cell_type": "code",
   "execution_count": 8,
   "id": "8c3adcc4",
   "metadata": {},
   "outputs": [
    {
     "name": "stdout",
     "output_type": "stream",
     "text": [
      "{'KNR__n_neighbors': 6, 'SCL': StandardScaler()}\n",
      "0.7929593107756748\n"
     ]
    }
   ],
   "source": [
    "#With Pipeline #Comparison between Elastic and KNR for insurance dataset\n",
    "\n",
    "\n",
    "kfold=KFold(n_splits=5,shuffle=True,random_state=23)\n",
    "scalar=StandardScaler()\n",
    "knr=KNeighborsRegressor() \n",
    "\n",
    "pipe=Pipeline([(\"SCL\",scalar),(\"KNR\",knr)])          #here we are using values of KNN transformer\n",
    "params={'KNR__n_neighbors':np.arange(1,11),'SCL':[StandardScaler(),MinMaxScaler()]}\n",
    "\n",
    "#log_loss\n",
    "gcv=GridSearchCV(pipe,param_grid=params,cv=kfold,scoring='r2')\n",
    "gcv.fit(X,y)\n",
    "\n",
    "print(gcv.best_params_)\n",
    "print(gcv.best_score_)"
   ]
  },
  {
   "cell_type": "code",
   "execution_count": 9,
   "id": "3a43a811",
   "metadata": {},
   "outputs": [
    {
     "name": "stdout",
     "output_type": "stream",
     "text": [
      "{'alpha': 0.6324210526315789, 'l1_ratio': 0.999}\n",
      "0.7472365796783413\n"
     ]
    }
   ],
   "source": [
    "#Elastic\n",
    "elastic=ElasticNet()\n",
    "\n",
    "l1_rat=np.linspace(0.001,0.999,20)\n",
    "alpha=np.linspace(0.001,4,20)\n",
    "\n",
    "pipe1=Pipeline([(\"ELC\",elastic)]) \n",
    "\n",
    "params1={'l1_ratio':np.linspace(0.001,0.999,20),'alpha':np.linspace(0.001,4,20)}\n",
    "\n",
    "gcv1=GridSearchCV(elastic,param_grid=params1,cv=kfold,scoring='r2')\n",
    "gcv1.fit(X,y)\n",
    "\n",
    "print(gcv1.best_params_)\n",
    "print(gcv1.best_score_)"
   ]
  }
 ],
 "metadata": {
  "kernelspec": {
   "display_name": "Python 3 (ipykernel)",
   "language": "python",
   "name": "python3"
  },
  "language_info": {
   "codemirror_mode": {
    "name": "ipython",
    "version": 3
   },
   "file_extension": ".py",
   "mimetype": "text/x-python",
   "name": "python",
   "nbconvert_exporter": "python",
   "pygments_lexer": "ipython3",
   "version": "3.11.5"
  }
 },
 "nbformat": 4,
 "nbformat_minor": 5
}
