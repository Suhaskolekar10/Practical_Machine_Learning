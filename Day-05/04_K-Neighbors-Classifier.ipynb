{
 "cells": [
  {
   "cell_type": "code",
   "execution_count": 1,
   "id": "bce8e347",
   "metadata": {},
   "outputs": [],
   "source": [
    "###-----------------\n",
    "### Import Libraries\n",
    "###-----------------\n",
    "\n",
    "import numpy as np\n",
    "import pandas as pd\n",
    "from sklearn.model_selection import train_test_split\n",
    "from sklearn.neighbors import KNeighborsClassifier\n",
    "from sklearn.linear_model import ElasticNet\n",
    "from sklearn.model_selection import GridSearchCV\n",
    "from sklearn.model_selection import StratifiedKFold,cross_val_score\n",
    "from sklearn.metrics import log_loss,accuracy_score\n",
    "from sklearn.preprocessing import LabelEncoder\n",
    "\n",
    "import warnings\n",
    "warnings.filterwarnings('ignore')"
   ]
  },
  {
   "cell_type": "code",
   "execution_count": 2,
   "id": "b896478d",
   "metadata": {},
   "outputs": [
    {
     "data": {
      "text/html": [
       "<div>\n",
       "<style scoped>\n",
       "    .dataframe tbody tr th:only-of-type {\n",
       "        vertical-align: middle;\n",
       "    }\n",
       "\n",
       "    .dataframe tbody tr th {\n",
       "        vertical-align: top;\n",
       "    }\n",
       "\n",
       "    .dataframe thead th {\n",
       "        text-align: right;\n",
       "    }\n",
       "</style>\n",
       "<table border=\"1\" class=\"dataframe\">\n",
       "  <thead>\n",
       "    <tr style=\"text-align: right;\">\n",
       "      <th></th>\n",
       "      <th>Income</th>\n",
       "      <th>Lot_Size</th>\n",
       "      <th>Response</th>\n",
       "    </tr>\n",
       "  </thead>\n",
       "  <tbody>\n",
       "    <tr>\n",
       "      <th>0</th>\n",
       "      <td>34</td>\n",
       "      <td>26</td>\n",
       "      <td>Not Bought</td>\n",
       "    </tr>\n",
       "    <tr>\n",
       "      <th>1</th>\n",
       "      <td>34</td>\n",
       "      <td>40</td>\n",
       "      <td>Not Bought</td>\n",
       "    </tr>\n",
       "    <tr>\n",
       "      <th>2</th>\n",
       "      <td>34</td>\n",
       "      <td>46</td>\n",
       "      <td>Not Bought</td>\n",
       "    </tr>\n",
       "    <tr>\n",
       "      <th>3</th>\n",
       "      <td>34</td>\n",
       "      <td>48</td>\n",
       "      <td>Not Bought</td>\n",
       "    </tr>\n",
       "    <tr>\n",
       "      <th>4</th>\n",
       "      <td>34</td>\n",
       "      <td>53</td>\n",
       "      <td>Not Bought</td>\n",
       "    </tr>\n",
       "  </tbody>\n",
       "</table>\n",
       "</div>"
      ],
      "text/plain": [
       "   Income  Lot_Size    Response\n",
       "0      34        26  Not Bought\n",
       "1      34        40  Not Bought\n",
       "2      34        46  Not Bought\n",
       "3      34        48  Not Bought\n",
       "4      34        53  Not Bought"
      ]
     },
     "execution_count": 2,
     "metadata": {},
     "output_type": "execute_result"
    }
   ],
   "source": [
    "mowers=pd.read_csv(\"RidingMowers.csv\")\n",
    "\n",
    "mowers.head()"
   ]
  },
  {
   "cell_type": "code",
   "execution_count": 3,
   "id": "bbc9c0f9",
   "metadata": {},
   "outputs": [],
   "source": [
    "lbl=LabelEncoder()\n",
    "mowers['Response']=lbl.fit_transform(mowers['Response'])"
   ]
  },
  {
   "cell_type": "code",
   "execution_count": 4,
   "id": "25c234ea",
   "metadata": {},
   "outputs": [],
   "source": [
    "X=mowers.drop('Response',axis=1)\n",
    "y=mowers['Response']\n"
   ]
  },
  {
   "cell_type": "code",
   "execution_count": 5,
   "id": "199c229a",
   "metadata": {},
   "outputs": [],
   "source": [
    "X_train,X_test,y_train,y_test=train_test_split(X,y,test_size=0.3,\n",
    "                                               random_state=23,\n",
    "                                               stratify=y)"
   ]
  },
  {
   "cell_type": "code",
   "execution_count": 6,
   "id": "9d62cb0b",
   "metadata": {},
   "outputs": [
    {
     "name": "stdout",
     "output_type": "stream",
     "text": [
      "0.8518518518518519\n",
      "5.33980050209143\n"
     ]
    }
   ],
   "source": [
    "knn=KNeighborsClassifier(n_neighbors=1)\n",
    "knn.fit(X_train,y_train)\n",
    "\n",
    "y_pred=knn.predict(X_test)\n",
    "print(accuracy_score(y_test,y_pred))\n",
    "\n",
    "y_pred_prob=knn.predict_proba(X_test)[:,1]\n",
    "print(log_loss(y_test,y_pred_prob))"
   ]
  },
  {
   "cell_type": "markdown",
   "id": "bdc35601",
   "metadata": {},
   "source": [
    "# Using Grid search cv"
   ]
  },
  {
   "cell_type": "code",
   "execution_count": 7,
   "id": "1d74a4b5",
   "metadata": {},
   "outputs": [
    {
     "name": "stdout",
     "output_type": "stream",
     "text": [
      "{'n_neighbors': 8}\n",
      "-1.1403137133213659\n"
     ]
    }
   ],
   "source": [
    "kfold=StratifiedKFold(n_splits=5,shuffle=True,random_state=23)\n",
    "knn=KNeighborsClassifier()\n",
    "params={'n_neighbors':np.arange(1,11)}\n",
    "\n",
    "#log_loss\n",
    "gcv=GridSearchCV(knn,param_grid=params,cv=kfold,scoring='neg_log_loss')\n",
    "gcv.fit(X,y)\n",
    "\n",
    "print(gcv.best_params_)\n",
    "print(gcv.best_score_)"
   ]
  },
  {
   "cell_type": "markdown",
   "id": "7bb49959",
   "metadata": {},
   "source": [
    "# Applying on Breast Cancer Problem"
   ]
  },
  {
   "cell_type": "code",
   "execution_count": 8,
   "id": "148dc438",
   "metadata": {},
   "outputs": [],
   "source": [
    "cancer=pd.read_csv('BreastCancer.csv',index_col=0)\n",
    "lbl=LabelEncoder()\n",
    "cancer['Class']=lbl.fit_transform(cancer['Class'])"
   ]
  },
  {
   "cell_type": "code",
   "execution_count": 9,
   "id": "2beb28b5",
   "metadata": {},
   "outputs": [],
   "source": [
    "X=cancer.drop('Class',axis=1)\n",
    "y=cancer['Class']"
   ]
  },
  {
   "cell_type": "code",
   "execution_count": 10,
   "id": "bbe5d8e9",
   "metadata": {},
   "outputs": [],
   "source": [
    "X_train,X_test,y_train,y_test=train_test_split(X,y,test_size=0.3,\n",
    "                                               random_state=23,\n",
    "                                               stratify=y)"
   ]
  },
  {
   "cell_type": "code",
   "execution_count": 11,
   "id": "80fb2513",
   "metadata": {},
   "outputs": [
    {
     "name": "stdout",
     "output_type": "stream",
     "text": [
      "0.9523809523809523\n"
     ]
    }
   ],
   "source": [
    "knn=KNeighborsClassifier(n_neighbors=1)\n",
    "knn.fit(X_train,y_train) \n",
    "\n",
    "y_pred=knn.predict(X_test)\n",
    "print(accuracy_score(y_test,y_pred))"
   ]
  },
  {
   "cell_type": "code",
   "execution_count": 12,
   "id": "ce0a3f2b",
   "metadata": {},
   "outputs": [
    {
     "name": "stdout",
     "output_type": "stream",
     "text": [
      "1.716364447100817\n"
     ]
    }
   ],
   "source": [
    "y_pred_prob=knn.predict_proba(X_test)[:,1]\n",
    "print(log_loss(y_test,y_pred_prob))"
   ]
  },
  {
   "cell_type": "code",
   "execution_count": 13,
   "id": "04358dc7",
   "metadata": {},
   "outputs": [
    {
     "name": "stdout",
     "output_type": "stream",
     "text": [
      "{'n_neighbors': 10}\n",
      "-0.23229511352501434\n"
     ]
    }
   ],
   "source": [
    "params={'n_neighbors':np.arange(1,11)}\n",
    "\n",
    "#log_loss\n",
    "gcv=GridSearchCV(knn,param_grid=params,cv=kfold,scoring='neg_log_loss')\n",
    "gcv.fit(X,y)\n",
    "\n",
    "print(gcv.best_params_)\n",
    "print(gcv.best_score_)"
   ]
  },
  {
   "cell_type": "markdown",
   "id": "34bb3f23",
   "metadata": {},
   "source": [
    "# Image Segmentation Data"
   ]
  },
  {
   "cell_type": "code",
   "execution_count": 14,
   "id": "18f2158f",
   "metadata": {},
   "outputs": [
    {
     "data": {
      "text/html": [
       "<div>\n",
       "<style scoped>\n",
       "    .dataframe tbody tr th:only-of-type {\n",
       "        vertical-align: middle;\n",
       "    }\n",
       "\n",
       "    .dataframe tbody tr th {\n",
       "        vertical-align: top;\n",
       "    }\n",
       "\n",
       "    .dataframe thead th {\n",
       "        text-align: right;\n",
       "    }\n",
       "</style>\n",
       "<table border=\"1\" class=\"dataframe\">\n",
       "  <thead>\n",
       "    <tr style=\"text-align: right;\">\n",
       "      <th></th>\n",
       "      <th>Class</th>\n",
       "      <th>region.centroid.col</th>\n",
       "      <th>region.centroid.row</th>\n",
       "      <th>region.pixel.count</th>\n",
       "      <th>short.line.density.5</th>\n",
       "      <th>short.line.density.2</th>\n",
       "      <th>vedge.mean</th>\n",
       "      <th>vegde.sd</th>\n",
       "      <th>hedge.mean</th>\n",
       "      <th>hedge.sd</th>\n",
       "      <th>intensity.mean</th>\n",
       "      <th>rawred.mean</th>\n",
       "      <th>rawblue.mean</th>\n",
       "      <th>rawgreen.mean</th>\n",
       "      <th>exred.mean</th>\n",
       "      <th>exblue.mean</th>\n",
       "      <th>exgreen.mean</th>\n",
       "      <th>value.mean</th>\n",
       "      <th>saturation.mean</th>\n",
       "      <th>hue-mean</th>\n",
       "    </tr>\n",
       "  </thead>\n",
       "  <tbody>\n",
       "    <tr>\n",
       "      <th>0</th>\n",
       "      <td>BRICKFACE</td>\n",
       "      <td>188</td>\n",
       "      <td>133</td>\n",
       "      <td>9</td>\n",
       "      <td>0.0</td>\n",
       "      <td>0.0</td>\n",
       "      <td>0.333333</td>\n",
       "      <td>0.266667</td>\n",
       "      <td>0.500000</td>\n",
       "      <td>0.077778</td>\n",
       "      <td>6.666666</td>\n",
       "      <td>8.333334</td>\n",
       "      <td>7.777778</td>\n",
       "      <td>3.888889</td>\n",
       "      <td>5.000000</td>\n",
       "      <td>3.333333</td>\n",
       "      <td>-8.333333</td>\n",
       "      <td>8.444445</td>\n",
       "      <td>0.538580</td>\n",
       "      <td>-0.924817</td>\n",
       "    </tr>\n",
       "    <tr>\n",
       "      <th>1</th>\n",
       "      <td>BRICKFACE</td>\n",
       "      <td>105</td>\n",
       "      <td>139</td>\n",
       "      <td>9</td>\n",
       "      <td>0.0</td>\n",
       "      <td>0.0</td>\n",
       "      <td>0.277778</td>\n",
       "      <td>0.107407</td>\n",
       "      <td>0.833333</td>\n",
       "      <td>0.522222</td>\n",
       "      <td>6.111111</td>\n",
       "      <td>7.555555</td>\n",
       "      <td>7.222222</td>\n",
       "      <td>3.555556</td>\n",
       "      <td>4.333334</td>\n",
       "      <td>3.333333</td>\n",
       "      <td>-7.666666</td>\n",
       "      <td>7.555555</td>\n",
       "      <td>0.532628</td>\n",
       "      <td>-0.965946</td>\n",
       "    </tr>\n",
       "    <tr>\n",
       "      <th>2</th>\n",
       "      <td>BRICKFACE</td>\n",
       "      <td>34</td>\n",
       "      <td>137</td>\n",
       "      <td>9</td>\n",
       "      <td>0.0</td>\n",
       "      <td>0.0</td>\n",
       "      <td>0.500000</td>\n",
       "      <td>0.166667</td>\n",
       "      <td>1.111111</td>\n",
       "      <td>0.474074</td>\n",
       "      <td>5.851852</td>\n",
       "      <td>7.777778</td>\n",
       "      <td>6.444445</td>\n",
       "      <td>3.333333</td>\n",
       "      <td>5.777778</td>\n",
       "      <td>1.777778</td>\n",
       "      <td>-7.555555</td>\n",
       "      <td>7.777778</td>\n",
       "      <td>0.573633</td>\n",
       "      <td>-0.744272</td>\n",
       "    </tr>\n",
       "    <tr>\n",
       "      <th>3</th>\n",
       "      <td>BRICKFACE</td>\n",
       "      <td>39</td>\n",
       "      <td>111</td>\n",
       "      <td>9</td>\n",
       "      <td>0.0</td>\n",
       "      <td>0.0</td>\n",
       "      <td>0.722222</td>\n",
       "      <td>0.374074</td>\n",
       "      <td>0.888889</td>\n",
       "      <td>0.429629</td>\n",
       "      <td>6.037037</td>\n",
       "      <td>7.000000</td>\n",
       "      <td>7.666666</td>\n",
       "      <td>3.444444</td>\n",
       "      <td>2.888889</td>\n",
       "      <td>4.888889</td>\n",
       "      <td>-7.777778</td>\n",
       "      <td>7.888889</td>\n",
       "      <td>0.562919</td>\n",
       "      <td>-1.175773</td>\n",
       "    </tr>\n",
       "    <tr>\n",
       "      <th>4</th>\n",
       "      <td>BRICKFACE</td>\n",
       "      <td>16</td>\n",
       "      <td>128</td>\n",
       "      <td>9</td>\n",
       "      <td>0.0</td>\n",
       "      <td>0.0</td>\n",
       "      <td>0.500000</td>\n",
       "      <td>0.077778</td>\n",
       "      <td>0.666667</td>\n",
       "      <td>0.311111</td>\n",
       "      <td>5.555555</td>\n",
       "      <td>6.888889</td>\n",
       "      <td>6.666666</td>\n",
       "      <td>3.111111</td>\n",
       "      <td>4.000000</td>\n",
       "      <td>3.333333</td>\n",
       "      <td>-7.333334</td>\n",
       "      <td>7.111111</td>\n",
       "      <td>0.561508</td>\n",
       "      <td>-0.985811</td>\n",
       "    </tr>\n",
       "  </tbody>\n",
       "</table>\n",
       "</div>"
      ],
      "text/plain": [
       "       Class  region.centroid.col  region.centroid.row  region.pixel.count  \\\n",
       "0  BRICKFACE                  188                  133                   9   \n",
       "1  BRICKFACE                  105                  139                   9   \n",
       "2  BRICKFACE                   34                  137                   9   \n",
       "3  BRICKFACE                   39                  111                   9   \n",
       "4  BRICKFACE                   16                  128                   9   \n",
       "\n",
       "   short.line.density.5  short.line.density.2  vedge.mean  vegde.sd  \\\n",
       "0                   0.0                   0.0    0.333333  0.266667   \n",
       "1                   0.0                   0.0    0.277778  0.107407   \n",
       "2                   0.0                   0.0    0.500000  0.166667   \n",
       "3                   0.0                   0.0    0.722222  0.374074   \n",
       "4                   0.0                   0.0    0.500000  0.077778   \n",
       "\n",
       "   hedge.mean  hedge.sd  intensity.mean  rawred.mean  rawblue.mean  \\\n",
       "0    0.500000  0.077778        6.666666     8.333334      7.777778   \n",
       "1    0.833333  0.522222        6.111111     7.555555      7.222222   \n",
       "2    1.111111  0.474074        5.851852     7.777778      6.444445   \n",
       "3    0.888889  0.429629        6.037037     7.000000      7.666666   \n",
       "4    0.666667  0.311111        5.555555     6.888889      6.666666   \n",
       "\n",
       "   rawgreen.mean  exred.mean  exblue.mean  exgreen.mean  value.mean  \\\n",
       "0       3.888889    5.000000     3.333333     -8.333333    8.444445   \n",
       "1       3.555556    4.333334     3.333333     -7.666666    7.555555   \n",
       "2       3.333333    5.777778     1.777778     -7.555555    7.777778   \n",
       "3       3.444444    2.888889     4.888889     -7.777778    7.888889   \n",
       "4       3.111111    4.000000     3.333333     -7.333334    7.111111   \n",
       "\n",
       "   saturation.mean  hue-mean  \n",
       "0         0.538580 -0.924817  \n",
       "1         0.532628 -0.965946  \n",
       "2         0.573633 -0.744272  \n",
       "3         0.562919 -1.175773  \n",
       "4         0.561508 -0.985811  "
      ]
     },
     "execution_count": 14,
     "metadata": {},
     "output_type": "execute_result"
    }
   ],
   "source": [
    "img=pd.read_csv('Image_Segmention.csv')\n",
    "\n",
    "img.head()"
   ]
  },
  {
   "cell_type": "code",
   "execution_count": 15,
   "id": "ffb70443",
   "metadata": {},
   "outputs": [],
   "source": [
    "lbl=LabelEncoder()\n",
    "img['Class']=lbl.fit_transform(img['Class'])"
   ]
  },
  {
   "cell_type": "code",
   "execution_count": 16,
   "id": "53eb6b6e",
   "metadata": {},
   "outputs": [],
   "source": [
    "X=img.drop('Class',axis=1)\n",
    "y=img['Class']"
   ]
  },
  {
   "cell_type": "code",
   "execution_count": 17,
   "id": "3583042e",
   "metadata": {},
   "outputs": [
    {
     "name": "stdout",
     "output_type": "stream",
     "text": [
      "{'n_neighbors': 10}\n",
      "-0.8815302233391723\n"
     ]
    }
   ],
   "source": [
    "kfold=StratifiedKFold(n_splits=5,shuffle=True,random_state=23)\n",
    "knn=KNeighborsClassifier(n_neighbors=1)\n",
    "params={'n_neighbors':np.arange(1,11)}\n",
    "\n",
    "gcv=GridSearchCV(knn,param_grid=params,cv=kfold,scoring='neg_log_loss')\n",
    "gcv.fit(X,y)\n",
    "\n",
    "print(gcv.best_params_)\n",
    "print(gcv.best_score_)"
   ]
  }
 ],
 "metadata": {
  "kernelspec": {
   "display_name": "Python 3 (ipykernel)",
   "language": "python",
   "name": "python3"
  },
  "language_info": {
   "codemirror_mode": {
    "name": "ipython",
    "version": 3
   },
   "file_extension": ".py",
   "mimetype": "text/x-python",
   "name": "python",
   "nbconvert_exporter": "python",
   "pygments_lexer": "ipython3",
   "version": "3.11.5"
  }
 },
 "nbformat": 4,
 "nbformat_minor": 5
}
