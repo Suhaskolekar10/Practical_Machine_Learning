{
 "cells": [
  {
   "cell_type": "code",
   "execution_count": 1,
   "id": "905bb6bd",
   "metadata": {},
   "outputs": [],
   "source": [
    "###-----------------\n",
    "### Import Libraries\n",
    "###-----------------\n",
    "\n",
    "import pandas as pd\n",
    "from sklearn.model_selection import train_test_split\n",
    "from sklearn.linear_model import Ridge,Lasso,ElasticNet\n",
    "from sklearn.metrics import mean_squared_error\n",
    "import numpy as np\n",
    "\n",
    "import warnings\n",
    "warnings.filterwarnings('ignore')"
   ]
  },
  {
   "cell_type": "code",
   "execution_count": 2,
   "id": "0472fd5b",
   "metadata": {},
   "outputs": [
    {
     "data": {
      "text/html": [
       "<div>\n",
       "<style scoped>\n",
       "    .dataframe tbody tr th:only-of-type {\n",
       "        vertical-align: middle;\n",
       "    }\n",
       "\n",
       "    .dataframe tbody tr th {\n",
       "        vertical-align: top;\n",
       "    }\n",
       "\n",
       "    .dataframe thead th {\n",
       "        text-align: right;\n",
       "    }\n",
       "</style>\n",
       "<table border=\"1\" class=\"dataframe\">\n",
       "  <thead>\n",
       "    <tr style=\"text-align: right;\">\n",
       "      <th></th>\n",
       "      <th>crim</th>\n",
       "      <th>zn</th>\n",
       "      <th>indus</th>\n",
       "      <th>chas</th>\n",
       "      <th>nox</th>\n",
       "      <th>rm</th>\n",
       "      <th>age</th>\n",
       "      <th>dis</th>\n",
       "      <th>rad</th>\n",
       "      <th>tax</th>\n",
       "      <th>ptratio</th>\n",
       "      <th>black</th>\n",
       "      <th>lstat</th>\n",
       "      <th>medv</th>\n",
       "    </tr>\n",
       "  </thead>\n",
       "  <tbody>\n",
       "    <tr>\n",
       "      <th>0</th>\n",
       "      <td>0.00632</td>\n",
       "      <td>18.0</td>\n",
       "      <td>2.31</td>\n",
       "      <td>0</td>\n",
       "      <td>0.538</td>\n",
       "      <td>6.575</td>\n",
       "      <td>65.2</td>\n",
       "      <td>4.0900</td>\n",
       "      <td>1</td>\n",
       "      <td>296</td>\n",
       "      <td>15.3</td>\n",
       "      <td>396.90</td>\n",
       "      <td>4.98</td>\n",
       "      <td>24.0</td>\n",
       "    </tr>\n",
       "    <tr>\n",
       "      <th>1</th>\n",
       "      <td>0.02731</td>\n",
       "      <td>0.0</td>\n",
       "      <td>7.07</td>\n",
       "      <td>0</td>\n",
       "      <td>0.469</td>\n",
       "      <td>6.421</td>\n",
       "      <td>78.9</td>\n",
       "      <td>4.9671</td>\n",
       "      <td>2</td>\n",
       "      <td>242</td>\n",
       "      <td>17.8</td>\n",
       "      <td>396.90</td>\n",
       "      <td>9.14</td>\n",
       "      <td>21.6</td>\n",
       "    </tr>\n",
       "    <tr>\n",
       "      <th>2</th>\n",
       "      <td>0.02729</td>\n",
       "      <td>0.0</td>\n",
       "      <td>7.07</td>\n",
       "      <td>0</td>\n",
       "      <td>0.469</td>\n",
       "      <td>7.185</td>\n",
       "      <td>61.1</td>\n",
       "      <td>4.9671</td>\n",
       "      <td>2</td>\n",
       "      <td>242</td>\n",
       "      <td>17.8</td>\n",
       "      <td>392.83</td>\n",
       "      <td>4.03</td>\n",
       "      <td>34.7</td>\n",
       "    </tr>\n",
       "    <tr>\n",
       "      <th>3</th>\n",
       "      <td>0.03237</td>\n",
       "      <td>0.0</td>\n",
       "      <td>2.18</td>\n",
       "      <td>0</td>\n",
       "      <td>0.458</td>\n",
       "      <td>6.998</td>\n",
       "      <td>45.8</td>\n",
       "      <td>6.0622</td>\n",
       "      <td>3</td>\n",
       "      <td>222</td>\n",
       "      <td>18.7</td>\n",
       "      <td>394.63</td>\n",
       "      <td>2.94</td>\n",
       "      <td>33.4</td>\n",
       "    </tr>\n",
       "    <tr>\n",
       "      <th>4</th>\n",
       "      <td>0.06905</td>\n",
       "      <td>0.0</td>\n",
       "      <td>2.18</td>\n",
       "      <td>0</td>\n",
       "      <td>0.458</td>\n",
       "      <td>7.147</td>\n",
       "      <td>54.2</td>\n",
       "      <td>6.0622</td>\n",
       "      <td>3</td>\n",
       "      <td>222</td>\n",
       "      <td>18.7</td>\n",
       "      <td>396.90</td>\n",
       "      <td>5.33</td>\n",
       "      <td>36.2</td>\n",
       "    </tr>\n",
       "  </tbody>\n",
       "</table>\n",
       "</div>"
      ],
      "text/plain": [
       "      crim    zn  indus  chas    nox     rm   age     dis  rad  tax  ptratio  \\\n",
       "0  0.00632  18.0   2.31     0  0.538  6.575  65.2  4.0900    1  296     15.3   \n",
       "1  0.02731   0.0   7.07     0  0.469  6.421  78.9  4.9671    2  242     17.8   \n",
       "2  0.02729   0.0   7.07     0  0.469  7.185  61.1  4.9671    2  242     17.8   \n",
       "3  0.03237   0.0   2.18     0  0.458  6.998  45.8  6.0622    3  222     18.7   \n",
       "4  0.06905   0.0   2.18     0  0.458  7.147  54.2  6.0622    3  222     18.7   \n",
       "\n",
       "    black  lstat  medv  \n",
       "0  396.90   4.98  24.0  \n",
       "1  396.90   9.14  21.6  \n",
       "2  392.83   4.03  34.7  \n",
       "3  394.63   2.94  33.4  \n",
       "4  396.90   5.33  36.2  "
      ]
     },
     "execution_count": 2,
     "metadata": {},
     "output_type": "execute_result"
    }
   ],
   "source": [
    "boston=pd.read_csv(\"Boston.csv\")\n",
    "\n",
    "boston.head()"
   ]
  },
  {
   "cell_type": "code",
   "execution_count": 3,
   "id": "623a6daf",
   "metadata": {},
   "outputs": [],
   "source": [
    "X = boston.drop('medv',axis=1)\n",
    "y = boston['medv']"
   ]
  },
  {
   "cell_type": "code",
   "execution_count": 4,
   "id": "889295ee",
   "metadata": {},
   "outputs": [
    {
     "name": "stdout",
     "output_type": "stream",
     "text": [
      "25.38203639719029\n",
      "25.51102170316692\n",
      "25.68983671433415\n",
      "25.842482328893436\n",
      "25.86766999255288\n"
     ]
    }
   ],
   "source": [
    "alpha=[0.1,0.5,1.2,2.5,3]\n",
    "for i in alpha:\n",
    "    rd=Ridge(i)\n",
    "    \n",
    "    X_train,X_test,y_train,y_test=train_test_split(X,y,test_size=0.3,random_state=23)\n",
    "    rd.fit(X_train,y_train)\n",
    "    y_pred=rd.predict(X_test)\n",
    "    print(mean_squared_error(y_test,y_pred))"
   ]
  },
  {
   "cell_type": "code",
   "execution_count": 5,
   "id": "1e219fe1",
   "metadata": {},
   "outputs": [],
   "source": [
    "params=[0.1,0.5,1,2,2.5,3]\n",
    "errors=[]"
   ]
  },
  {
   "cell_type": "markdown",
   "id": "b03d4766",
   "metadata": {},
   "source": [
    "# Ridge regression"
   ]
  },
  {
   "cell_type": "code",
   "execution_count": 6,
   "id": "1795788f",
   "metadata": {},
   "outputs": [
    {
     "name": "stdout",
     "output_type": "stream",
     "text": [
      "Best Score: 25.38203639719029\n",
      "Best Parameter: 0.1\n"
     ]
    }
   ],
   "source": [
    "for a in params:\n",
    "    ridge=Ridge(alpha=a)\n",
    "    ridge.fit(X_train,y_train)\n",
    "    y_pred=ridge.predict(X_test)\n",
    "    errors.append(mean_squared_error(y_test,y_pred))\n",
    "    \n",
    "print(\"Best Score:\",np.min(errors))    \n",
    "i_min=np.argmin(errors)\n",
    "print(\"Best Parameter:\",params[i_min])"
   ]
  },
  {
   "cell_type": "markdown",
   "id": "8457de7f",
   "metadata": {},
   "source": [
    "# Lasso regression"
   ]
  },
  {
   "cell_type": "code",
   "execution_count": 7,
   "id": "389096da",
   "metadata": {},
   "outputs": [],
   "source": [
    "params=[0.1,0.5,1,2,2.5,3]\n",
    "errors=[]"
   ]
  },
  {
   "cell_type": "code",
   "execution_count": 8,
   "id": "9004ccca",
   "metadata": {},
   "outputs": [
    {
     "name": "stdout",
     "output_type": "stream",
     "text": [
      "Best Score: 25.86766999255288\n",
      "Best Parameter: 0.1\n"
     ]
    }
   ],
   "source": [
    "for a in params:\n",
    "    lasso=Lasso(alpha=a)\n",
    "    lasso.fit(X_train,y_train)\n",
    "    y_pred=ridge.predict(X_test)\n",
    "    errors.append(mean_squared_error(y_test,y_pred))\n",
    "    \n",
    "print(\"Best Score:\",np.min(errors))    \n",
    "i_min=np.argmin(errors)\n",
    "print(\"Best Parameter:\",params[i_min])"
   ]
  },
  {
   "cell_type": "markdown",
   "id": "64827a97",
   "metadata": {},
   "source": [
    "# ElasticNet"
   ]
  },
  {
   "cell_type": "code",
   "execution_count": 9,
   "id": "538b4cba",
   "metadata": {},
   "outputs": [
    {
     "name": "stdout",
     "output_type": "stream",
     "text": [
      "28.34945977955968\n"
     ]
    }
   ],
   "source": [
    "from sklearn.metrics import mean_squared_error as mse\n",
    "elastic=ElasticNet()\n",
    "elastic.fit(X_train,y_train)\n",
    "\n",
    "y_pred=elastic.predict(X_test)\n",
    "print(mean_squared_error(y_test,y_pred))"
   ]
  },
  {
   "cell_type": "code",
   "execution_count": 10,
   "id": "959ac69d",
   "metadata": {},
   "outputs": [
    {
     "data": {
      "text/plain": [
       "alpha:0.1,L1_ratio:0.1     25.559230\n",
       "alpha:0.1,L1_ratio:0.25    25.592090\n",
       "alpha:0.1,L1_ratio:0.5     25.688603\n",
       "alpha:0.1,L1_ratio:0.8     25.841213\n",
       "alpha:0.1,L1_ratio:0.9     25.923046\n",
       "alpha:0.5,L1_ratio:0.9     26.147785\n",
       "alpha:0.5,L1_ratio:0.8     26.267650\n",
       "alpha:0.5,L1_ratio:0.5     26.540804\n",
       "alpha:0.5,L1_ratio:0.25    26.679782\n",
       "alpha:0.5,L1_ratio:0.1     26.741802\n",
       "alpha:1,L1_ratio:0.1       28.072520\n",
       "alpha:1,L1_ratio:0.25      28.164799\n",
       "alpha:1,L1_ratio:0.5       28.349460\n",
       "alpha:1,L1_ratio:0.8       28.643562\n",
       "alpha:1,L1_ratio:0.9       28.761215\n",
       "alpha:2,L1_ratio:0.1       29.896721\n",
       "alpha:2,L1_ratio:0.25      30.364218\n",
       "alpha:2.5,L1_ratio:0.1     30.612963\n",
       "alpha:3,L1_ratio:0.1       31.252973\n",
       "alpha:2.5,L1_ratio:0.25    31.271473\n",
       "alpha:2,L1_ratio:0.5       31.512857\n",
       "alpha:3,L1_ratio:0.25      32.099091\n",
       "alpha:2.5,L1_ratio:0.5     32.917028\n",
       "alpha:2,L1_ratio:0.8       33.429465\n",
       "alpha:2,L1_ratio:0.9       34.058678\n",
       "alpha:3,L1_ratio:0.5       34.133752\n",
       "alpha:2.5,L1_ratio:0.8     35.199782\n",
       "alpha:2.5,L1_ratio:0.9     35.826966\n",
       "alpha:3,L1_ratio:0.8       36.482244\n",
       "alpha:3,L1_ratio:0.9       37.046052\n",
       "dtype: float64"
      ]
     },
     "execution_count": 10,
     "metadata": {},
     "output_type": "execute_result"
    }
   ],
   "source": [
    "l1_rat=[0.1,0.25,0.5,0.8,0.9]\n",
    "alpha=[0.1,0.5,1,2,2.5,3]\n",
    "\n",
    "#mse=mean_squared_error\n",
    "errors=dict()\n",
    "for a in alpha:\n",
    "    for l in l1_rat:\n",
    "        elastic=ElasticNet(alpha=a,l1_ratio=l)\n",
    "        elastic.fit(X_train,y_train)\n",
    "        y_pred=elastic.predict(X_test)\n",
    "        errors['alpha:'+str(a)+\",L1_ratio:\"+str(l)]=mse(y_test,y_pred)\n",
    "er_pd=pd.Series(errors)\n",
    "er_pd.sort_values()"
   ]
  },
  {
   "cell_type": "code",
   "execution_count": null,
   "id": "b1e6c04d",
   "metadata": {},
   "outputs": [],
   "source": []
  }
 ],
 "metadata": {
  "kernelspec": {
   "display_name": "Python 3 (ipykernel)",
   "language": "python",
   "name": "python3"
  },
  "language_info": {
   "codemirror_mode": {
    "name": "ipython",
    "version": 3
   },
   "file_extension": ".py",
   "mimetype": "text/x-python",
   "name": "python",
   "nbconvert_exporter": "python",
   "pygments_lexer": "ipython3",
   "version": "3.11.5"
  }
 },
 "nbformat": 4,
 "nbformat_minor": 5
}
