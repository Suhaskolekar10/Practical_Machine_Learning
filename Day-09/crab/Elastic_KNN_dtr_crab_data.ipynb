{
 "cells": [
  {
   "cell_type": "code",
   "execution_count": 16,
   "id": "e6ba8929",
   "metadata": {},
   "outputs": [],
   "source": [
    "import pandas as pd\n",
    "from sklearn.model_selection import StratifiedKFold,GridSearchCV,KFold\n",
    "from sklearn.model_selection import train_test_split\n",
    "import numpy as np\n",
    "from sklearn.svm import SVR\n",
    "from sklearn.preprocessing import LabelEncoder\n",
    "from sklearn.tree import DecisionTreeRegressor,plot_tree\n",
    "import matplotlib.pyplot as plt\n",
    "import pandas as pd\n",
    "from sklearn.model_selection import StratifiedKFold,GridSearchCV,RandomizedSearchCV\n",
    "from sklearn.model_selection import train_test_split\n",
    "import numpy as np\n",
    "from sklearn.tree import DecisionTreeClassifier,plot_tree,DecisionTreeRegressor\n",
    "import matplotlib.pyplot as plt\n",
    "from sklearn.linear_model import ElasticNet\n",
    "from sklearn.model_selection import KFold,cross_val_score\n",
    "from sklearn.metrics import mean_squared_error\n",
    "from sklearn.preprocessing import StandardScaler,MinMaxScaler \n",
    "from sklearn.model_selection import KFold,GridSearchCV\n",
    "from sklearn.neighbors import KNeighborsRegressor\n",
    "from sklearn.metrics import r2_score\n",
    "from sklearn.preprocessing import StandardScaler,MinMaxScaler \n",
    "from sklearn.pipeline import Pipeline"
   ]
  },
  {
   "cell_type": "code",
   "execution_count": 17,
   "id": "05c5e627",
   "metadata": {},
   "outputs": [],
   "source": [
    "crab=pd.read_csv('train.csv')\n",
    "dum_crab = pd.get_dummies(crab,drop_first=True)\n",
    "X=dum_crab.drop('Age',axis=1)\n",
    "y=dum_crab['Age']                "
   ]
  },
  {
   "cell_type": "code",
   "execution_count": 21,
   "id": "3899acc2",
   "metadata": {},
   "outputs": [
    {
     "name": "stdout",
     "output_type": "stream",
     "text": [
      "Fitting 5 folds for each of 50 candidates, totalling 250 fits\n"
     ]
    },
    {
     "name": "stderr",
     "output_type": "stream",
     "text": [
      "/home/dai/anaconda3/lib/python3.11/site-packages/sklearn/linear_model/_coordinate_descent.py:628: ConvergenceWarning: Objective did not converge. You might want to increase the number of iterations, check the scale of the features or consider increasing regularisation. Duality gap: 1.355e+05, tolerance: 5.983e+01 Linear regression models with null weight for the l1 regularization term are more efficiently fitted using one of the solvers implemented in sklearn.linear_model.Ridge/RidgeCV instead.\n",
      "  model = cd_fast.enet_coordinate_descent(\n"
     ]
    },
    {
     "name": "stdout",
     "output_type": "stream",
     "text": [
      "[CV 1/5] END DTR__max_depth=None, DTR__min_samples_leaf=5, DTR__min_samples_split=2, ELASTIC__alpha=0.001, ELASTIC__l1_ratio=0.0, KNN_PIPE__KNN__n_neighbors=4, KNN_PIPE__SCL=MinMaxScaler();, score=0.537 total time=   1.7s\n"
     ]
    },
    {
     "name": "stderr",
     "output_type": "stream",
     "text": [
      "/home/dai/anaconda3/lib/python3.11/site-packages/sklearn/linear_model/_coordinate_descent.py:628: ConvergenceWarning: Objective did not converge. You might want to increase the number of iterations, check the scale of the features or consider increasing regularisation. Duality gap: 1.359e+05, tolerance: 5.992e+01 Linear regression models with null weight for the l1 regularization term are more efficiently fitted using one of the solvers implemented in sklearn.linear_model.Ridge/RidgeCV instead.\n",
      "  model = cd_fast.enet_coordinate_descent(\n"
     ]
    },
    {
     "name": "stdout",
     "output_type": "stream",
     "text": [
      "[CV 2/5] END DTR__max_depth=None, DTR__min_samples_leaf=5, DTR__min_samples_split=2, ELASTIC__alpha=0.001, ELASTIC__l1_ratio=0.0, KNN_PIPE__KNN__n_neighbors=4, KNN_PIPE__SCL=MinMaxScaler();, score=0.549 total time=   1.6s\n"
     ]
    },
    {
     "name": "stderr",
     "output_type": "stream",
     "text": [
      "/home/dai/anaconda3/lib/python3.11/site-packages/sklearn/linear_model/_coordinate_descent.py:628: ConvergenceWarning: Objective did not converge. You might want to increase the number of iterations, check the scale of the features or consider increasing regularisation. Duality gap: 1.354e+05, tolerance: 5.958e+01 Linear regression models with null weight for the l1 regularization term are more efficiently fitted using one of the solvers implemented in sklearn.linear_model.Ridge/RidgeCV instead.\n",
      "  model = cd_fast.enet_coordinate_descent(\n"
     ]
    },
    {
     "name": "stdout",
     "output_type": "stream",
     "text": [
      "[CV 3/5] END DTR__max_depth=None, DTR__min_samples_leaf=5, DTR__min_samples_split=2, ELASTIC__alpha=0.001, ELASTIC__l1_ratio=0.0, KNN_PIPE__KNN__n_neighbors=4, KNN_PIPE__SCL=MinMaxScaler();, score=0.552 total time=   1.6s\n"
     ]
    },
    {
     "name": "stderr",
     "output_type": "stream",
     "text": [
      "/home/dai/anaconda3/lib/python3.11/site-packages/sklearn/linear_model/_coordinate_descent.py:628: ConvergenceWarning: Objective did not converge. You might want to increase the number of iterations, check the scale of the features or consider increasing regularisation. Duality gap: 1.346e+05, tolerance: 5.979e+01 Linear regression models with null weight for the l1 regularization term are more efficiently fitted using one of the solvers implemented in sklearn.linear_model.Ridge/RidgeCV instead.\n",
      "  model = cd_fast.enet_coordinate_descent(\n"
     ]
    },
    {
     "name": "stdout",
     "output_type": "stream",
     "text": [
      "[CV 4/5] END DTR__max_depth=None, DTR__min_samples_leaf=5, DTR__min_samples_split=2, ELASTIC__alpha=0.001, ELASTIC__l1_ratio=0.0, KNN_PIPE__KNN__n_neighbors=4, KNN_PIPE__SCL=MinMaxScaler();, score=0.538 total time=   1.7s\n"
     ]
    },
    {
     "name": "stderr",
     "output_type": "stream",
     "text": [
      "/home/dai/anaconda3/lib/python3.11/site-packages/sklearn/linear_model/_coordinate_descent.py:628: ConvergenceWarning: Objective did not converge. You might want to increase the number of iterations, check the scale of the features or consider increasing regularisation. Duality gap: 1.346e+05, tolerance: 5.951e+01 Linear regression models with null weight for the l1 regularization term are more efficiently fitted using one of the solvers implemented in sklearn.linear_model.Ridge/RidgeCV instead.\n",
      "  model = cd_fast.enet_coordinate_descent(\n"
     ]
    },
    {
     "name": "stdout",
     "output_type": "stream",
     "text": [
      "[CV 5/5] END DTR__max_depth=None, DTR__min_samples_leaf=5, DTR__min_samples_split=2, ELASTIC__alpha=0.001, ELASTIC__l1_ratio=0.0, KNN_PIPE__KNN__n_neighbors=4, KNN_PIPE__SCL=MinMaxScaler();, score=0.544 total time=   1.7s\n",
      "[CV 1/5] END DTR__max_depth=3, DTR__min_samples_leaf=5, DTR__min_samples_split=2, ELASTIC__alpha=1.2507499999999998, ELASTIC__l1_ratio=0.75, KNN_PIPE__KNN__n_neighbors=3, KNN_PIPE__SCL=StandardScaler();, score=0.496 total time=   1.0s\n",
      "[CV 2/5] END DTR__max_depth=3, DTR__min_samples_leaf=5, DTR__min_samples_split=2, ELASTIC__alpha=1.2507499999999998, ELASTIC__l1_ratio=0.75, KNN_PIPE__KNN__n_neighbors=3, KNN_PIPE__SCL=StandardScaler();, score=0.503 total time=   1.1s\n",
      "[CV 3/5] END DTR__max_depth=3, DTR__min_samples_leaf=5, DTR__min_samples_split=2, ELASTIC__alpha=1.2507499999999998, ELASTIC__l1_ratio=0.75, KNN_PIPE__KNN__n_neighbors=3, KNN_PIPE__SCL=StandardScaler();, score=0.508 total time=   1.1s\n",
      "[CV 4/5] END DTR__max_depth=3, DTR__min_samples_leaf=5, DTR__min_samples_split=2, ELASTIC__alpha=1.2507499999999998, ELASTIC__l1_ratio=0.75, KNN_PIPE__KNN__n_neighbors=3, KNN_PIPE__SCL=StandardScaler();, score=0.496 total time=   1.1s\n",
      "[CV 5/5] END DTR__max_depth=3, DTR__min_samples_leaf=5, DTR__min_samples_split=2, ELASTIC__alpha=1.2507499999999998, ELASTIC__l1_ratio=0.75, KNN_PIPE__KNN__n_neighbors=3, KNN_PIPE__SCL=StandardScaler();, score=0.491 total time=   1.0s\n",
      "[CV 1/5] END DTR__max_depth=5, DTR__min_samples_leaf=5, DTR__min_samples_split=10, ELASTIC__alpha=0.001, ELASTIC__l1_ratio=1.0, KNN_PIPE__KNN__n_neighbors=2, KNN_PIPE__SCL=MinMaxScaler();, score=0.541 total time=   1.0s\n",
      "[CV 2/5] END DTR__max_depth=5, DTR__min_samples_leaf=5, DTR__min_samples_split=10, ELASTIC__alpha=0.001, ELASTIC__l1_ratio=1.0, KNN_PIPE__KNN__n_neighbors=2, KNN_PIPE__SCL=MinMaxScaler();, score=0.554 total time=   1.0s\n",
      "[CV 3/5] END DTR__max_depth=5, DTR__min_samples_leaf=5, DTR__min_samples_split=10, ELASTIC__alpha=0.001, ELASTIC__l1_ratio=1.0, KNN_PIPE__KNN__n_neighbors=2, KNN_PIPE__SCL=MinMaxScaler();, score=0.555 total time=   1.0s\n",
      "[CV 4/5] END DTR__max_depth=5, DTR__min_samples_leaf=5, DTR__min_samples_split=10, ELASTIC__alpha=0.001, ELASTIC__l1_ratio=1.0, KNN_PIPE__KNN__n_neighbors=2, KNN_PIPE__SCL=MinMaxScaler();, score=0.542 total time=   1.1s\n",
      "[CV 5/5] END DTR__max_depth=5, DTR__min_samples_leaf=5, DTR__min_samples_split=10, ELASTIC__alpha=0.001, ELASTIC__l1_ratio=1.0, KNN_PIPE__KNN__n_neighbors=2, KNN_PIPE__SCL=MinMaxScaler();, score=0.543 total time=   0.9s\n",
      "[CV 1/5] END DTR__max_depth=3, DTR__min_samples_leaf=1, DTR__min_samples_split=5, ELASTIC__alpha=2.5004999999999997, ELASTIC__l1_ratio=0.5, KNN_PIPE__KNN__n_neighbors=2, KNN_PIPE__SCL=MinMaxScaler();, score=0.482 total time=   0.7s\n",
      "[CV 2/5] END DTR__max_depth=3, DTR__min_samples_leaf=1, DTR__min_samples_split=5, ELASTIC__alpha=2.5004999999999997, ELASTIC__l1_ratio=0.5, KNN_PIPE__KNN__n_neighbors=2, KNN_PIPE__SCL=MinMaxScaler();, score=0.492 total time=   0.8s\n",
      "[CV 3/5] END DTR__max_depth=3, DTR__min_samples_leaf=1, DTR__min_samples_split=5, ELASTIC__alpha=2.5004999999999997, ELASTIC__l1_ratio=0.5, KNN_PIPE__KNN__n_neighbors=2, KNN_PIPE__SCL=MinMaxScaler();, score=0.492 total time=   0.8s\n",
      "[CV 4/5] END DTR__max_depth=3, DTR__min_samples_leaf=1, DTR__min_samples_split=5, ELASTIC__alpha=2.5004999999999997, ELASTIC__l1_ratio=0.5, KNN_PIPE__KNN__n_neighbors=2, KNN_PIPE__SCL=MinMaxScaler();, score=0.482 total time=   0.8s\n",
      "[CV 5/5] END DTR__max_depth=3, DTR__min_samples_leaf=1, DTR__min_samples_split=5, ELASTIC__alpha=2.5004999999999997, ELASTIC__l1_ratio=0.5, KNN_PIPE__KNN__n_neighbors=2, KNN_PIPE__SCL=MinMaxScaler();, score=0.480 total time=   0.7s\n",
      "[CV 1/5] END DTR__max_depth=5, DTR__min_samples_leaf=10, DTR__min_samples_split=10, ELASTIC__alpha=3.75025, ELASTIC__l1_ratio=1.0, KNN_PIPE__KNN__n_neighbors=4, KNN_PIPE__SCL=MinMaxScaler();, score=0.515 total time=   0.8s\n",
      "[CV 2/5] END DTR__max_depth=5, DTR__min_samples_leaf=10, DTR__min_samples_split=10, ELASTIC__alpha=3.75025, ELASTIC__l1_ratio=1.0, KNN_PIPE__KNN__n_neighbors=4, KNN_PIPE__SCL=MinMaxScaler();, score=0.525 total time=   0.9s\n",
      "[CV 3/5] END DTR__max_depth=5, DTR__min_samples_leaf=10, DTR__min_samples_split=10, ELASTIC__alpha=3.75025, ELASTIC__l1_ratio=1.0, KNN_PIPE__KNN__n_neighbors=4, KNN_PIPE__SCL=MinMaxScaler();, score=0.527 total time=   0.8s\n",
      "[CV 4/5] END DTR__max_depth=5, DTR__min_samples_leaf=10, DTR__min_samples_split=10, ELASTIC__alpha=3.75025, ELASTIC__l1_ratio=1.0, KNN_PIPE__KNN__n_neighbors=4, KNN_PIPE__SCL=MinMaxScaler();, score=0.517 total time=   0.9s\n",
      "[CV 5/5] END DTR__max_depth=5, DTR__min_samples_leaf=10, DTR__min_samples_split=10, ELASTIC__alpha=3.75025, ELASTIC__l1_ratio=1.0, KNN_PIPE__KNN__n_neighbors=4, KNN_PIPE__SCL=MinMaxScaler();, score=0.512 total time=   0.8s\n",
      "[CV 1/5] END DTR__max_depth=None, DTR__min_samples_leaf=1, DTR__min_samples_split=2, ELASTIC__alpha=2.5004999999999997, ELASTIC__l1_ratio=0.25, KNN_PIPE__KNN__n_neighbors=3, KNN_PIPE__SCL=StandardScaler();, score=0.492 total time=   1.5s\n",
      "[CV 2/5] END DTR__max_depth=None, DTR__min_samples_leaf=1, DTR__min_samples_split=2, ELASTIC__alpha=2.5004999999999997, ELASTIC__l1_ratio=0.25, KNN_PIPE__KNN__n_neighbors=3, KNN_PIPE__SCL=StandardScaler();, score=0.494 total time=   1.7s\n",
      "[CV 3/5] END DTR__max_depth=None, DTR__min_samples_leaf=1, DTR__min_samples_split=2, ELASTIC__alpha=2.5004999999999997, ELASTIC__l1_ratio=0.25, KNN_PIPE__KNN__n_neighbors=3, KNN_PIPE__SCL=StandardScaler();, score=0.505 total time=   1.5s\n",
      "[CV 4/5] END DTR__max_depth=None, DTR__min_samples_leaf=1, DTR__min_samples_split=2, ELASTIC__alpha=2.5004999999999997, ELASTIC__l1_ratio=0.25, KNN_PIPE__KNN__n_neighbors=3, KNN_PIPE__SCL=StandardScaler();, score=0.490 total time=   1.5s\n",
      "[CV 5/5] END DTR__max_depth=None, DTR__min_samples_leaf=1, DTR__min_samples_split=2, ELASTIC__alpha=2.5004999999999997, ELASTIC__l1_ratio=0.25, KNN_PIPE__KNN__n_neighbors=3, KNN_PIPE__SCL=StandardScaler();, score=0.496 total time=   1.6s\n",
      "[CV 1/5] END DTR__max_depth=3, DTR__min_samples_leaf=5, DTR__min_samples_split=2, ELASTIC__alpha=3.75025, ELASTIC__l1_ratio=0.75, KNN_PIPE__KNN__n_neighbors=3, KNN_PIPE__SCL=StandardScaler();, score=0.489 total time=   1.0s\n",
      "[CV 2/5] END DTR__max_depth=3, DTR__min_samples_leaf=5, DTR__min_samples_split=2, ELASTIC__alpha=3.75025, ELASTIC__l1_ratio=0.75, KNN_PIPE__KNN__n_neighbors=3, KNN_PIPE__SCL=StandardScaler();, score=0.495 total time=   1.1s\n",
      "[CV 3/5] END DTR__max_depth=3, DTR__min_samples_leaf=5, DTR__min_samples_split=2, ELASTIC__alpha=3.75025, ELASTIC__l1_ratio=0.75, KNN_PIPE__KNN__n_neighbors=3, KNN_PIPE__SCL=StandardScaler();, score=0.500 total time=   1.0s\n",
      "[CV 4/5] END DTR__max_depth=3, DTR__min_samples_leaf=5, DTR__min_samples_split=2, ELASTIC__alpha=3.75025, ELASTIC__l1_ratio=0.75, KNN_PIPE__KNN__n_neighbors=3, KNN_PIPE__SCL=StandardScaler();, score=0.488 total time=   1.0s\n",
      "[CV 5/5] END DTR__max_depth=3, DTR__min_samples_leaf=5, DTR__min_samples_split=2, ELASTIC__alpha=3.75025, ELASTIC__l1_ratio=0.75, KNN_PIPE__KNN__n_neighbors=3, KNN_PIPE__SCL=StandardScaler();, score=0.484 total time=   1.0s\n",
      "[CV 1/5] END DTR__max_depth=3, DTR__min_samples_leaf=5, DTR__min_samples_split=5, ELASTIC__alpha=3.75025, ELASTIC__l1_ratio=0.75, KNN_PIPE__KNN__n_neighbors=1, KNN_PIPE__SCL=MinMaxScaler();, score=0.457 total time=   0.6s\n",
      "[CV 2/5] END DTR__max_depth=3, DTR__min_samples_leaf=5, DTR__min_samples_split=5, ELASTIC__alpha=3.75025, ELASTIC__l1_ratio=0.75, KNN_PIPE__KNN__n_neighbors=1, KNN_PIPE__SCL=MinMaxScaler();, score=0.468 total time=   0.6s\n",
      "[CV 3/5] END DTR__max_depth=3, DTR__min_samples_leaf=5, DTR__min_samples_split=5, ELASTIC__alpha=3.75025, ELASTIC__l1_ratio=0.75, KNN_PIPE__KNN__n_neighbors=1, KNN_PIPE__SCL=MinMaxScaler();, score=0.464 total time=   0.6s\n",
      "[CV 4/5] END DTR__max_depth=3, DTR__min_samples_leaf=5, DTR__min_samples_split=5, ELASTIC__alpha=3.75025, ELASTIC__l1_ratio=0.75, KNN_PIPE__KNN__n_neighbors=1, KNN_PIPE__SCL=MinMaxScaler();, score=0.459 total time=   0.6s\n",
      "[CV 5/5] END DTR__max_depth=3, DTR__min_samples_leaf=5, DTR__min_samples_split=5, ELASTIC__alpha=3.75025, ELASTIC__l1_ratio=0.75, KNN_PIPE__KNN__n_neighbors=1, KNN_PIPE__SCL=MinMaxScaler();, score=0.459 total time=   0.7s\n",
      "[CV 1/5] END DTR__max_depth=3, DTR__min_samples_leaf=5, DTR__min_samples_split=2, ELASTIC__alpha=2.5004999999999997, ELASTIC__l1_ratio=0.25, KNN_PIPE__KNN__n_neighbors=2, KNN_PIPE__SCL=StandardScaler();, score=0.493 total time=   0.9s\n"
     ]
    },
    {
     "name": "stdout",
     "output_type": "stream",
     "text": [
      "[CV 2/5] END DTR__max_depth=3, DTR__min_samples_leaf=5, DTR__min_samples_split=2, ELASTIC__alpha=2.5004999999999997, ELASTIC__l1_ratio=0.25, KNN_PIPE__KNN__n_neighbors=2, KNN_PIPE__SCL=StandardScaler();, score=0.500 total time=   1.0s\n",
      "[CV 3/5] END DTR__max_depth=3, DTR__min_samples_leaf=5, DTR__min_samples_split=2, ELASTIC__alpha=2.5004999999999997, ELASTIC__l1_ratio=0.25, KNN_PIPE__KNN__n_neighbors=2, KNN_PIPE__SCL=StandardScaler();, score=0.504 total time=   1.0s\n",
      "[CV 4/5] END DTR__max_depth=3, DTR__min_samples_leaf=5, DTR__min_samples_split=2, ELASTIC__alpha=2.5004999999999997, ELASTIC__l1_ratio=0.25, KNN_PIPE__KNN__n_neighbors=2, KNN_PIPE__SCL=StandardScaler();, score=0.492 total time=   1.0s\n",
      "[CV 5/5] END DTR__max_depth=3, DTR__min_samples_leaf=5, DTR__min_samples_split=2, ELASTIC__alpha=2.5004999999999997, ELASTIC__l1_ratio=0.25, KNN_PIPE__KNN__n_neighbors=2, KNN_PIPE__SCL=StandardScaler();, score=0.489 total time=   1.0s\n",
      "[CV 1/5] END DTR__max_depth=None, DTR__min_samples_leaf=5, DTR__min_samples_split=5, ELASTIC__alpha=2.5004999999999997, ELASTIC__l1_ratio=0.25, KNN_PIPE__KNN__n_neighbors=1, KNN_PIPE__SCL=MinMaxScaler();, score=0.484 total time=   1.0s\n",
      "[CV 2/5] END DTR__max_depth=None, DTR__min_samples_leaf=5, DTR__min_samples_split=5, ELASTIC__alpha=2.5004999999999997, ELASTIC__l1_ratio=0.25, KNN_PIPE__KNN__n_neighbors=1, KNN_PIPE__SCL=MinMaxScaler();, score=0.498 total time=   1.1s\n",
      "[CV 3/5] END DTR__max_depth=None, DTR__min_samples_leaf=5, DTR__min_samples_split=5, ELASTIC__alpha=2.5004999999999997, ELASTIC__l1_ratio=0.25, KNN_PIPE__KNN__n_neighbors=1, KNN_PIPE__SCL=MinMaxScaler();, score=0.495 total time=   1.1s\n",
      "[CV 4/5] END DTR__max_depth=None, DTR__min_samples_leaf=5, DTR__min_samples_split=5, ELASTIC__alpha=2.5004999999999997, ELASTIC__l1_ratio=0.25, KNN_PIPE__KNN__n_neighbors=1, KNN_PIPE__SCL=MinMaxScaler();, score=0.486 total time=   1.2s\n",
      "[CV 5/5] END DTR__max_depth=None, DTR__min_samples_leaf=5, DTR__min_samples_split=5, ELASTIC__alpha=2.5004999999999997, ELASTIC__l1_ratio=0.25, KNN_PIPE__KNN__n_neighbors=1, KNN_PIPE__SCL=MinMaxScaler();, score=0.494 total time=   1.1s\n",
      "[CV 1/5] END DTR__max_depth=5, DTR__min_samples_leaf=5, DTR__min_samples_split=10, ELASTIC__alpha=3.75025, ELASTIC__l1_ratio=0.75, KNN_PIPE__KNN__n_neighbors=3, KNN_PIPE__SCL=StandardScaler();, score=0.515 total time=   1.1s\n",
      "[CV 2/5] END DTR__max_depth=5, DTR__min_samples_leaf=5, DTR__min_samples_split=10, ELASTIC__alpha=3.75025, ELASTIC__l1_ratio=0.75, KNN_PIPE__KNN__n_neighbors=3, KNN_PIPE__SCL=StandardScaler();, score=0.523 total time=   1.1s\n",
      "[CV 3/5] END DTR__max_depth=5, DTR__min_samples_leaf=5, DTR__min_samples_split=10, ELASTIC__alpha=3.75025, ELASTIC__l1_ratio=0.75, KNN_PIPE__KNN__n_neighbors=3, KNN_PIPE__SCL=StandardScaler();, score=0.528 total time=   1.1s\n",
      "[CV 4/5] END DTR__max_depth=5, DTR__min_samples_leaf=5, DTR__min_samples_split=10, ELASTIC__alpha=3.75025, ELASTIC__l1_ratio=0.75, KNN_PIPE__KNN__n_neighbors=3, KNN_PIPE__SCL=StandardScaler();, score=0.515 total time=   1.1s\n",
      "[CV 5/5] END DTR__max_depth=5, DTR__min_samples_leaf=5, DTR__min_samples_split=10, ELASTIC__alpha=3.75025, ELASTIC__l1_ratio=0.75, KNN_PIPE__KNN__n_neighbors=3, KNN_PIPE__SCL=StandardScaler();, score=0.511 total time=   1.1s\n",
      "[CV 1/5] END DTR__max_depth=3, DTR__min_samples_leaf=10, DTR__min_samples_split=10, ELASTIC__alpha=2.5004999999999997, ELASTIC__l1_ratio=0.75, KNN_PIPE__KNN__n_neighbors=2, KNN_PIPE__SCL=StandardScaler();, score=0.482 total time=   0.9s\n",
      "[CV 2/5] END DTR__max_depth=3, DTR__min_samples_leaf=10, DTR__min_samples_split=10, ELASTIC__alpha=2.5004999999999997, ELASTIC__l1_ratio=0.75, KNN_PIPE__KNN__n_neighbors=2, KNN_PIPE__SCL=StandardScaler();, score=0.489 total time=   1.0s\n",
      "[CV 3/5] END DTR__max_depth=3, DTR__min_samples_leaf=10, DTR__min_samples_split=10, ELASTIC__alpha=2.5004999999999997, ELASTIC__l1_ratio=0.75, KNN_PIPE__KNN__n_neighbors=2, KNN_PIPE__SCL=StandardScaler();, score=0.492 total time=   1.0s\n",
      "[CV 4/5] END DTR__max_depth=3, DTR__min_samples_leaf=10, DTR__min_samples_split=10, ELASTIC__alpha=2.5004999999999997, ELASTIC__l1_ratio=0.75, KNN_PIPE__KNN__n_neighbors=2, KNN_PIPE__SCL=StandardScaler();, score=0.481 total time=   1.0s\n",
      "[CV 5/5] END DTR__max_depth=3, DTR__min_samples_leaf=10, DTR__min_samples_split=10, ELASTIC__alpha=2.5004999999999997, ELASTIC__l1_ratio=0.75, KNN_PIPE__KNN__n_neighbors=2, KNN_PIPE__SCL=StandardScaler();, score=0.478 total time=   0.9s\n",
      "[CV 1/5] END DTR__max_depth=5, DTR__min_samples_leaf=10, DTR__min_samples_split=2, ELASTIC__alpha=2.5004999999999997, ELASTIC__l1_ratio=1.0, KNN_PIPE__KNN__n_neighbors=1, KNN_PIPE__SCL=StandardScaler();, score=0.487 total time=   0.9s\n",
      "[CV 2/5] END DTR__max_depth=5, DTR__min_samples_leaf=10, DTR__min_samples_split=2, ELASTIC__alpha=2.5004999999999997, ELASTIC__l1_ratio=1.0, KNN_PIPE__KNN__n_neighbors=1, KNN_PIPE__SCL=StandardScaler();, score=0.494 total time=   0.9s\n",
      "[CV 3/5] END DTR__max_depth=5, DTR__min_samples_leaf=10, DTR__min_samples_split=2, ELASTIC__alpha=2.5004999999999997, ELASTIC__l1_ratio=1.0, KNN_PIPE__KNN__n_neighbors=1, KNN_PIPE__SCL=StandardScaler();, score=0.496 total time=   0.8s\n",
      "[CV 4/5] END DTR__max_depth=5, DTR__min_samples_leaf=10, DTR__min_samples_split=2, ELASTIC__alpha=2.5004999999999997, ELASTIC__l1_ratio=1.0, KNN_PIPE__KNN__n_neighbors=1, KNN_PIPE__SCL=StandardScaler();, score=0.485 total time=   0.8s\n",
      "[CV 5/5] END DTR__max_depth=5, DTR__min_samples_leaf=10, DTR__min_samples_split=2, ELASTIC__alpha=2.5004999999999997, ELASTIC__l1_ratio=1.0, KNN_PIPE__KNN__n_neighbors=1, KNN_PIPE__SCL=StandardScaler();, score=0.483 total time=   0.9s\n",
      "[CV 1/5] END DTR__max_depth=None, DTR__min_samples_leaf=5, DTR__min_samples_split=2, ELASTIC__alpha=5.0, ELASTIC__l1_ratio=1.0, KNN_PIPE__KNN__n_neighbors=3, KNN_PIPE__SCL=MinMaxScaler();, score=0.505 total time=   1.1s\n",
      "[CV 2/5] END DTR__max_depth=None, DTR__min_samples_leaf=5, DTR__min_samples_split=2, ELASTIC__alpha=5.0, ELASTIC__l1_ratio=1.0, KNN_PIPE__KNN__n_neighbors=3, KNN_PIPE__SCL=MinMaxScaler();, score=0.517 total time=   1.1s\n",
      "[CV 3/5] END DTR__max_depth=None, DTR__min_samples_leaf=5, DTR__min_samples_split=2, ELASTIC__alpha=5.0, ELASTIC__l1_ratio=1.0, KNN_PIPE__KNN__n_neighbors=3, KNN_PIPE__SCL=MinMaxScaler();, score=0.520 total time=   1.1s\n",
      "[CV 4/5] END DTR__max_depth=None, DTR__min_samples_leaf=5, DTR__min_samples_split=2, ELASTIC__alpha=5.0, ELASTIC__l1_ratio=1.0, KNN_PIPE__KNN__n_neighbors=3, KNN_PIPE__SCL=MinMaxScaler();, score=0.506 total time=   1.1s\n",
      "[CV 5/5] END DTR__max_depth=None, DTR__min_samples_leaf=5, DTR__min_samples_split=2, ELASTIC__alpha=5.0, ELASTIC__l1_ratio=1.0, KNN_PIPE__KNN__n_neighbors=3, KNN_PIPE__SCL=MinMaxScaler();, score=0.511 total time=   1.1s\n",
      "[CV 1/5] END DTR__max_depth=3, DTR__min_samples_leaf=10, DTR__min_samples_split=5, ELASTIC__alpha=0.001, ELASTIC__l1_ratio=1.0, KNN_PIPE__KNN__n_neighbors=1, KNN_PIPE__SCL=MinMaxScaler();, score=0.505 total time=   0.8s\n",
      "[CV 2/5] END DTR__max_depth=3, DTR__min_samples_leaf=10, DTR__min_samples_split=5, ELASTIC__alpha=0.001, ELASTIC__l1_ratio=1.0, KNN_PIPE__KNN__n_neighbors=1, KNN_PIPE__SCL=MinMaxScaler();, score=0.517 total time=   0.8s\n",
      "[CV 3/5] END DTR__max_depth=3, DTR__min_samples_leaf=10, DTR__min_samples_split=5, ELASTIC__alpha=0.001, ELASTIC__l1_ratio=1.0, KNN_PIPE__KNN__n_neighbors=1, KNN_PIPE__SCL=MinMaxScaler();, score=0.514 total time=   0.8s\n",
      "[CV 4/5] END DTR__max_depth=3, DTR__min_samples_leaf=10, DTR__min_samples_split=5, ELASTIC__alpha=0.001, ELASTIC__l1_ratio=1.0, KNN_PIPE__KNN__n_neighbors=1, KNN_PIPE__SCL=MinMaxScaler();, score=0.506 total time=   0.8s\n",
      "[CV 5/5] END DTR__max_depth=3, DTR__min_samples_leaf=10, DTR__min_samples_split=5, ELASTIC__alpha=0.001, ELASTIC__l1_ratio=1.0, KNN_PIPE__KNN__n_neighbors=1, KNN_PIPE__SCL=MinMaxScaler();, score=0.510 total time=   0.8s\n",
      "[CV 1/5] END DTR__max_depth=None, DTR__min_samples_leaf=10, DTR__min_samples_split=10, ELASTIC__alpha=3.75025, ELASTIC__l1_ratio=1.0, KNN_PIPE__KNN__n_neighbors=3, KNN_PIPE__SCL=MinMaxScaler();, score=0.519 total time=   1.1s\n",
      "[CV 2/5] END DTR__max_depth=None, DTR__min_samples_leaf=10, DTR__min_samples_split=10, ELASTIC__alpha=3.75025, ELASTIC__l1_ratio=1.0, KNN_PIPE__KNN__n_neighbors=3, KNN_PIPE__SCL=MinMaxScaler();, score=0.532 total time=   1.0s\n"
     ]
    },
    {
     "name": "stdout",
     "output_type": "stream",
     "text": [
      "[CV 3/5] END DTR__max_depth=None, DTR__min_samples_leaf=10, DTR__min_samples_split=10, ELASTIC__alpha=3.75025, ELASTIC__l1_ratio=1.0, KNN_PIPE__KNN__n_neighbors=3, KNN_PIPE__SCL=MinMaxScaler();, score=0.533 total time=   1.0s\n",
      "[CV 4/5] END DTR__max_depth=None, DTR__min_samples_leaf=10, DTR__min_samples_split=10, ELASTIC__alpha=3.75025, ELASTIC__l1_ratio=1.0, KNN_PIPE__KNN__n_neighbors=3, KNN_PIPE__SCL=MinMaxScaler();, score=0.518 total time=   1.0s\n",
      "[CV 5/5] END DTR__max_depth=None, DTR__min_samples_leaf=10, DTR__min_samples_split=10, ELASTIC__alpha=3.75025, ELASTIC__l1_ratio=1.0, KNN_PIPE__KNN__n_neighbors=3, KNN_PIPE__SCL=MinMaxScaler();, score=0.520 total time=   1.0s\n",
      "[CV 1/5] END DTR__max_depth=5, DTR__min_samples_leaf=1, DTR__min_samples_split=5, ELASTIC__alpha=5.0, ELASTIC__l1_ratio=0.75, KNN_PIPE__KNN__n_neighbors=3, KNN_PIPE__SCL=MinMaxScaler();, score=0.510 total time=   0.7s\n",
      "[CV 2/5] END DTR__max_depth=5, DTR__min_samples_leaf=1, DTR__min_samples_split=5, ELASTIC__alpha=5.0, ELASTIC__l1_ratio=0.75, KNN_PIPE__KNN__n_neighbors=3, KNN_PIPE__SCL=MinMaxScaler();, score=0.522 total time=   0.8s\n",
      "[CV 3/5] END DTR__max_depth=5, DTR__min_samples_leaf=1, DTR__min_samples_split=5, ELASTIC__alpha=5.0, ELASTIC__l1_ratio=0.75, KNN_PIPE__KNN__n_neighbors=3, KNN_PIPE__SCL=MinMaxScaler();, score=0.524 total time=   0.8s\n",
      "[CV 4/5] END DTR__max_depth=5, DTR__min_samples_leaf=1, DTR__min_samples_split=5, ELASTIC__alpha=5.0, ELASTIC__l1_ratio=0.75, KNN_PIPE__KNN__n_neighbors=3, KNN_PIPE__SCL=MinMaxScaler();, score=0.513 total time=   0.8s\n",
      "[CV 5/5] END DTR__max_depth=5, DTR__min_samples_leaf=1, DTR__min_samples_split=5, ELASTIC__alpha=5.0, ELASTIC__l1_ratio=0.75, KNN_PIPE__KNN__n_neighbors=3, KNN_PIPE__SCL=MinMaxScaler();, score=0.510 total time=   0.8s\n",
      "[CV 1/5] END DTR__max_depth=None, DTR__min_samples_leaf=5, DTR__min_samples_split=2, ELASTIC__alpha=0.001, ELASTIC__l1_ratio=0.25, KNN_PIPE__KNN__n_neighbors=2, KNN_PIPE__SCL=StandardScaler();, score=0.525 total time=   1.6s\n",
      "[CV 2/5] END DTR__max_depth=None, DTR__min_samples_leaf=5, DTR__min_samples_split=2, ELASTIC__alpha=0.001, ELASTIC__l1_ratio=0.25, KNN_PIPE__KNN__n_neighbors=2, KNN_PIPE__SCL=StandardScaler();, score=0.537 total time=   1.8s\n",
      "[CV 3/5] END DTR__max_depth=None, DTR__min_samples_leaf=5, DTR__min_samples_split=2, ELASTIC__alpha=0.001, ELASTIC__l1_ratio=0.25, KNN_PIPE__KNN__n_neighbors=2, KNN_PIPE__SCL=StandardScaler();, score=0.540 total time=   1.7s\n",
      "[CV 4/5] END DTR__max_depth=None, DTR__min_samples_leaf=5, DTR__min_samples_split=2, ELASTIC__alpha=0.001, ELASTIC__l1_ratio=0.25, KNN_PIPE__KNN__n_neighbors=2, KNN_PIPE__SCL=StandardScaler();, score=0.525 total time=   1.5s\n",
      "[CV 5/5] END DTR__max_depth=None, DTR__min_samples_leaf=5, DTR__min_samples_split=2, ELASTIC__alpha=0.001, ELASTIC__l1_ratio=0.25, KNN_PIPE__KNN__n_neighbors=2, KNN_PIPE__SCL=StandardScaler();, score=0.533 total time=   1.9s\n",
      "[CV 1/5] END DTR__max_depth=3, DTR__min_samples_leaf=10, DTR__min_samples_split=10, ELASTIC__alpha=0.001, ELASTIC__l1_ratio=0.75, KNN_PIPE__KNN__n_neighbors=4, KNN_PIPE__SCL=StandardScaler();, score=0.540 total time=   1.4s\n",
      "[CV 2/5] END DTR__max_depth=3, DTR__min_samples_leaf=10, DTR__min_samples_split=10, ELASTIC__alpha=0.001, ELASTIC__l1_ratio=0.75, KNN_PIPE__KNN__n_neighbors=4, KNN_PIPE__SCL=StandardScaler();, score=0.548 total time=   1.2s\n",
      "[CV 3/5] END DTR__max_depth=3, DTR__min_samples_leaf=10, DTR__min_samples_split=10, ELASTIC__alpha=0.001, ELASTIC__l1_ratio=0.75, KNN_PIPE__KNN__n_neighbors=4, KNN_PIPE__SCL=StandardScaler();, score=0.554 total time=   1.2s\n",
      "[CV 4/5] END DTR__max_depth=3, DTR__min_samples_leaf=10, DTR__min_samples_split=10, ELASTIC__alpha=0.001, ELASTIC__l1_ratio=0.75, KNN_PIPE__KNN__n_neighbors=4, KNN_PIPE__SCL=StandardScaler();, score=0.538 total time=   1.2s\n",
      "[CV 5/5] END DTR__max_depth=3, DTR__min_samples_leaf=10, DTR__min_samples_split=10, ELASTIC__alpha=0.001, ELASTIC__l1_ratio=0.75, KNN_PIPE__KNN__n_neighbors=4, KNN_PIPE__SCL=StandardScaler();, score=0.538 total time=   1.2s\n",
      "[CV 1/5] END DTR__max_depth=3, DTR__min_samples_leaf=1, DTR__min_samples_split=5, ELASTIC__alpha=2.5004999999999997, ELASTIC__l1_ratio=0.75, KNN_PIPE__KNN__n_neighbors=4, KNN_PIPE__SCL=StandardScaler();, score=0.492 total time=   1.1s\n",
      "[CV 2/5] END DTR__max_depth=3, DTR__min_samples_leaf=1, DTR__min_samples_split=5, ELASTIC__alpha=2.5004999999999997, ELASTIC__l1_ratio=0.75, KNN_PIPE__KNN__n_neighbors=4, KNN_PIPE__SCL=StandardScaler();, score=0.498 total time=   1.1s\n",
      "[CV 3/5] END DTR__max_depth=3, DTR__min_samples_leaf=1, DTR__min_samples_split=5, ELASTIC__alpha=2.5004999999999997, ELASTIC__l1_ratio=0.75, KNN_PIPE__KNN__n_neighbors=4, KNN_PIPE__SCL=StandardScaler();, score=0.504 total time=   1.1s\n",
      "[CV 4/5] END DTR__max_depth=3, DTR__min_samples_leaf=1, DTR__min_samples_split=5, ELASTIC__alpha=2.5004999999999997, ELASTIC__l1_ratio=0.75, KNN_PIPE__KNN__n_neighbors=4, KNN_PIPE__SCL=StandardScaler();, score=0.491 total time=   1.1s\n",
      "[CV 5/5] END DTR__max_depth=3, DTR__min_samples_leaf=1, DTR__min_samples_split=5, ELASTIC__alpha=2.5004999999999997, ELASTIC__l1_ratio=0.75, KNN_PIPE__KNN__n_neighbors=4, KNN_PIPE__SCL=StandardScaler();, score=0.487 total time=   1.1s\n"
     ]
    },
    {
     "name": "stderr",
     "output_type": "stream",
     "text": [
      "/home/dai/anaconda3/lib/python3.11/site-packages/sklearn/linear_model/_coordinate_descent.py:628: ConvergenceWarning: Objective did not converge. You might want to increase the number of iterations, check the scale of the features or consider increasing regularisation. Duality gap: 1.740e+05, tolerance: 5.983e+01 Linear regression models with null weight for the l1 regularization term are more efficiently fitted using one of the solvers implemented in sklearn.linear_model.Ridge/RidgeCV instead.\n",
      "  model = cd_fast.enet_coordinate_descent(\n"
     ]
    },
    {
     "name": "stdout",
     "output_type": "stream",
     "text": [
      "[CV 1/5] END DTR__max_depth=None, DTR__min_samples_leaf=1, DTR__min_samples_split=5, ELASTIC__alpha=2.5004999999999997, ELASTIC__l1_ratio=0.0, KNN_PIPE__KNN__n_neighbors=3, KNN_PIPE__SCL=StandardScaler();, score=0.503 total time=   2.1s\n"
     ]
    },
    {
     "name": "stderr",
     "output_type": "stream",
     "text": [
      "/home/dai/anaconda3/lib/python3.11/site-packages/sklearn/linear_model/_coordinate_descent.py:628: ConvergenceWarning: Objective did not converge. You might want to increase the number of iterations, check the scale of the features or consider increasing regularisation. Duality gap: 1.745e+05, tolerance: 5.992e+01 Linear regression models with null weight for the l1 regularization term are more efficiently fitted using one of the solvers implemented in sklearn.linear_model.Ridge/RidgeCV instead.\n",
      "  model = cd_fast.enet_coordinate_descent(\n"
     ]
    },
    {
     "name": "stdout",
     "output_type": "stream",
     "text": [
      "[CV 2/5] END DTR__max_depth=None, DTR__min_samples_leaf=1, DTR__min_samples_split=5, ELASTIC__alpha=2.5004999999999997, ELASTIC__l1_ratio=0.0, KNN_PIPE__KNN__n_neighbors=3, KNN_PIPE__SCL=StandardScaler();, score=0.511 total time=   2.0s\n"
     ]
    },
    {
     "name": "stderr",
     "output_type": "stream",
     "text": [
      "/home/dai/anaconda3/lib/python3.11/site-packages/sklearn/linear_model/_coordinate_descent.py:628: ConvergenceWarning: Objective did not converge. You might want to increase the number of iterations, check the scale of the features or consider increasing regularisation. Duality gap: 1.740e+05, tolerance: 5.958e+01 Linear regression models with null weight for the l1 regularization term are more efficiently fitted using one of the solvers implemented in sklearn.linear_model.Ridge/RidgeCV instead.\n",
      "  model = cd_fast.enet_coordinate_descent(\n"
     ]
    },
    {
     "name": "stdout",
     "output_type": "stream",
     "text": [
      "[CV 3/5] END DTR__max_depth=None, DTR__min_samples_leaf=1, DTR__min_samples_split=5, ELASTIC__alpha=2.5004999999999997, ELASTIC__l1_ratio=0.0, KNN_PIPE__KNN__n_neighbors=3, KNN_PIPE__SCL=StandardScaler();, score=0.516 total time=   2.1s\n"
     ]
    },
    {
     "name": "stderr",
     "output_type": "stream",
     "text": [
      "/home/dai/anaconda3/lib/python3.11/site-packages/sklearn/linear_model/_coordinate_descent.py:628: ConvergenceWarning: Objective did not converge. You might want to increase the number of iterations, check the scale of the features or consider increasing regularisation. Duality gap: 1.733e+05, tolerance: 5.979e+01 Linear regression models with null weight for the l1 regularization term are more efficiently fitted using one of the solvers implemented in sklearn.linear_model.Ridge/RidgeCV instead.\n",
      "  model = cd_fast.enet_coordinate_descent(\n"
     ]
    },
    {
     "name": "stdout",
     "output_type": "stream",
     "text": [
      "[CV 4/5] END DTR__max_depth=None, DTR__min_samples_leaf=1, DTR__min_samples_split=5, ELASTIC__alpha=2.5004999999999997, ELASTIC__l1_ratio=0.0, KNN_PIPE__KNN__n_neighbors=3, KNN_PIPE__SCL=StandardScaler();, score=0.503 total time=   2.0s\n"
     ]
    },
    {
     "name": "stderr",
     "output_type": "stream",
     "text": [
      "/home/dai/anaconda3/lib/python3.11/site-packages/sklearn/linear_model/_coordinate_descent.py:628: ConvergenceWarning: Objective did not converge. You might want to increase the number of iterations, check the scale of the features or consider increasing regularisation. Duality gap: 1.725e+05, tolerance: 5.951e+01 Linear regression models with null weight for the l1 regularization term are more efficiently fitted using one of the solvers implemented in sklearn.linear_model.Ridge/RidgeCV instead.\n",
      "  model = cd_fast.enet_coordinate_descent(\n"
     ]
    },
    {
     "name": "stdout",
     "output_type": "stream",
     "text": [
      "[CV 5/5] END DTR__max_depth=None, DTR__min_samples_leaf=1, DTR__min_samples_split=5, ELASTIC__alpha=2.5004999999999997, ELASTIC__l1_ratio=0.0, KNN_PIPE__KNN__n_neighbors=3, KNN_PIPE__SCL=StandardScaler();, score=0.508 total time=   2.0s\n",
      "[CV 1/5] END DTR__max_depth=5, DTR__min_samples_leaf=1, DTR__min_samples_split=2, ELASTIC__alpha=1.2507499999999998, ELASTIC__l1_ratio=1.0, KNN_PIPE__KNN__n_neighbors=1, KNN_PIPE__SCL=MinMaxScaler();, score=0.485 total time=   0.8s\n",
      "[CV 2/5] END DTR__max_depth=5, DTR__min_samples_leaf=1, DTR__min_samples_split=2, ELASTIC__alpha=1.2507499999999998, ELASTIC__l1_ratio=1.0, KNN_PIPE__KNN__n_neighbors=1, KNN_PIPE__SCL=MinMaxScaler();, score=0.497 total time=   0.7s\n",
      "[CV 3/5] END DTR__max_depth=5, DTR__min_samples_leaf=1, DTR__min_samples_split=2, ELASTIC__alpha=1.2507499999999998, ELASTIC__l1_ratio=1.0, KNN_PIPE__KNN__n_neighbors=1, KNN_PIPE__SCL=MinMaxScaler();, score=0.493 total time=   0.8s\n",
      "[CV 4/5] END DTR__max_depth=5, DTR__min_samples_leaf=1, DTR__min_samples_split=2, ELASTIC__alpha=1.2507499999999998, ELASTIC__l1_ratio=1.0, KNN_PIPE__KNN__n_neighbors=1, KNN_PIPE__SCL=MinMaxScaler();, score=0.488 total time=   0.8s\n",
      "[CV 5/5] END DTR__max_depth=5, DTR__min_samples_leaf=1, DTR__min_samples_split=2, ELASTIC__alpha=1.2507499999999998, ELASTIC__l1_ratio=1.0, KNN_PIPE__KNN__n_neighbors=1, KNN_PIPE__SCL=MinMaxScaler();, score=0.488 total time=   0.7s\n"
     ]
    },
    {
     "name": "stderr",
     "output_type": "stream",
     "text": [
      "/home/dai/anaconda3/lib/python3.11/site-packages/sklearn/linear_model/_coordinate_descent.py:628: ConvergenceWarning: Objective did not converge. You might want to increase the number of iterations, check the scale of the features or consider increasing regularisation. Duality gap: 1.649e+05, tolerance: 5.983e+01 Linear regression models with null weight for the l1 regularization term are more efficiently fitted using one of the solvers implemented in sklearn.linear_model.Ridge/RidgeCV instead.\n",
      "  model = cd_fast.enet_coordinate_descent(\n"
     ]
    },
    {
     "name": "stdout",
     "output_type": "stream",
     "text": [
      "[CV 1/5] END DTR__max_depth=5, DTR__min_samples_leaf=1, DTR__min_samples_split=2, ELASTIC__alpha=1.2507499999999998, ELASTIC__l1_ratio=0.0, KNN_PIPE__KNN__n_neighbors=2, KNN_PIPE__SCL=StandardScaler();, score=0.529 total time=   1.4s\n"
     ]
    },
    {
     "name": "stderr",
     "output_type": "stream",
     "text": [
      "/home/dai/anaconda3/lib/python3.11/site-packages/sklearn/linear_model/_coordinate_descent.py:628: ConvergenceWarning: Objective did not converge. You might want to increase the number of iterations, check the scale of the features or consider increasing regularisation. Duality gap: 1.654e+05, tolerance: 5.992e+01 Linear regression models with null weight for the l1 regularization term are more efficiently fitted using one of the solvers implemented in sklearn.linear_model.Ridge/RidgeCV instead.\n",
      "  model = cd_fast.enet_coordinate_descent(\n"
     ]
    },
    {
     "name": "stdout",
     "output_type": "stream",
     "text": [
      "[CV 2/5] END DTR__max_depth=5, DTR__min_samples_leaf=1, DTR__min_samples_split=2, ELASTIC__alpha=1.2507499999999998, ELASTIC__l1_ratio=0.0, KNN_PIPE__KNN__n_neighbors=2, KNN_PIPE__SCL=StandardScaler();, score=0.539 total time=   1.4s\n"
     ]
    },
    {
     "name": "stderr",
     "output_type": "stream",
     "text": [
      "/home/dai/anaconda3/lib/python3.11/site-packages/sklearn/linear_model/_coordinate_descent.py:628: ConvergenceWarning: Objective did not converge. You might want to increase the number of iterations, check the scale of the features or consider increasing regularisation. Duality gap: 1.649e+05, tolerance: 5.958e+01 Linear regression models with null weight for the l1 regularization term are more efficiently fitted using one of the solvers implemented in sklearn.linear_model.Ridge/RidgeCV instead.\n",
      "  model = cd_fast.enet_coordinate_descent(\n"
     ]
    },
    {
     "name": "stdout",
     "output_type": "stream",
     "text": [
      "[CV 3/5] END DTR__max_depth=5, DTR__min_samples_leaf=1, DTR__min_samples_split=2, ELASTIC__alpha=1.2507499999999998, ELASTIC__l1_ratio=0.0, KNN_PIPE__KNN__n_neighbors=2, KNN_PIPE__SCL=StandardScaler();, score=0.544 total time=   1.5s\n"
     ]
    },
    {
     "name": "stderr",
     "output_type": "stream",
     "text": [
      "/home/dai/anaconda3/lib/python3.11/site-packages/sklearn/linear_model/_coordinate_descent.py:628: ConvergenceWarning: Objective did not converge. You might want to increase the number of iterations, check the scale of the features or consider increasing regularisation. Duality gap: 1.641e+05, tolerance: 5.979e+01 Linear regression models with null weight for the l1 regularization term are more efficiently fitted using one of the solvers implemented in sklearn.linear_model.Ridge/RidgeCV instead.\n",
      "  model = cd_fast.enet_coordinate_descent(\n"
     ]
    },
    {
     "name": "stdout",
     "output_type": "stream",
     "text": [
      "[CV 4/5] END DTR__max_depth=5, DTR__min_samples_leaf=1, DTR__min_samples_split=2, ELASTIC__alpha=1.2507499999999998, ELASTIC__l1_ratio=0.0, KNN_PIPE__KNN__n_neighbors=2, KNN_PIPE__SCL=StandardScaler();, score=0.530 total time=   1.5s\n"
     ]
    },
    {
     "name": "stderr",
     "output_type": "stream",
     "text": [
      "/home/dai/anaconda3/lib/python3.11/site-packages/sklearn/linear_model/_coordinate_descent.py:628: ConvergenceWarning: Objective did not converge. You might want to increase the number of iterations, check the scale of the features or consider increasing regularisation. Duality gap: 1.636e+05, tolerance: 5.951e+01 Linear regression models with null weight for the l1 regularization term are more efficiently fitted using one of the solvers implemented in sklearn.linear_model.Ridge/RidgeCV instead.\n",
      "  model = cd_fast.enet_coordinate_descent(\n"
     ]
    },
    {
     "name": "stdout",
     "output_type": "stream",
     "text": [
      "[CV 5/5] END DTR__max_depth=5, DTR__min_samples_leaf=1, DTR__min_samples_split=2, ELASTIC__alpha=1.2507499999999998, ELASTIC__l1_ratio=0.0, KNN_PIPE__KNN__n_neighbors=2, KNN_PIPE__SCL=StandardScaler();, score=0.529 total time=   1.5s\n",
      "[CV 1/5] END DTR__max_depth=None, DTR__min_samples_leaf=1, DTR__min_samples_split=2, ELASTIC__alpha=1.2507499999999998, ELASTIC__l1_ratio=0.25, KNN_PIPE__KNN__n_neighbors=4, KNN_PIPE__SCL=StandardScaler();, score=0.503 total time=   1.6s\n",
      "[CV 2/5] END DTR__max_depth=None, DTR__min_samples_leaf=1, DTR__min_samples_split=2, ELASTIC__alpha=1.2507499999999998, ELASTIC__l1_ratio=0.25, KNN_PIPE__KNN__n_neighbors=4, KNN_PIPE__SCL=StandardScaler();, score=0.505 total time=   1.7s\n",
      "[CV 3/5] END DTR__max_depth=None, DTR__min_samples_leaf=1, DTR__min_samples_split=2, ELASTIC__alpha=1.2507499999999998, ELASTIC__l1_ratio=0.25, KNN_PIPE__KNN__n_neighbors=4, KNN_PIPE__SCL=StandardScaler();, score=0.515 total time=   2.0s\n",
      "[CV 4/5] END DTR__max_depth=None, DTR__min_samples_leaf=1, DTR__min_samples_split=2, ELASTIC__alpha=1.2507499999999998, ELASTIC__l1_ratio=0.25, KNN_PIPE__KNN__n_neighbors=4, KNN_PIPE__SCL=StandardScaler();, score=0.499 total time=   2.0s\n",
      "[CV 5/5] END DTR__max_depth=None, DTR__min_samples_leaf=1, DTR__min_samples_split=2, ELASTIC__alpha=1.2507499999999998, ELASTIC__l1_ratio=0.25, KNN_PIPE__KNN__n_neighbors=4, KNN_PIPE__SCL=StandardScaler();, score=0.507 total time=   1.6s\n",
      "[CV 1/5] END DTR__max_depth=3, DTR__min_samples_leaf=5, DTR__min_samples_split=5, ELASTIC__alpha=0.001, ELASTIC__l1_ratio=0.25, KNN_PIPE__KNN__n_neighbors=2, KNN_PIPE__SCL=StandardScaler();, score=0.528 total time=   1.0s\n",
      "[CV 2/5] END DTR__max_depth=3, DTR__min_samples_leaf=5, DTR__min_samples_split=5, ELASTIC__alpha=0.001, ELASTIC__l1_ratio=0.25, KNN_PIPE__KNN__n_neighbors=2, KNN_PIPE__SCL=StandardScaler();, score=0.537 total time=   1.0s\n",
      "[CV 3/5] END DTR__max_depth=3, DTR__min_samples_leaf=5, DTR__min_samples_split=5, ELASTIC__alpha=0.001, ELASTIC__l1_ratio=0.25, KNN_PIPE__KNN__n_neighbors=2, KNN_PIPE__SCL=StandardScaler();, score=0.541 total time=   1.0s\n",
      "[CV 4/5] END DTR__max_depth=3, DTR__min_samples_leaf=5, DTR__min_samples_split=5, ELASTIC__alpha=0.001, ELASTIC__l1_ratio=0.25, KNN_PIPE__KNN__n_neighbors=2, KNN_PIPE__SCL=StandardScaler();, score=0.527 total time=   1.1s\n",
      "[CV 5/5] END DTR__max_depth=3, DTR__min_samples_leaf=5, DTR__min_samples_split=5, ELASTIC__alpha=0.001, ELASTIC__l1_ratio=0.25, KNN_PIPE__KNN__n_neighbors=2, KNN_PIPE__SCL=StandardScaler();, score=0.527 total time=   1.1s\n",
      "[CV 1/5] END DTR__max_depth=5, DTR__min_samples_leaf=5, DTR__min_samples_split=2, ELASTIC__alpha=0.001, ELASTIC__l1_ratio=0.25, KNN_PIPE__KNN__n_neighbors=4, KNN_PIPE__SCL=StandardScaler();, score=0.553 total time=   1.2s\n",
      "[CV 2/5] END DTR__max_depth=5, DTR__min_samples_leaf=5, DTR__min_samples_split=2, ELASTIC__alpha=0.001, ELASTIC__l1_ratio=0.25, KNN_PIPE__KNN__n_neighbors=4, KNN_PIPE__SCL=StandardScaler();, score=0.562 total time=   1.2s\n",
      "[CV 3/5] END DTR__max_depth=5, DTR__min_samples_leaf=5, DTR__min_samples_split=2, ELASTIC__alpha=0.001, ELASTIC__l1_ratio=0.25, KNN_PIPE__KNN__n_neighbors=4, KNN_PIPE__SCL=StandardScaler();, score=0.568 total time=   1.2s\n",
      "[CV 4/5] END DTR__max_depth=5, DTR__min_samples_leaf=5, DTR__min_samples_split=2, ELASTIC__alpha=0.001, ELASTIC__l1_ratio=0.25, KNN_PIPE__KNN__n_neighbors=4, KNN_PIPE__SCL=StandardScaler();, score=0.552 total time=   1.6s\n",
      "[CV 5/5] END DTR__max_depth=5, DTR__min_samples_leaf=5, DTR__min_samples_split=2, ELASTIC__alpha=0.001, ELASTIC__l1_ratio=0.25, KNN_PIPE__KNN__n_neighbors=4, KNN_PIPE__SCL=StandardScaler();, score=0.553 total time=   1.2s\n",
      "[CV 1/5] END DTR__max_depth=5, DTR__min_samples_leaf=1, DTR__min_samples_split=5, ELASTIC__alpha=3.75025, ELASTIC__l1_ratio=1.0, KNN_PIPE__KNN__n_neighbors=4, KNN_PIPE__SCL=MinMaxScaler();, score=0.515 total time=   0.8s\n",
      "[CV 2/5] END DTR__max_depth=5, DTR__min_samples_leaf=1, DTR__min_samples_split=5, ELASTIC__alpha=3.75025, ELASTIC__l1_ratio=1.0, KNN_PIPE__KNN__n_neighbors=4, KNN_PIPE__SCL=MinMaxScaler();, score=0.525 total time=   0.8s\n",
      "[CV 3/5] END DTR__max_depth=5, DTR__min_samples_leaf=1, DTR__min_samples_split=5, ELASTIC__alpha=3.75025, ELASTIC__l1_ratio=1.0, KNN_PIPE__KNN__n_neighbors=4, KNN_PIPE__SCL=MinMaxScaler();, score=0.527 total time=   0.9s\n",
      "[CV 4/5] END DTR__max_depth=5, DTR__min_samples_leaf=1, DTR__min_samples_split=5, ELASTIC__alpha=3.75025, ELASTIC__l1_ratio=1.0, KNN_PIPE__KNN__n_neighbors=4, KNN_PIPE__SCL=MinMaxScaler();, score=0.517 total time=   0.8s\n",
      "[CV 5/5] END DTR__max_depth=5, DTR__min_samples_leaf=1, DTR__min_samples_split=5, ELASTIC__alpha=3.75025, ELASTIC__l1_ratio=1.0, KNN_PIPE__KNN__n_neighbors=4, KNN_PIPE__SCL=MinMaxScaler();, score=0.512 total time=   0.9s\n",
      "[CV 1/5] END DTR__max_depth=None, DTR__min_samples_leaf=1, DTR__min_samples_split=2, ELASTIC__alpha=5.0, ELASTIC__l1_ratio=0.25, KNN_PIPE__KNN__n_neighbors=2, KNN_PIPE__SCL=MinMaxScaler();, score=0.476 total time=   1.2s\n",
      "[CV 2/5] END DTR__max_depth=None, DTR__min_samples_leaf=1, DTR__min_samples_split=2, ELASTIC__alpha=5.0, ELASTIC__l1_ratio=0.25, KNN_PIPE__KNN__n_neighbors=2, KNN_PIPE__SCL=MinMaxScaler();, score=0.483 total time=   1.2s\n",
      "[CV 3/5] END DTR__max_depth=None, DTR__min_samples_leaf=1, DTR__min_samples_split=2, ELASTIC__alpha=5.0, ELASTIC__l1_ratio=0.25, KNN_PIPE__KNN__n_neighbors=2, KNN_PIPE__SCL=MinMaxScaler();, score=0.489 total time=   1.2s\n",
      "[CV 4/5] END DTR__max_depth=None, DTR__min_samples_leaf=1, DTR__min_samples_split=2, ELASTIC__alpha=5.0, ELASTIC__l1_ratio=0.25, KNN_PIPE__KNN__n_neighbors=2, KNN_PIPE__SCL=MinMaxScaler();, score=0.475 total time=   1.3s\n",
      "[CV 5/5] END DTR__max_depth=None, DTR__min_samples_leaf=1, DTR__min_samples_split=2, ELASTIC__alpha=5.0, ELASTIC__l1_ratio=0.25, KNN_PIPE__KNN__n_neighbors=2, KNN_PIPE__SCL=MinMaxScaler();, score=0.483 total time=   1.4s\n",
      "[CV 1/5] END DTR__max_depth=None, DTR__min_samples_leaf=1, DTR__min_samples_split=2, ELASTIC__alpha=0.001, ELASTIC__l1_ratio=0.75, KNN_PIPE__KNN__n_neighbors=4, KNN_PIPE__SCL=MinMaxScaler();, score=0.513 total time=   1.6s\n",
      "[CV 2/5] END DTR__max_depth=None, DTR__min_samples_leaf=1, DTR__min_samples_split=2, ELASTIC__alpha=0.001, ELASTIC__l1_ratio=0.75, KNN_PIPE__KNN__n_neighbors=4, KNN_PIPE__SCL=MinMaxScaler();, score=0.520 total time=   1.9s\n",
      "[CV 3/5] END DTR__max_depth=None, DTR__min_samples_leaf=1, DTR__min_samples_split=2, ELASTIC__alpha=0.001, ELASTIC__l1_ratio=0.75, KNN_PIPE__KNN__n_neighbors=4, KNN_PIPE__SCL=MinMaxScaler();, score=0.525 total time=   1.9s\n",
      "[CV 4/5] END DTR__max_depth=None, DTR__min_samples_leaf=1, DTR__min_samples_split=2, ELASTIC__alpha=0.001, ELASTIC__l1_ratio=0.75, KNN_PIPE__KNN__n_neighbors=4, KNN_PIPE__SCL=MinMaxScaler();, score=0.511 total time=   1.7s\n",
      "[CV 5/5] END DTR__max_depth=None, DTR__min_samples_leaf=1, DTR__min_samples_split=2, ELASTIC__alpha=0.001, ELASTIC__l1_ratio=0.75, KNN_PIPE__KNN__n_neighbors=4, KNN_PIPE__SCL=MinMaxScaler();, score=0.520 total time=   1.4s\n",
      "[CV 1/5] END DTR__max_depth=5, DTR__min_samples_leaf=5, DTR__min_samples_split=2, ELASTIC__alpha=1.2507499999999998, ELASTIC__l1_ratio=1.0, KNN_PIPE__KNN__n_neighbors=3, KNN_PIPE__SCL=StandardScaler();, score=0.517 total time=   1.0s\n",
      "[CV 2/5] END DTR__max_depth=5, DTR__min_samples_leaf=5, DTR__min_samples_split=2, ELASTIC__alpha=1.2507499999999998, ELASTIC__l1_ratio=1.0, KNN_PIPE__KNN__n_neighbors=3, KNN_PIPE__SCL=StandardScaler();, score=0.524 total time=   1.0s\n",
      "[CV 3/5] END DTR__max_depth=5, DTR__min_samples_leaf=5, DTR__min_samples_split=2, ELASTIC__alpha=1.2507499999999998, ELASTIC__l1_ratio=1.0, KNN_PIPE__KNN__n_neighbors=3, KNN_PIPE__SCL=StandardScaler();, score=0.529 total time=   1.2s\n",
      "[CV 4/5] END DTR__max_depth=5, DTR__min_samples_leaf=5, DTR__min_samples_split=2, ELASTIC__alpha=1.2507499999999998, ELASTIC__l1_ratio=1.0, KNN_PIPE__KNN__n_neighbors=3, KNN_PIPE__SCL=StandardScaler();, score=0.517 total time=   1.1s\n",
      "[CV 5/5] END DTR__max_depth=5, DTR__min_samples_leaf=5, DTR__min_samples_split=2, ELASTIC__alpha=1.2507499999999998, ELASTIC__l1_ratio=1.0, KNN_PIPE__KNN__n_neighbors=3, KNN_PIPE__SCL=StandardScaler();, score=0.513 total time=   1.1s\n",
      "[CV 1/5] END DTR__max_depth=5, DTR__min_samples_leaf=1, DTR__min_samples_split=5, ELASTIC__alpha=1.2507499999999998, ELASTIC__l1_ratio=0.25, KNN_PIPE__KNN__n_neighbors=2, KNN_PIPE__SCL=StandardScaler();, score=0.525 total time=   1.1s\n"
     ]
    },
    {
     "name": "stdout",
     "output_type": "stream",
     "text": [
      "[CV 2/5] END DTR__max_depth=5, DTR__min_samples_leaf=1, DTR__min_samples_split=5, ELASTIC__alpha=1.2507499999999998, ELASTIC__l1_ratio=0.25, KNN_PIPE__KNN__n_neighbors=2, KNN_PIPE__SCL=StandardScaler();, score=0.535 total time=   1.4s\n",
      "[CV 3/5] END DTR__max_depth=5, DTR__min_samples_leaf=1, DTR__min_samples_split=5, ELASTIC__alpha=1.2507499999999998, ELASTIC__l1_ratio=0.25, KNN_PIPE__KNN__n_neighbors=2, KNN_PIPE__SCL=StandardScaler();, score=0.539 total time=   1.2s\n",
      "[CV 4/5] END DTR__max_depth=5, DTR__min_samples_leaf=1, DTR__min_samples_split=5, ELASTIC__alpha=1.2507499999999998, ELASTIC__l1_ratio=0.25, KNN_PIPE__KNN__n_neighbors=2, KNN_PIPE__SCL=StandardScaler();, score=0.526 total time=   1.0s\n",
      "[CV 5/5] END DTR__max_depth=5, DTR__min_samples_leaf=1, DTR__min_samples_split=5, ELASTIC__alpha=1.2507499999999998, ELASTIC__l1_ratio=0.25, KNN_PIPE__KNN__n_neighbors=2, KNN_PIPE__SCL=StandardScaler();, score=0.524 total time=   1.0s\n",
      "[CV 1/5] END DTR__max_depth=5, DTR__min_samples_leaf=1, DTR__min_samples_split=5, ELASTIC__alpha=0.001, ELASTIC__l1_ratio=0.5, KNN_PIPE__KNN__n_neighbors=2, KNN_PIPE__SCL=MinMaxScaler();, score=0.541 total time=   0.9s\n",
      "[CV 2/5] END DTR__max_depth=5, DTR__min_samples_leaf=1, DTR__min_samples_split=5, ELASTIC__alpha=0.001, ELASTIC__l1_ratio=0.5, KNN_PIPE__KNN__n_neighbors=2, KNN_PIPE__SCL=MinMaxScaler();, score=0.554 total time=   0.9s\n",
      "[CV 3/5] END DTR__max_depth=5, DTR__min_samples_leaf=1, DTR__min_samples_split=5, ELASTIC__alpha=0.001, ELASTIC__l1_ratio=0.5, KNN_PIPE__KNN__n_neighbors=2, KNN_PIPE__SCL=MinMaxScaler();, score=0.555 total time=   0.9s\n",
      "[CV 4/5] END DTR__max_depth=5, DTR__min_samples_leaf=1, DTR__min_samples_split=5, ELASTIC__alpha=0.001, ELASTIC__l1_ratio=0.5, KNN_PIPE__KNN__n_neighbors=2, KNN_PIPE__SCL=MinMaxScaler();, score=0.542 total time=   0.9s\n",
      "[CV 5/5] END DTR__max_depth=5, DTR__min_samples_leaf=1, DTR__min_samples_split=5, ELASTIC__alpha=0.001, ELASTIC__l1_ratio=0.5, KNN_PIPE__KNN__n_neighbors=2, KNN_PIPE__SCL=MinMaxScaler();, score=0.543 total time=   0.9s\n",
      "[CV 1/5] END DTR__max_depth=None, DTR__min_samples_leaf=5, DTR__min_samples_split=10, ELASTIC__alpha=2.5004999999999997, ELASTIC__l1_ratio=1.0, KNN_PIPE__KNN__n_neighbors=1, KNN_PIPE__SCL=StandardScaler();, score=0.479 total time=   1.2s\n",
      "[CV 2/5] END DTR__max_depth=None, DTR__min_samples_leaf=5, DTR__min_samples_split=10, ELASTIC__alpha=2.5004999999999997, ELASTIC__l1_ratio=1.0, KNN_PIPE__KNN__n_neighbors=1, KNN_PIPE__SCL=StandardScaler();, score=0.489 total time=   1.2s\n",
      "[CV 3/5] END DTR__max_depth=None, DTR__min_samples_leaf=5, DTR__min_samples_split=10, ELASTIC__alpha=2.5004999999999997, ELASTIC__l1_ratio=1.0, KNN_PIPE__KNN__n_neighbors=1, KNN_PIPE__SCL=StandardScaler();, score=0.490 total time=   1.2s\n",
      "[CV 4/5] END DTR__max_depth=None, DTR__min_samples_leaf=5, DTR__min_samples_split=10, ELASTIC__alpha=2.5004999999999997, ELASTIC__l1_ratio=1.0, KNN_PIPE__KNN__n_neighbors=1, KNN_PIPE__SCL=StandardScaler();, score=0.476 total time=   1.1s\n",
      "[CV 5/5] END DTR__max_depth=None, DTR__min_samples_leaf=5, DTR__min_samples_split=10, ELASTIC__alpha=2.5004999999999997, ELASTIC__l1_ratio=1.0, KNN_PIPE__KNN__n_neighbors=1, KNN_PIPE__SCL=StandardScaler();, score=0.482 total time=   1.3s\n",
      "[CV 1/5] END DTR__max_depth=5, DTR__min_samples_leaf=5, DTR__min_samples_split=5, ELASTIC__alpha=5.0, ELASTIC__l1_ratio=0.75, KNN_PIPE__KNN__n_neighbors=2, KNN_PIPE__SCL=StandardScaler();, score=0.506 total time=   1.0s\n",
      "[CV 2/5] END DTR__max_depth=5, DTR__min_samples_leaf=5, DTR__min_samples_split=5, ELASTIC__alpha=5.0, ELASTIC__l1_ratio=0.75, KNN_PIPE__KNN__n_neighbors=2, KNN_PIPE__SCL=StandardScaler();, score=0.515 total time=   1.1s\n",
      "[CV 3/5] END DTR__max_depth=5, DTR__min_samples_leaf=5, DTR__min_samples_split=5, ELASTIC__alpha=5.0, ELASTIC__l1_ratio=0.75, KNN_PIPE__KNN__n_neighbors=2, KNN_PIPE__SCL=StandardScaler();, score=0.518 total time=   1.1s\n",
      "[CV 4/5] END DTR__max_depth=5, DTR__min_samples_leaf=5, DTR__min_samples_split=5, ELASTIC__alpha=5.0, ELASTIC__l1_ratio=0.75, KNN_PIPE__KNN__n_neighbors=2, KNN_PIPE__SCL=StandardScaler();, score=0.507 total time=   0.9s\n",
      "[CV 5/5] END DTR__max_depth=5, DTR__min_samples_leaf=5, DTR__min_samples_split=5, ELASTIC__alpha=5.0, ELASTIC__l1_ratio=0.75, KNN_PIPE__KNN__n_neighbors=2, KNN_PIPE__SCL=StandardScaler();, score=0.504 total time=   1.0s\n",
      "[CV 1/5] END DTR__max_depth=5, DTR__min_samples_leaf=5, DTR__min_samples_split=5, ELASTIC__alpha=0.001, ELASTIC__l1_ratio=0.5, KNN_PIPE__KNN__n_neighbors=1, KNN_PIPE__SCL=MinMaxScaler();, score=0.518 total time=   1.2s\n",
      "[CV 2/5] END DTR__max_depth=5, DTR__min_samples_leaf=5, DTR__min_samples_split=5, ELASTIC__alpha=0.001, ELASTIC__l1_ratio=0.5, KNN_PIPE__KNN__n_neighbors=1, KNN_PIPE__SCL=MinMaxScaler();, score=0.531 total time=   1.0s\n",
      "[CV 3/5] END DTR__max_depth=5, DTR__min_samples_leaf=5, DTR__min_samples_split=5, ELASTIC__alpha=0.001, ELASTIC__l1_ratio=0.5, KNN_PIPE__KNN__n_neighbors=1, KNN_PIPE__SCL=MinMaxScaler();, score=0.528 total time=   1.1s\n",
      "[CV 4/5] END DTR__max_depth=5, DTR__min_samples_leaf=5, DTR__min_samples_split=5, ELASTIC__alpha=0.001, ELASTIC__l1_ratio=0.5, KNN_PIPE__KNN__n_neighbors=1, KNN_PIPE__SCL=MinMaxScaler();, score=0.520 total time=   1.0s\n",
      "[CV 5/5] END DTR__max_depth=5, DTR__min_samples_leaf=5, DTR__min_samples_split=5, ELASTIC__alpha=0.001, ELASTIC__l1_ratio=0.5, KNN_PIPE__KNN__n_neighbors=1, KNN_PIPE__SCL=MinMaxScaler();, score=0.523 total time=   1.1s\n"
     ]
    },
    {
     "name": "stderr",
     "output_type": "stream",
     "text": [
      "/home/dai/anaconda3/lib/python3.11/site-packages/sklearn/linear_model/_coordinate_descent.py:628: ConvergenceWarning: Objective did not converge. You might want to increase the number of iterations, check the scale of the features or consider increasing regularisation. Duality gap: 1.793e+05, tolerance: 5.983e+01 Linear regression models with null weight for the l1 regularization term are more efficiently fitted using one of the solvers implemented in sklearn.linear_model.Ridge/RidgeCV instead.\n",
      "  model = cd_fast.enet_coordinate_descent(\n"
     ]
    },
    {
     "name": "stdout",
     "output_type": "stream",
     "text": [
      "[CV 1/5] END DTR__max_depth=5, DTR__min_samples_leaf=5, DTR__min_samples_split=5, ELASTIC__alpha=3.75025, ELASTIC__l1_ratio=0.0, KNN_PIPE__KNN__n_neighbors=4, KNN_PIPE__SCL=MinMaxScaler();, score=0.529 total time=   1.3s\n"
     ]
    },
    {
     "name": "stderr",
     "output_type": "stream",
     "text": [
      "/home/dai/anaconda3/lib/python3.11/site-packages/sklearn/linear_model/_coordinate_descent.py:628: ConvergenceWarning: Objective did not converge. You might want to increase the number of iterations, check the scale of the features or consider increasing regularisation. Duality gap: 1.797e+05, tolerance: 5.992e+01 Linear regression models with null weight for the l1 regularization term are more efficiently fitted using one of the solvers implemented in sklearn.linear_model.Ridge/RidgeCV instead.\n",
      "  model = cd_fast.enet_coordinate_descent(\n"
     ]
    },
    {
     "name": "stdout",
     "output_type": "stream",
     "text": [
      "[CV 2/5] END DTR__max_depth=5, DTR__min_samples_leaf=5, DTR__min_samples_split=5, ELASTIC__alpha=3.75025, ELASTIC__l1_ratio=0.0, KNN_PIPE__KNN__n_neighbors=4, KNN_PIPE__SCL=MinMaxScaler();, score=0.540 total time=   1.3s\n"
     ]
    },
    {
     "name": "stderr",
     "output_type": "stream",
     "text": [
      "/home/dai/anaconda3/lib/python3.11/site-packages/sklearn/linear_model/_coordinate_descent.py:628: ConvergenceWarning: Objective did not converge. You might want to increase the number of iterations, check the scale of the features or consider increasing regularisation. Duality gap: 1.792e+05, tolerance: 5.958e+01 Linear regression models with null weight for the l1 regularization term are more efficiently fitted using one of the solvers implemented in sklearn.linear_model.Ridge/RidgeCV instead.\n",
      "  model = cd_fast.enet_coordinate_descent(\n"
     ]
    },
    {
     "name": "stdout",
     "output_type": "stream",
     "text": [
      "[CV 3/5] END DTR__max_depth=5, DTR__min_samples_leaf=5, DTR__min_samples_split=5, ELASTIC__alpha=3.75025, ELASTIC__l1_ratio=0.0, KNN_PIPE__KNN__n_neighbors=4, KNN_PIPE__SCL=MinMaxScaler();, score=0.543 total time=   1.3s\n"
     ]
    },
    {
     "name": "stderr",
     "output_type": "stream",
     "text": [
      "/home/dai/anaconda3/lib/python3.11/site-packages/sklearn/linear_model/_coordinate_descent.py:628: ConvergenceWarning: Objective did not converge. You might want to increase the number of iterations, check the scale of the features or consider increasing regularisation. Duality gap: 1.786e+05, tolerance: 5.979e+01 Linear regression models with null weight for the l1 regularization term are more efficiently fitted using one of the solvers implemented in sklearn.linear_model.Ridge/RidgeCV instead.\n",
      "  model = cd_fast.enet_coordinate_descent(\n"
     ]
    },
    {
     "name": "stdout",
     "output_type": "stream",
     "text": [
      "[CV 4/5] END DTR__max_depth=5, DTR__min_samples_leaf=5, DTR__min_samples_split=5, ELASTIC__alpha=3.75025, ELASTIC__l1_ratio=0.0, KNN_PIPE__KNN__n_neighbors=4, KNN_PIPE__SCL=MinMaxScaler();, score=0.531 total time=   1.3s\n"
     ]
    },
    {
     "name": "stderr",
     "output_type": "stream",
     "text": [
      "/home/dai/anaconda3/lib/python3.11/site-packages/sklearn/linear_model/_coordinate_descent.py:628: ConvergenceWarning: Objective did not converge. You might want to increase the number of iterations, check the scale of the features or consider increasing regularisation. Duality gap: 1.777e+05, tolerance: 5.951e+01 Linear regression models with null weight for the l1 regularization term are more efficiently fitted using one of the solvers implemented in sklearn.linear_model.Ridge/RidgeCV instead.\n",
      "  model = cd_fast.enet_coordinate_descent(\n"
     ]
    },
    {
     "name": "stdout",
     "output_type": "stream",
     "text": [
      "[CV 5/5] END DTR__max_depth=5, DTR__min_samples_leaf=5, DTR__min_samples_split=5, ELASTIC__alpha=3.75025, ELASTIC__l1_ratio=0.0, KNN_PIPE__KNN__n_neighbors=4, KNN_PIPE__SCL=MinMaxScaler();, score=0.528 total time=   1.5s\n",
      "[CV 1/5] END DTR__max_depth=3, DTR__min_samples_leaf=1, DTR__min_samples_split=10, ELASTIC__alpha=0.001, ELASTIC__l1_ratio=0.75, KNN_PIPE__KNN__n_neighbors=4, KNN_PIPE__SCL=MinMaxScaler();, score=0.538 total time=   1.1s\n",
      "[CV 2/5] END DTR__max_depth=3, DTR__min_samples_leaf=1, DTR__min_samples_split=10, ELASTIC__alpha=0.001, ELASTIC__l1_ratio=0.75, KNN_PIPE__KNN__n_neighbors=4, KNN_PIPE__SCL=MinMaxScaler();, score=0.548 total time=   0.9s\n",
      "[CV 3/5] END DTR__max_depth=3, DTR__min_samples_leaf=1, DTR__min_samples_split=10, ELASTIC__alpha=0.001, ELASTIC__l1_ratio=0.75, KNN_PIPE__KNN__n_neighbors=4, KNN_PIPE__SCL=MinMaxScaler();, score=0.551 total time=   0.9s\n",
      "[CV 4/5] END DTR__max_depth=3, DTR__min_samples_leaf=1, DTR__min_samples_split=10, ELASTIC__alpha=0.001, ELASTIC__l1_ratio=0.75, KNN_PIPE__KNN__n_neighbors=4, KNN_PIPE__SCL=MinMaxScaler();, score=0.538 total time=   1.2s\n",
      "[CV 5/5] END DTR__max_depth=3, DTR__min_samples_leaf=1, DTR__min_samples_split=10, ELASTIC__alpha=0.001, ELASTIC__l1_ratio=0.75, KNN_PIPE__KNN__n_neighbors=4, KNN_PIPE__SCL=MinMaxScaler();, score=0.537 total time=   1.1s\n",
      "[CV 1/5] END DTR__max_depth=5, DTR__min_samples_leaf=10, DTR__min_samples_split=5, ELASTIC__alpha=5.0, ELASTIC__l1_ratio=0.5, KNN_PIPE__KNN__n_neighbors=3, KNN_PIPE__SCL=StandardScaler();, score=0.515 total time=   1.2s\n",
      "[CV 2/5] END DTR__max_depth=5, DTR__min_samples_leaf=10, DTR__min_samples_split=5, ELASTIC__alpha=5.0, ELASTIC__l1_ratio=0.5, KNN_PIPE__KNN__n_neighbors=3, KNN_PIPE__SCL=StandardScaler();, score=0.523 total time=   1.1s\n",
      "[CV 3/5] END DTR__max_depth=5, DTR__min_samples_leaf=10, DTR__min_samples_split=5, ELASTIC__alpha=5.0, ELASTIC__l1_ratio=0.5, KNN_PIPE__KNN__n_neighbors=3, KNN_PIPE__SCL=StandardScaler();, score=0.528 total time=   1.1s\n",
      "[CV 4/5] END DTR__max_depth=5, DTR__min_samples_leaf=10, DTR__min_samples_split=5, ELASTIC__alpha=5.0, ELASTIC__l1_ratio=0.5, KNN_PIPE__KNN__n_neighbors=3, KNN_PIPE__SCL=StandardScaler();, score=0.515 total time=   1.1s\n",
      "[CV 5/5] END DTR__max_depth=5, DTR__min_samples_leaf=10, DTR__min_samples_split=5, ELASTIC__alpha=5.0, ELASTIC__l1_ratio=0.5, KNN_PIPE__KNN__n_neighbors=3, KNN_PIPE__SCL=StandardScaler();, score=0.511 total time=   1.1s\n",
      "[CV 1/5] END DTR__max_depth=None, DTR__min_samples_leaf=10, DTR__min_samples_split=10, ELASTIC__alpha=5.0, ELASTIC__l1_ratio=0.25, KNN_PIPE__KNN__n_neighbors=2, KNN_PIPE__SCL=StandardScaler();, score=0.515 total time=   1.3s\n",
      "[CV 2/5] END DTR__max_depth=None, DTR__min_samples_leaf=10, DTR__min_samples_split=10, ELASTIC__alpha=5.0, ELASTIC__l1_ratio=0.25, KNN_PIPE__KNN__n_neighbors=2, KNN_PIPE__SCL=StandardScaler();, score=0.526 total time=   1.3s\n",
      "[CV 3/5] END DTR__max_depth=None, DTR__min_samples_leaf=10, DTR__min_samples_split=10, ELASTIC__alpha=5.0, ELASTIC__l1_ratio=0.25, KNN_PIPE__KNN__n_neighbors=2, KNN_PIPE__SCL=StandardScaler();, score=0.528 total time=   1.3s\n",
      "[CV 4/5] END DTR__max_depth=None, DTR__min_samples_leaf=10, DTR__min_samples_split=10, ELASTIC__alpha=5.0, ELASTIC__l1_ratio=0.25, KNN_PIPE__KNN__n_neighbors=2, KNN_PIPE__SCL=StandardScaler();, score=0.512 total time=   1.4s\n",
      "[CV 5/5] END DTR__max_depth=None, DTR__min_samples_leaf=10, DTR__min_samples_split=10, ELASTIC__alpha=5.0, ELASTIC__l1_ratio=0.25, KNN_PIPE__KNN__n_neighbors=2, KNN_PIPE__SCL=StandardScaler();, score=0.514 total time=   1.5s\n",
      "[CV 1/5] END DTR__max_depth=5, DTR__min_samples_leaf=5, DTR__min_samples_split=10, ELASTIC__alpha=0.001, ELASTIC__l1_ratio=0.5, KNN_PIPE__KNN__n_neighbors=1, KNN_PIPE__SCL=MinMaxScaler();, score=0.518 total time=   1.1s\n",
      "[CV 2/5] END DTR__max_depth=5, DTR__min_samples_leaf=5, DTR__min_samples_split=10, ELASTIC__alpha=0.001, ELASTIC__l1_ratio=0.5, KNN_PIPE__KNN__n_neighbors=1, KNN_PIPE__SCL=MinMaxScaler();, score=0.531 total time=   0.9s\n",
      "[CV 3/5] END DTR__max_depth=5, DTR__min_samples_leaf=5, DTR__min_samples_split=10, ELASTIC__alpha=0.001, ELASTIC__l1_ratio=0.5, KNN_PIPE__KNN__n_neighbors=1, KNN_PIPE__SCL=MinMaxScaler();, score=0.528 total time=   0.9s\n",
      "[CV 4/5] END DTR__max_depth=5, DTR__min_samples_leaf=5, DTR__min_samples_split=10, ELASTIC__alpha=0.001, ELASTIC__l1_ratio=0.5, KNN_PIPE__KNN__n_neighbors=1, KNN_PIPE__SCL=MinMaxScaler();, score=0.520 total time=   0.9s\n",
      "[CV 5/5] END DTR__max_depth=5, DTR__min_samples_leaf=5, DTR__min_samples_split=10, ELASTIC__alpha=0.001, ELASTIC__l1_ratio=0.5, KNN_PIPE__KNN__n_neighbors=1, KNN_PIPE__SCL=MinMaxScaler();, score=0.523 total time=   0.9s\n",
      "[CV 1/5] END DTR__max_depth=None, DTR__min_samples_leaf=1, DTR__min_samples_split=10, ELASTIC__alpha=1.2507499999999998, ELASTIC__l1_ratio=1.0, KNN_PIPE__KNN__n_neighbors=4, KNN_PIPE__SCL=MinMaxScaler();, score=0.506 total time=   1.2s\n",
      "[CV 2/5] END DTR__max_depth=None, DTR__min_samples_leaf=1, DTR__min_samples_split=10, ELASTIC__alpha=1.2507499999999998, ELASTIC__l1_ratio=1.0, KNN_PIPE__KNN__n_neighbors=4, KNN_PIPE__SCL=MinMaxScaler();, score=0.514 total time=   1.3s\n",
      "[CV 3/5] END DTR__max_depth=None, DTR__min_samples_leaf=1, DTR__min_samples_split=10, ELASTIC__alpha=1.2507499999999998, ELASTIC__l1_ratio=1.0, KNN_PIPE__KNN__n_neighbors=4, KNN_PIPE__SCL=MinMaxScaler();, score=0.515 total time=   1.4s\n",
      "[CV 4/5] END DTR__max_depth=None, DTR__min_samples_leaf=1, DTR__min_samples_split=10, ELASTIC__alpha=1.2507499999999998, ELASTIC__l1_ratio=1.0, KNN_PIPE__KNN__n_neighbors=4, KNN_PIPE__SCL=MinMaxScaler();, score=0.506 total time=   1.4s\n",
      "[CV 5/5] END DTR__max_depth=None, DTR__min_samples_leaf=1, DTR__min_samples_split=10, ELASTIC__alpha=1.2507499999999998, ELASTIC__l1_ratio=1.0, KNN_PIPE__KNN__n_neighbors=4, KNN_PIPE__SCL=MinMaxScaler();, score=0.510 total time=   1.4s\n",
      "[CV 1/5] END DTR__max_depth=None, DTR__min_samples_leaf=10, DTR__min_samples_split=2, ELASTIC__alpha=3.75025, ELASTIC__l1_ratio=1.0, KNN_PIPE__KNN__n_neighbors=1, KNN_PIPE__SCL=StandardScaler();, score=0.493 total time=   1.4s\n",
      "[CV 2/5] END DTR__max_depth=None, DTR__min_samples_leaf=10, DTR__min_samples_split=2, ELASTIC__alpha=3.75025, ELASTIC__l1_ratio=1.0, KNN_PIPE__KNN__n_neighbors=1, KNN_PIPE__SCL=StandardScaler();, score=0.503 total time=   1.4s\n",
      "[CV 3/5] END DTR__max_depth=None, DTR__min_samples_leaf=10, DTR__min_samples_split=2, ELASTIC__alpha=3.75025, ELASTIC__l1_ratio=1.0, KNN_PIPE__KNN__n_neighbors=1, KNN_PIPE__SCL=StandardScaler();, score=0.502 total time=   1.5s\n",
      "[CV 4/5] END DTR__max_depth=None, DTR__min_samples_leaf=10, DTR__min_samples_split=2, ELASTIC__alpha=3.75025, ELASTIC__l1_ratio=1.0, KNN_PIPE__KNN__n_neighbors=1, KNN_PIPE__SCL=StandardScaler();, score=0.487 total time=   1.2s\n",
      "[CV 5/5] END DTR__max_depth=None, DTR__min_samples_leaf=10, DTR__min_samples_split=2, ELASTIC__alpha=3.75025, ELASTIC__l1_ratio=1.0, KNN_PIPE__KNN__n_neighbors=1, KNN_PIPE__SCL=StandardScaler();, score=0.490 total time=   1.5s\n",
      "[CV 1/5] END DTR__max_depth=None, DTR__min_samples_leaf=1, DTR__min_samples_split=2, ELASTIC__alpha=3.75025, ELASTIC__l1_ratio=1.0, KNN_PIPE__KNN__n_neighbors=3, KNN_PIPE__SCL=StandardScaler();, score=0.484 total time=   1.6s\n",
      "[CV 2/5] END DTR__max_depth=None, DTR__min_samples_leaf=1, DTR__min_samples_split=2, ELASTIC__alpha=3.75025, ELASTIC__l1_ratio=1.0, KNN_PIPE__KNN__n_neighbors=3, KNN_PIPE__SCL=StandardScaler();, score=0.486 total time=   1.6s\n",
      "[CV 3/5] END DTR__max_depth=None, DTR__min_samples_leaf=1, DTR__min_samples_split=2, ELASTIC__alpha=3.75025, ELASTIC__l1_ratio=1.0, KNN_PIPE__KNN__n_neighbors=3, KNN_PIPE__SCL=StandardScaler();, score=0.497 total time=   2.2s\n",
      "[CV 4/5] END DTR__max_depth=None, DTR__min_samples_leaf=1, DTR__min_samples_split=2, ELASTIC__alpha=3.75025, ELASTIC__l1_ratio=1.0, KNN_PIPE__KNN__n_neighbors=3, KNN_PIPE__SCL=StandardScaler();, score=0.483 total time=   1.6s\n",
      "[CV 5/5] END DTR__max_depth=None, DTR__min_samples_leaf=1, DTR__min_samples_split=2, ELASTIC__alpha=3.75025, ELASTIC__l1_ratio=1.0, KNN_PIPE__KNN__n_neighbors=3, KNN_PIPE__SCL=StandardScaler();, score=0.488 total time=   1.6s\n",
      "[CV 1/5] END DTR__max_depth=3, DTR__min_samples_leaf=10, DTR__min_samples_split=5, ELASTIC__alpha=0.001, ELASTIC__l1_ratio=0.5, KNN_PIPE__KNN__n_neighbors=2, KNN_PIPE__SCL=MinMaxScaler();, score=0.528 total time=   0.9s\n"
     ]
    },
    {
     "name": "stdout",
     "output_type": "stream",
     "text": [
      "[CV 2/5] END DTR__max_depth=3, DTR__min_samples_leaf=10, DTR__min_samples_split=5, ELASTIC__alpha=0.001, ELASTIC__l1_ratio=0.5, KNN_PIPE__KNN__n_neighbors=2, KNN_PIPE__SCL=MinMaxScaler();, score=0.540 total time=   1.1s\n",
      "[CV 3/5] END DTR__max_depth=3, DTR__min_samples_leaf=10, DTR__min_samples_split=5, ELASTIC__alpha=0.001, ELASTIC__l1_ratio=0.5, KNN_PIPE__KNN__n_neighbors=2, KNN_PIPE__SCL=MinMaxScaler();, score=0.541 total time=   1.1s\n",
      "[CV 4/5] END DTR__max_depth=3, DTR__min_samples_leaf=10, DTR__min_samples_split=5, ELASTIC__alpha=0.001, ELASTIC__l1_ratio=0.5, KNN_PIPE__KNN__n_neighbors=2, KNN_PIPE__SCL=MinMaxScaler();, score=0.527 total time=   0.9s\n",
      "[CV 5/5] END DTR__max_depth=3, DTR__min_samples_leaf=10, DTR__min_samples_split=5, ELASTIC__alpha=0.001, ELASTIC__l1_ratio=0.5, KNN_PIPE__KNN__n_neighbors=2, KNN_PIPE__SCL=MinMaxScaler();, score=0.528 total time=   0.9s\n",
      "[CV 1/5] END DTR__max_depth=3, DTR__min_samples_leaf=5, DTR__min_samples_split=5, ELASTIC__alpha=5.0, ELASTIC__l1_ratio=0.75, KNN_PIPE__KNN__n_neighbors=1, KNN_PIPE__SCL=MinMaxScaler();, score=0.456 total time=   0.6s\n",
      "[CV 2/5] END DTR__max_depth=3, DTR__min_samples_leaf=5, DTR__min_samples_split=5, ELASTIC__alpha=5.0, ELASTIC__l1_ratio=0.75, KNN_PIPE__KNN__n_neighbors=1, KNN_PIPE__SCL=MinMaxScaler();, score=0.467 total time=   0.7s\n",
      "[CV 3/5] END DTR__max_depth=3, DTR__min_samples_leaf=5, DTR__min_samples_split=5, ELASTIC__alpha=5.0, ELASTIC__l1_ratio=0.75, KNN_PIPE__KNN__n_neighbors=1, KNN_PIPE__SCL=MinMaxScaler();, score=0.463 total time=   0.7s\n",
      "[CV 4/5] END DTR__max_depth=3, DTR__min_samples_leaf=5, DTR__min_samples_split=5, ELASTIC__alpha=5.0, ELASTIC__l1_ratio=0.75, KNN_PIPE__KNN__n_neighbors=1, KNN_PIPE__SCL=MinMaxScaler();, score=0.459 total time=   0.7s\n",
      "[CV 5/5] END DTR__max_depth=3, DTR__min_samples_leaf=5, DTR__min_samples_split=5, ELASTIC__alpha=5.0, ELASTIC__l1_ratio=0.75, KNN_PIPE__KNN__n_neighbors=1, KNN_PIPE__SCL=MinMaxScaler();, score=0.459 total time=   0.7s\n",
      "[CV 1/5] END DTR__max_depth=3, DTR__min_samples_leaf=10, DTR__min_samples_split=2, ELASTIC__alpha=1.2507499999999998, ELASTIC__l1_ratio=0.5, KNN_PIPE__KNN__n_neighbors=3, KNN_PIPE__SCL=MinMaxScaler();, score=0.502 total time=   0.7s\n",
      "[CV 2/5] END DTR__max_depth=3, DTR__min_samples_leaf=10, DTR__min_samples_split=2, ELASTIC__alpha=1.2507499999999998, ELASTIC__l1_ratio=0.5, KNN_PIPE__KNN__n_neighbors=3, KNN_PIPE__SCL=MinMaxScaler();, score=0.513 total time=   0.8s\n",
      "[CV 3/5] END DTR__max_depth=3, DTR__min_samples_leaf=10, DTR__min_samples_split=2, ELASTIC__alpha=1.2507499999999998, ELASTIC__l1_ratio=0.5, KNN_PIPE__KNN__n_neighbors=3, KNN_PIPE__SCL=MinMaxScaler();, score=0.515 total time=   0.8s\n",
      "[CV 4/5] END DTR__max_depth=3, DTR__min_samples_leaf=10, DTR__min_samples_split=2, ELASTIC__alpha=1.2507499999999998, ELASTIC__l1_ratio=0.5, KNN_PIPE__KNN__n_neighbors=3, KNN_PIPE__SCL=MinMaxScaler();, score=0.504 total time=   0.8s\n",
      "[CV 5/5] END DTR__max_depth=3, DTR__min_samples_leaf=10, DTR__min_samples_split=2, ELASTIC__alpha=1.2507499999999998, ELASTIC__l1_ratio=0.5, KNN_PIPE__KNN__n_neighbors=3, KNN_PIPE__SCL=MinMaxScaler();, score=0.501 total time=   0.8s\n"
     ]
    },
    {
     "name": "stderr",
     "output_type": "stream",
     "text": [
      "/home/dai/anaconda3/lib/python3.11/site-packages/sklearn/linear_model/_coordinate_descent.py:628: ConvergenceWarning: Objective did not converge. You might want to increase the number of iterations, check the scale of the features or consider increasing regularisation. Duality gap: 1.649e+05, tolerance: 5.983e+01 Linear regression models with null weight for the l1 regularization term are more efficiently fitted using one of the solvers implemented in sklearn.linear_model.Ridge/RidgeCV instead.\n",
      "  model = cd_fast.enet_coordinate_descent(\n"
     ]
    },
    {
     "name": "stdout",
     "output_type": "stream",
     "text": [
      "[CV 1/5] END DTR__max_depth=5, DTR__min_samples_leaf=10, DTR__min_samples_split=10, ELASTIC__alpha=1.2507499999999998, ELASTIC__l1_ratio=0.0, KNN_PIPE__KNN__n_neighbors=3, KNN_PIPE__SCL=MinMaxScaler();, score=0.534 total time=   1.3s\n"
     ]
    },
    {
     "name": "stderr",
     "output_type": "stream",
     "text": [
      "/home/dai/anaconda3/lib/python3.11/site-packages/sklearn/linear_model/_coordinate_descent.py:628: ConvergenceWarning: Objective did not converge. You might want to increase the number of iterations, check the scale of the features or consider increasing regularisation. Duality gap: 1.654e+05, tolerance: 5.992e+01 Linear regression models with null weight for the l1 regularization term are more efficiently fitted using one of the solvers implemented in sklearn.linear_model.Ridge/RidgeCV instead.\n",
      "  model = cd_fast.enet_coordinate_descent(\n"
     ]
    },
    {
     "name": "stdout",
     "output_type": "stream",
     "text": [
      "[CV 2/5] END DTR__max_depth=5, DTR__min_samples_leaf=10, DTR__min_samples_split=10, ELASTIC__alpha=1.2507499999999998, ELASTIC__l1_ratio=0.0, KNN_PIPE__KNN__n_neighbors=3, KNN_PIPE__SCL=MinMaxScaler();, score=0.547 total time=   1.3s\n"
     ]
    },
    {
     "name": "stderr",
     "output_type": "stream",
     "text": [
      "/home/dai/anaconda3/lib/python3.11/site-packages/sklearn/linear_model/_coordinate_descent.py:628: ConvergenceWarning: Objective did not converge. You might want to increase the number of iterations, check the scale of the features or consider increasing regularisation. Duality gap: 1.649e+05, tolerance: 5.958e+01 Linear regression models with null weight for the l1 regularization term are more efficiently fitted using one of the solvers implemented in sklearn.linear_model.Ridge/RidgeCV instead.\n",
      "  model = cd_fast.enet_coordinate_descent(\n"
     ]
    },
    {
     "name": "stdout",
     "output_type": "stream",
     "text": [
      "[CV 3/5] END DTR__max_depth=5, DTR__min_samples_leaf=10, DTR__min_samples_split=10, ELASTIC__alpha=1.2507499999999998, ELASTIC__l1_ratio=0.0, KNN_PIPE__KNN__n_neighbors=3, KNN_PIPE__SCL=MinMaxScaler();, score=0.550 total time=   1.2s\n"
     ]
    },
    {
     "name": "stderr",
     "output_type": "stream",
     "text": [
      "/home/dai/anaconda3/lib/python3.11/site-packages/sklearn/linear_model/_coordinate_descent.py:628: ConvergenceWarning: Objective did not converge. You might want to increase the number of iterations, check the scale of the features or consider increasing regularisation. Duality gap: 1.641e+05, tolerance: 5.979e+01 Linear regression models with null weight for the l1 regularization term are more efficiently fitted using one of the solvers implemented in sklearn.linear_model.Ridge/RidgeCV instead.\n",
      "  model = cd_fast.enet_coordinate_descent(\n"
     ]
    },
    {
     "name": "stdout",
     "output_type": "stream",
     "text": [
      "[CV 4/5] END DTR__max_depth=5, DTR__min_samples_leaf=10, DTR__min_samples_split=10, ELASTIC__alpha=1.2507499999999998, ELASTIC__l1_ratio=0.0, KNN_PIPE__KNN__n_neighbors=3, KNN_PIPE__SCL=MinMaxScaler();, score=0.537 total time=   1.3s\n"
     ]
    },
    {
     "name": "stderr",
     "output_type": "stream",
     "text": [
      "/home/dai/anaconda3/lib/python3.11/site-packages/sklearn/linear_model/_coordinate_descent.py:628: ConvergenceWarning: Objective did not converge. You might want to increase the number of iterations, check the scale of the features or consider increasing regularisation. Duality gap: 1.636e+05, tolerance: 5.951e+01 Linear regression models with null weight for the l1 regularization term are more efficiently fitted using one of the solvers implemented in sklearn.linear_model.Ridge/RidgeCV instead.\n",
      "  model = cd_fast.enet_coordinate_descent(\n"
     ]
    },
    {
     "name": "stdout",
     "output_type": "stream",
     "text": [
      "[CV 5/5] END DTR__max_depth=5, DTR__min_samples_leaf=10, DTR__min_samples_split=10, ELASTIC__alpha=1.2507499999999998, ELASTIC__l1_ratio=0.0, KNN_PIPE__KNN__n_neighbors=3, KNN_PIPE__SCL=MinMaxScaler();, score=0.536 total time=   1.4s\n",
      "[CV 1/5] END DTR__max_depth=5, DTR__min_samples_leaf=5, DTR__min_samples_split=10, ELASTIC__alpha=2.5004999999999997, ELASTIC__l1_ratio=1.0, KNN_PIPE__KNN__n_neighbors=1, KNN_PIPE__SCL=StandardScaler();, score=0.487 total time=   0.9s\n",
      "[CV 2/5] END DTR__max_depth=5, DTR__min_samples_leaf=5, DTR__min_samples_split=10, ELASTIC__alpha=2.5004999999999997, ELASTIC__l1_ratio=1.0, KNN_PIPE__KNN__n_neighbors=1, KNN_PIPE__SCL=StandardScaler();, score=0.494 total time=   1.0s\n",
      "[CV 3/5] END DTR__max_depth=5, DTR__min_samples_leaf=5, DTR__min_samples_split=10, ELASTIC__alpha=2.5004999999999997, ELASTIC__l1_ratio=1.0, KNN_PIPE__KNN__n_neighbors=1, KNN_PIPE__SCL=StandardScaler();, score=0.496 total time=   0.9s\n",
      "[CV 4/5] END DTR__max_depth=5, DTR__min_samples_leaf=5, DTR__min_samples_split=10, ELASTIC__alpha=2.5004999999999997, ELASTIC__l1_ratio=1.0, KNN_PIPE__KNN__n_neighbors=1, KNN_PIPE__SCL=StandardScaler();, score=0.485 total time=   0.9s\n",
      "[CV 5/5] END DTR__max_depth=5, DTR__min_samples_leaf=5, DTR__min_samples_split=10, ELASTIC__alpha=2.5004999999999997, ELASTIC__l1_ratio=1.0, KNN_PIPE__KNN__n_neighbors=1, KNN_PIPE__SCL=StandardScaler();, score=0.483 total time=   0.9s\n",
      "[CV 1/5] END DTR__max_depth=5, DTR__min_samples_leaf=10, DTR__min_samples_split=10, ELASTIC__alpha=5.0, ELASTIC__l1_ratio=0.5, KNN_PIPE__KNN__n_neighbors=4, KNN_PIPE__SCL=StandardScaler();, score=0.518 total time=   1.1s\n",
      "[CV 2/5] END DTR__max_depth=5, DTR__min_samples_leaf=10, DTR__min_samples_split=10, ELASTIC__alpha=5.0, ELASTIC__l1_ratio=0.5, KNN_PIPE__KNN__n_neighbors=4, KNN_PIPE__SCL=StandardScaler();, score=0.526 total time=   1.1s\n",
      "[CV 3/5] END DTR__max_depth=5, DTR__min_samples_leaf=10, DTR__min_samples_split=10, ELASTIC__alpha=5.0, ELASTIC__l1_ratio=0.5, KNN_PIPE__KNN__n_neighbors=4, KNN_PIPE__SCL=StandardScaler();, score=0.531 total time=   1.1s\n",
      "[CV 4/5] END DTR__max_depth=5, DTR__min_samples_leaf=10, DTR__min_samples_split=10, ELASTIC__alpha=5.0, ELASTIC__l1_ratio=0.5, KNN_PIPE__KNN__n_neighbors=4, KNN_PIPE__SCL=StandardScaler();, score=0.518 total time=   1.1s\n",
      "[CV 5/5] END DTR__max_depth=5, DTR__min_samples_leaf=10, DTR__min_samples_split=10, ELASTIC__alpha=5.0, ELASTIC__l1_ratio=0.5, KNN_PIPE__KNN__n_neighbors=4, KNN_PIPE__SCL=StandardScaler();, score=0.514 total time=   1.1s\n",
      "[CV 1/5] END DTR__max_depth=5, DTR__min_samples_leaf=10, DTR__min_samples_split=10, ELASTIC__alpha=1.2507499999999998, ELASTIC__l1_ratio=0.25, KNN_PIPE__KNN__n_neighbors=3, KNN_PIPE__SCL=MinMaxScaler();, score=0.530 total time=   0.8s\n",
      "[CV 2/5] END DTR__max_depth=5, DTR__min_samples_leaf=10, DTR__min_samples_split=10, ELASTIC__alpha=1.2507499999999998, ELASTIC__l1_ratio=0.25, KNN_PIPE__KNN__n_neighbors=3, KNN_PIPE__SCL=MinMaxScaler();, score=0.542 total time=   0.8s\n",
      "[CV 3/5] END DTR__max_depth=5, DTR__min_samples_leaf=10, DTR__min_samples_split=10, ELASTIC__alpha=1.2507499999999998, ELASTIC__l1_ratio=0.25, KNN_PIPE__KNN__n_neighbors=3, KNN_PIPE__SCL=MinMaxScaler();, score=0.545 total time=   0.8s\n",
      "[CV 4/5] END DTR__max_depth=5, DTR__min_samples_leaf=10, DTR__min_samples_split=10, ELASTIC__alpha=1.2507499999999998, ELASTIC__l1_ratio=0.25, KNN_PIPE__KNN__n_neighbors=3, KNN_PIPE__SCL=MinMaxScaler();, score=0.533 total time=   0.8s\n",
      "[CV 5/5] END DTR__max_depth=5, DTR__min_samples_leaf=10, DTR__min_samples_split=10, ELASTIC__alpha=1.2507499999999998, ELASTIC__l1_ratio=0.25, KNN_PIPE__KNN__n_neighbors=3, KNN_PIPE__SCL=MinMaxScaler();, score=0.531 total time=   0.8s\n",
      "{'KNN_PIPE__SCL': StandardScaler(), 'KNN_PIPE__KNN__n_neighbors': 4, 'ELASTIC__l1_ratio': 0.25, 'ELASTIC__alpha': 0.001, 'DTR__min_samples_split': 2, 'DTR__min_samples_leaf': 5, 'DTR__max_depth': 5}\n",
      "0.5576304019557815\n"
     ]
    }
   ],
   "source": [
    "kfold=KFold(n_splits=5,shuffle=True,random_state=23)\n",
    "elastic=ElasticNet()\n",
    "scalar=StandardScaler()\n",
    "Knn=KNeighborsRegressor() \n",
    "dtr=DecisionTreeRegressor(random_state=23,max_depth=4) \n",
    "\n",
    "alpha=np.linspace(0.001,5,5)\n",
    "l1_rat=np.linspace(0,1,5)\n",
    "\n",
    "knn_pipe=Pipeline([(\"SCL\",scalar),(\"KNN\",Knn)])\n",
    "\n",
    "voting=VotingRegressor(estimators=[('ELASTIC',elastic),('KNN_PIPE',knn_pipe),('DTR',dtr)])\n",
    "\n",
    "\n",
    "params={'ELASTIC__alpha':alpha,'ELASTIC__l1_ratio':l1_rat,\n",
    "       'KNN_PIPE__KNN__n_neighbors':[1,2,3,4],'KNN_PIPE__SCL':[StandardScaler(),MinMaxScaler()],\n",
    "       'DTR__max_depth':[None,3,5],'DTR__min_samples_split':[2,5,10],'DTR__min_samples_leaf':[1,5,10]}\n",
    "gcv=RandomizedSearchCV(voting,param_distributions=params,cv=kfold,verbose=3,n_iter=50)\n",
    "gcv.fit(X,y)\n",
    "print(gcv.best_params_)\n",
    "print(gcv.best_score_)"
   ]
  },
  {
   "cell_type": "code",
   "execution_count": 22,
   "id": "ab047568",
   "metadata": {},
   "outputs": [],
   "source": [
    "#Inferencing\n",
    "best_model=gcv.best_estimator_\n",
    "test=pd.read_csv(r\"test.csv\")\n",
    "dum_crab_test = pd.get_dummies(test,drop_first=True)\n",
    "y_pred=best_model.predict(dum_crab_test )\n",
    "submit_lg=pd.DataFrame({'id':test.id,'Age':np.round(y_pred)})\n",
    "submit_lg.to_csv(r\"/home/dai/Desktop/Practical Machine Learning/Day-09/crab/submittest.csv\",index=False)"
   ]
  },
  {
   "cell_type": "code",
   "execution_count": null,
   "id": "aee98805",
   "metadata": {},
   "outputs": [],
   "source": []
  }
 ],
 "metadata": {
  "kernelspec": {
   "display_name": "Python 3 (ipykernel)",
   "language": "python",
   "name": "python3"
  },
  "language_info": {
   "codemirror_mode": {
    "name": "ipython",
    "version": 3
   },
   "file_extension": ".py",
   "mimetype": "text/x-python",
   "name": "python",
   "nbconvert_exporter": "python",
   "pygments_lexer": "ipython3",
   "version": "3.11.5"
  }
 },
 "nbformat": 4,
 "nbformat_minor": 5
}
