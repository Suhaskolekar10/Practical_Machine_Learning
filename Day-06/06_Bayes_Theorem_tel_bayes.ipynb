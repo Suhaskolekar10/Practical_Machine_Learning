{
 "cells": [
  {
   "cell_type": "code",
   "execution_count": 1,
   "id": "146c87ba",
   "metadata": {},
   "outputs": [],
   "source": [
    "###-----------------\n",
    "### Import Libraries\n",
    "###-----------------\n",
    "\n",
    "from sklearn.naive_bayes import BernoulliNB\n",
    "import numpy as np\n",
    "import pandas as pd\n",
    "\n",
    "import warnings\n",
    "warnings.filterwarnings('ignore')"
   ]
  },
  {
   "cell_type": "code",
   "execution_count": 2,
   "id": "c3edfe9f",
   "metadata": {},
   "outputs": [
    {
     "data": {
      "text/html": [
       "<div>\n",
       "<style scoped>\n",
       "    .dataframe tbody tr th:only-of-type {\n",
       "        vertical-align: middle;\n",
       "    }\n",
       "\n",
       "    .dataframe tbody tr th {\n",
       "        vertical-align: top;\n",
       "    }\n",
       "\n",
       "    .dataframe thead th {\n",
       "        text-align: right;\n",
       "    }\n",
       "</style>\n",
       "<table border=\"1\" class=\"dataframe\">\n",
       "  <thead>\n",
       "    <tr style=\"text-align: right;\">\n",
       "      <th></th>\n",
       "      <th>TT_gt_100</th>\n",
       "      <th>Gender</th>\n",
       "      <th>Response</th>\n",
       "    </tr>\n",
       "  </thead>\n",
       "  <tbody>\n",
       "    <tr>\n",
       "      <th>0</th>\n",
       "      <td>y</td>\n",
       "      <td>male</td>\n",
       "      <td>not bought</td>\n",
       "    </tr>\n",
       "    <tr>\n",
       "      <th>1</th>\n",
       "      <td>n</td>\n",
       "      <td>male</td>\n",
       "      <td>not bought</td>\n",
       "    </tr>\n",
       "    <tr>\n",
       "      <th>2</th>\n",
       "      <td>n</td>\n",
       "      <td>female</td>\n",
       "      <td>not bought</td>\n",
       "    </tr>\n",
       "    <tr>\n",
       "      <th>3</th>\n",
       "      <td>n</td>\n",
       "      <td>female</td>\n",
       "      <td>not bought</td>\n",
       "    </tr>\n",
       "    <tr>\n",
       "      <th>4</th>\n",
       "      <td>n</td>\n",
       "      <td>male</td>\n",
       "      <td>not bought</td>\n",
       "    </tr>\n",
       "  </tbody>\n",
       "</table>\n",
       "</div>"
      ],
      "text/plain": [
       "  TT_gt_100  Gender    Response\n",
       "0         y    male  not bought\n",
       "1         n    male  not bought\n",
       "2         n  female  not bought\n",
       "3         n  female  not bought\n",
       "4         n    male  not bought"
      ]
     },
     "execution_count": 2,
     "metadata": {},
     "output_type": "execute_result"
    }
   ],
   "source": [
    "tel=pd.read_csv('tel_bayes.csv')\n",
    "\n",
    "tel.head()"
   ]
  },
  {
   "cell_type": "code",
   "execution_count": 3,
   "id": "44d5358d",
   "metadata": {},
   "outputs": [],
   "source": [
    "dum_tel=pd.get_dummies(tel,drop_first=True)\n",
    "\n",
    "nb=BernoulliNB(alpha=0,force_alpha=True)"
   ]
  },
  {
   "cell_type": "code",
   "execution_count": 4,
   "id": "39aa83d8",
   "metadata": {},
   "outputs": [],
   "source": [
    "x=dum_tel[['TT_gt_100_y','Gender_male']]\n",
    "\n",
    "y=dum_tel['Response_not bought']"
   ]
  },
  {
   "cell_type": "code",
   "execution_count": 5,
   "id": "fe4094dd",
   "metadata": {},
   "outputs": [
    {
     "name": "stdout",
     "output_type": "stream",
     "text": [
      "[['n' 'female']\n",
      " ['n' 'male']\n",
      " ['y' 'female']\n",
      " ['y' 'male']]\n",
      "  TT_gt_100  Gender\n",
      "0         n  female\n",
      "1         n    male\n",
      "2         y  female\n",
      "3         y    male\n"
     ]
    },
    {
     "data": {
      "text/plain": [
       "array([[0.31034483, 0.68965517],\n",
       "       [0.06976744, 0.93023256],\n",
       "       [0.87096774, 0.12903226],\n",
       "       [0.52941176, 0.47058824]])"
      ]
     },
     "execution_count": 5,
     "metadata": {},
     "output_type": "execute_result"
    }
   ],
   "source": [
    "nb.fit(x,y)\n",
    "tst=np.array([['n','female'],\n",
    "              ['n','male'],\n",
    "             ['y','female'],\n",
    "             ['y','male']])\n",
    "\n",
    "print(tst)\n",
    "\n",
    "tst=pd.DataFrame(tst,columns=['TT_gt_100','Gender'])\n",
    "print(tst)\n",
    "\n",
    "dum_tst=pd.get_dummies(tst,drop_first=True)\n",
    "nb.predict_proba(dum_tst)               # calculate posterior probability"
   ]
  },
  {
   "cell_type": "code",
   "execution_count": 6,
   "id": "f37f9ad1",
   "metadata": {},
   "outputs": [
    {
     "data": {
      "text/plain": [
       "array([ True,  True, False, False])"
      ]
     },
     "execution_count": 6,
     "metadata": {},
     "output_type": "execute_result"
    }
   ],
   "source": [
    "nb.predict(dum_tst) "
   ]
  },
  {
   "cell_type": "code",
   "execution_count": null,
   "id": "0ffc3531",
   "metadata": {},
   "outputs": [],
   "source": []
  }
 ],
 "metadata": {
  "kernelspec": {
   "display_name": "Python 3 (ipykernel)",
   "language": "python",
   "name": "python3"
  },
  "language_info": {
   "codemirror_mode": {
    "name": "ipython",
    "version": 3
   },
   "file_extension": ".py",
   "mimetype": "text/x-python",
   "name": "python",
   "nbconvert_exporter": "python",
   "pygments_lexer": "ipython3",
   "version": "3.11.5"
  }
 },
 "nbformat": 4,
 "nbformat_minor": 5
}
