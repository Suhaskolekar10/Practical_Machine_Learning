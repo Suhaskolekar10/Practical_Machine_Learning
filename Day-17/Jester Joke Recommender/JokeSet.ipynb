{
 "cells": [
  {
   "cell_type": "code",
   "execution_count": 3,
   "id": "2e1b9f6b",
   "metadata": {},
   "outputs": [],
   "source": [
    "import pandas as pd\n",
    "import numpy as np\n"
   ]
  },
  {
   "cell_type": "code",
   "execution_count": 4,
   "id": "656ea24b",
   "metadata": {},
   "outputs": [],
   "source": [
    "df = pd.read_excel(\"[final] April 2015 to Nov 30 2019 - Transformed Jester Data - .xlsx\",\n",
    "                   header=None)\n",
    "\n",
    "ratings = pd.melt(df, id_vars=0)\n",
    "ratings.columns=[\"uid\", \"iid\", \"rating\"]\n",
    "ratings = ratings[(ratings['rating']<=10) & (ratings['rating']>=-10)]"
   ]
  },
  {
   "cell_type": "code",
   "execution_count": null,
   "id": "aa153650",
   "metadata": {},
   "outputs": [],
   "source": []
  }
 ],
 "metadata": {
  "kernelspec": {
   "display_name": "Python 3 (ipykernel)",
   "language": "python",
   "name": "python3"
  },
  "language_info": {
   "codemirror_mode": {
    "name": "ipython",
    "version": 3
   },
   "file_extension": ".py",
   "mimetype": "text/x-python",
   "name": "python",
   "nbconvert_exporter": "python",
   "pygments_lexer": "ipython3",
   "version": "3.11.5"
  }
 },
 "nbformat": 4,
 "nbformat_minor": 5
}
