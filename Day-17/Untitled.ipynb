{
 "cells": [
  {
   "cell_type": "code",
   "execution_count": 1,
   "id": "ce773e33",
   "metadata": {},
   "outputs": [],
   "source": [
    "import pandas as pd\n",
    "import numpy as np\n",
    "from mlxtend.frequent_patterns import apriori\n",
    "from mlxtend.frequent_patterns import association_rules\n",
    "from mlxtend.preprocessing import TransactionEncoder\n"
   ]
  },
  {
   "cell_type": "code",
   "execution_count": 2,
   "id": "36c825b8",
   "metadata": {},
   "outputs": [],
   "source": [
    "groceries=[]\n",
    "with open('DataSetA.csv','r') as f:groceries = f.read()\n",
    "groceries = groceries.split(\"\\n\")"
   ]
  },
  {
   "cell_type": "code",
   "execution_count": 3,
   "id": "683529f0",
   "metadata": {},
   "outputs": [],
   "source": [
    "groceries_list=[]\n",
    "for i in groceries:\n",
    "    groceries_list.append(i.split(\",\"))"
   ]
  },
  {
   "cell_type": "code",
   "execution_count": 4,
   "id": "4e31142b",
   "metadata": {},
   "outputs": [
    {
     "data": {
      "text/plain": [
       "array([[ True, False,  True, ..., False, False,  True],\n",
       "       [ True, False, False, ..., False, False, False],\n",
       "       [ True, False,  True, ..., False,  True, False],\n",
       "       ...,\n",
       "       [ True,  True, False, ..., False, False,  True],\n",
       "       [ True,  True, False, ..., False, False,  True],\n",
       "       [ True, False, False, ..., False, False, False]])"
      ]
     },
     "execution_count": 4,
     "metadata": {},
     "output_type": "execute_result"
    }
   ],
   "source": [
    "te=TransactionEncoder()\n",
    "te_ary=te.fit(groceries_list).transform(groceries_list)\n",
    "te_ary"
   ]
  },
  {
   "cell_type": "code",
   "execution_count": 5,
   "id": "46291cfe",
   "metadata": {},
   "outputs": [
    {
     "name": "stdout",
     "output_type": "stream",
     "text": [
      "            Items  Freq\n",
      "6            Milk  5526\n",
      "4            Ghee  5510\n",
      "3   Coffee Powder  5509\n",
      "11        Yougurt  5503\n",
      "0           Bread  5484\n",
      "9           Sweet  5483\n",
      "8           Sugar  5482\n",
      "1          Butter  5481\n",
      "2          Cheese  5476\n",
      "7          Panner  5444\n",
      "5           Lassi  5432\n",
      "10     Tea Powder  5383\n"
     ]
    }
   ],
   "source": [
    "fp_df=pd.DataFrame(te_ary,columns=te.columns_)\n",
    "fp_df = fp_df.iloc[:,1:]\n",
    "one_freq=fp_df.sum().reset_index()\n",
    "one_freq.columns=[\"Items\",\"Freq\"]\n",
    "\n",
    "print(one_freq.sort_values(by='Freq',ascending=False))"
   ]
  },
  {
   "cell_type": "code",
   "execution_count": null,
   "id": "2183b862",
   "metadata": {},
   "outputs": [],
   "source": []
  }
 ],
 "metadata": {
  "kernelspec": {
   "display_name": "Python 3 (ipykernel)",
   "language": "python",
   "name": "python3"
  },
  "language_info": {
   "codemirror_mode": {
    "name": "ipython",
    "version": 3
   },
   "file_extension": ".py",
   "mimetype": "text/x-python",
   "name": "python",
   "nbconvert_exporter": "python",
   "pygments_lexer": "ipython3",
   "version": "3.11.5"
  }
 },
 "nbformat": 4,
 "nbformat_minor": 5
}
