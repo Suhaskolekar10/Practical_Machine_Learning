{
 "cells": [
  {
   "cell_type": "code",
   "execution_count": 1,
   "id": "2e1b9f6b",
   "metadata": {},
   "outputs": [],
   "source": [
    "import pandas as pd\n",
    "import numpy as np\n"
   ]
  },
  {
   "cell_type": "code",
   "execution_count": 3,
   "id": "656ea24b",
   "metadata": {},
   "outputs": [],
   "source": [
    "df = pd.read_excel(\"[final] April 2015 to Nov 30 2019 - Transformed Jester Data - .xlsx\",\n",
    "                   header=None)\n",
    "\n",
    "ratings = pd.melt(df, id_vars=0)\n",
    "ratings.columns=[\"uid\", \"iid\", \"rating\"]        #Sequence is standard\n",
    "ratings = ratings[(ratings['rating']<=10) & (ratings['rating']>=-10)]"
   ]
  },
  {
   "cell_type": "code",
   "execution_count": 4,
   "id": "aa153650",
   "metadata": {},
   "outputs": [
    {
     "data": {
      "text/html": [
       "<div>\n",
       "<style scoped>\n",
       "    .dataframe tbody tr th:only-of-type {\n",
       "        vertical-align: middle;\n",
       "    }\n",
       "\n",
       "    .dataframe tbody tr th {\n",
       "        vertical-align: top;\n",
       "    }\n",
       "\n",
       "    .dataframe thead th {\n",
       "        text-align: right;\n",
       "    }\n",
       "</style>\n",
       "<table border=\"1\" class=\"dataframe\">\n",
       "  <thead>\n",
       "    <tr style=\"text-align: right;\">\n",
       "      <th></th>\n",
       "      <th>uid</th>\n",
       "      <th>iid</th>\n",
       "      <th>rating</th>\n",
       "    </tr>\n",
       "  </thead>\n",
       "  <tbody>\n",
       "    <tr>\n",
       "      <th>46200</th>\n",
       "      <td>112</td>\n",
       "      <td>7</td>\n",
       "      <td>-4.45</td>\n",
       "    </tr>\n",
       "    <tr>\n",
       "      <th>46233</th>\n",
       "      <td>75</td>\n",
       "      <td>7</td>\n",
       "      <td>-10.00</td>\n",
       "    </tr>\n",
       "    <tr>\n",
       "      <th>46282</th>\n",
       "      <td>73</td>\n",
       "      <td>7</td>\n",
       "      <td>-5.76</td>\n",
       "    </tr>\n",
       "    <tr>\n",
       "      <th>46286</th>\n",
       "      <td>67</td>\n",
       "      <td>7</td>\n",
       "      <td>9.04</td>\n",
       "    </tr>\n",
       "    <tr>\n",
       "      <th>46304</th>\n",
       "      <td>121</td>\n",
       "      <td>7</td>\n",
       "      <td>0.00</td>\n",
       "    </tr>\n",
       "    <tr>\n",
       "      <th>...</th>\n",
       "      <td>...</td>\n",
       "      <td>...</td>\n",
       "      <td>...</td>\n",
       "    </tr>\n",
       "    <tr>\n",
       "      <th>1216420</th>\n",
       "      <td>33</td>\n",
       "      <td>158</td>\n",
       "      <td>0.00</td>\n",
       "    </tr>\n",
       "    <tr>\n",
       "      <th>1216425</th>\n",
       "      <td>67</td>\n",
       "      <td>158</td>\n",
       "      <td>2.73</td>\n",
       "    </tr>\n",
       "    <tr>\n",
       "      <th>1216433</th>\n",
       "      <td>50</td>\n",
       "      <td>158</td>\n",
       "      <td>0.41</td>\n",
       "    </tr>\n",
       "    <tr>\n",
       "      <th>1216439</th>\n",
       "      <td>26</td>\n",
       "      <td>158</td>\n",
       "      <td>0.65</td>\n",
       "    </tr>\n",
       "    <tr>\n",
       "      <th>1216440</th>\n",
       "      <td>64</td>\n",
       "      <td>158</td>\n",
       "      <td>0.00</td>\n",
       "    </tr>\n",
       "  </tbody>\n",
       "</table>\n",
       "<p>105948 rows × 3 columns</p>\n",
       "</div>"
      ],
      "text/plain": [
       "         uid  iid  rating\n",
       "46200    112    7   -4.45\n",
       "46233     75    7  -10.00\n",
       "46282     73    7   -5.76\n",
       "46286     67    7    9.04\n",
       "46304    121    7    0.00\n",
       "...      ...  ...     ...\n",
       "1216420   33  158    0.00\n",
       "1216425   67  158    2.73\n",
       "1216433   50  158    0.41\n",
       "1216439   26  158    0.65\n",
       "1216440   64  158    0.00\n",
       "\n",
       "[105948 rows x 3 columns]"
      ]
     },
     "execution_count": 4,
     "metadata": {},
     "output_type": "execute_result"
    }
   ],
   "source": [
    "ratings"
   ]
  },
  {
   "cell_type": "code",
   "execution_count": null,
   "id": "ce969805",
   "metadata": {},
   "outputs": [],
   "source": []
  }
 ],
 "metadata": {
  "kernelspec": {
   "display_name": "Python 3 (ipykernel)",
   "language": "python",
   "name": "python3"
  },
  "language_info": {
   "codemirror_mode": {
    "name": "ipython",
    "version": 3
   },
   "file_extension": ".py",
   "mimetype": "text/x-python",
   "name": "python",
   "nbconvert_exporter": "python",
   "pygments_lexer": "ipython3",
   "version": "3.11.5"
  }
 },
 "nbformat": 4,
 "nbformat_minor": 5
}
