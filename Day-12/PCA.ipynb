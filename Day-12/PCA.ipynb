{
 "cells": [
  {
   "cell_type": "code",
   "execution_count": 1,
   "metadata": {},
   "outputs": [],
   "source": [
    "import pandas as pd\n",
    "from sklearn.decomposition import PCA\n",
    "import numpy as np  \n",
    "import seaborn as sns \n",
    "import matplotlib.pyplot as plt "
   ]
  },
  {
   "cell_type": "code",
   "execution_count": 2,
   "metadata": {},
   "outputs": [],
   "source": [
    "from sklearn.preprocessing import LabelEncoder\n",
    "bcancer=pd.read_csv('BreastCancer.csv',index_col=0)\n",
    "lbl=LabelEncoder()\n",
    "X=bcancer.drop('Class',axis=1)\n",
    "bcancer['Class']=lbl.fit_transform(bcancer['Class'])\n",
    "y=bcancer['Class']"
   ]
  },
  {
   "cell_type": "code",
   "execution_count": 3,
   "metadata": {},
   "outputs": [],
   "source": [
    "from sklearn.model_selection import train_test_split\n",
    "X_train,X_test,y_train,y_test=train_test_split(X,y,test_size=0.3,random_state=23,stratify=y)"
   ]
  },
  {
   "cell_type": "code",
   "execution_count": 4,
   "metadata": {},
   "outputs": [
    {
     "name": "stdout",
     "output_type": "stream",
     "text": [
      "Acc with original= 0.9476190476190476\n"
     ]
    }
   ],
   "source": [
    "from sklearn.svm import SVC\n",
    "svm=SVC(kernel='linear',probability=True,random_state=23)\n",
    "svm.fit(X_train,y_train)\n",
    "y_pred=svm.predict(X_test)\n",
    "\n",
    "from sklearn.metrics import accuracy_score\n",
    "print(\"Acc with original=\",accuracy_score(y_test,y_pred))"
   ]
  },
  {
   "cell_type": "code",
   "execution_count": 5,
   "metadata": {},
   "outputs": [],
   "source": [
    "############PCA###########"
   ]
  },
  {
   "cell_type": "code",
   "execution_count": 6,
   "metadata": {},
   "outputs": [],
   "source": [
    "bcancer=pd.read_csv('BreastCancer.csv',index_col=0)\n",
    "X=bcancer.drop('Class',axis=1)\n",
    "y=bcancer['Class']"
   ]
  },
  {
   "cell_type": "code",
   "execution_count": 7,
   "metadata": {},
   "outputs": [
    {
     "data": {
      "text/plain": [
       "array([[-1.57841013,  1.25095202, -1.69774187, ...,  1.30962487,\n",
       "        -0.51207481,  1.02275621],\n",
       "       [ 6.68545934, -4.12183441, -0.7124457 , ..., -2.50879127,\n",
       "         1.20256752, -0.74975801],\n",
       "       [ 4.89908205, -4.10229349, -5.16877536, ..., -0.43818012,\n",
       "        -1.78611146, -1.68040045],\n",
       "       ...,\n",
       "       [-4.08126534,  0.57542221, -1.59605535, ..., -0.89485118,\n",
       "         0.13071976,  0.01115609],\n",
       "       [-5.27938656, -0.04679289, -1.04786339, ...,  0.05818393,\n",
       "        -0.59439747,  0.17930615],\n",
       "       [-5.13850741,  0.60975875,  1.41164787, ...,  0.5318913 ,\n",
       "        -0.59112945, -1.28662124]])"
      ]
     },
     "execution_count": 7,
     "metadata": {},
     "output_type": "execute_result"
    }
   ],
   "source": [
    "prcomp=PCA()\n",
    "score=prcomp.fit_transform(X)\n",
    "score"
   ]
  },
  {
   "cell_type": "code",
   "execution_count": 8,
   "metadata": {},
   "outputs": [
    {
     "data": {
      "text/plain": [
       "array([[-1.57841013,  1.25095202, -1.69774187],\n",
       "       [ 6.68545934, -4.12183441, -0.7124457 ],\n",
       "       [ 4.89908205, -4.10229349, -5.16877536],\n",
       "       ...,\n",
       "       [-4.08126534,  0.57542221, -1.59605535],\n",
       "       [-5.27938656, -0.04679289, -1.04786339],\n",
       "       [-5.13850741,  0.60975875,  1.41164787]])"
      ]
     },
     "execution_count": 8,
     "metadata": {},
     "output_type": "execute_result"
    }
   ],
   "source": [
    "score[:,:3]"
   ]
  },
  {
   "cell_type": "code",
   "execution_count": 9,
   "metadata": {},
   "outputs": [
    {
     "name": "stdout",
     "output_type": "stream",
     "text": [
      "Accuracy with PCA: 0.9571428571428572\n"
     ]
    }
   ],
   "source": [
    "score_train,score_test,y_train,y_test=train_test_split(score[:,:3],y,test_size=0.3,random_state=23,stratify=y)\n",
    "svm.fit(score_train,y_train)\n",
    "from sklearn.svm import SVC\n",
    "svm=SVC(kernel='linear')\n",
    "svm.fit(score_train,y_train)\n",
    "y_pred=svm.predict(score_test)\n",
    "\n",
    "from sklearn.metrics import accuracy_score\n",
    "print(\"Accuracy with PCA:\",accuracy_score(y_test,y_pred))"
   ]
  },
  {
   "cell_type": "markdown",
   "metadata": {},
   "source": [
    "# Accuracy is better using PCA than original"
   ]
  },
  {
   "cell_type": "code",
   "execution_count": null,
   "metadata": {},
   "outputs": [],
   "source": []
  },
  {
   "cell_type": "markdown",
   "metadata": {},
   "source": [
    "# PCA SEPARATELY FOR TRAIN AND TEST (usually PCA done this way)"
   ]
  },
  {
   "cell_type": "code",
   "execution_count": 13,
   "metadata": {},
   "outputs": [],
   "source": [
    "X_train,X_test,y_train,y_test=train_test_split(X,y,test_size=0.3,random_state=23)"
   ]
  },
  {
   "cell_type": "code",
   "execution_count": 14,
   "metadata": {},
   "outputs": [
    {
     "name": "stdout",
     "output_type": "stream",
     "text": [
      "ACC with PC= 0.9619047619047619\n"
     ]
    }
   ],
   "source": [
    "prcomp=PCA()\n",
    "X_trn_PC=prcomp.fit_transform(X_train)\n",
    "X_tst_PC=prcomp.transform(X_test)\n",
    "svm=SVC(kernel='linear')\n",
    "svm.fit(X_trn_PC[:,:3],y_train)\n",
    "y_pred=svm.predict(X_tst_PC[:,:3])\n",
    "print(\"ACC with PC=\", accuracy_score(y_test,y_pred))"
   ]
  },
  {
   "cell_type": "markdown",
   "metadata": {},
   "source": [
    "# PIPELINE"
   ]
  },
  {
   "cell_type": "code",
   "execution_count": 15,
   "metadata": {},
   "outputs": [],
   "source": [
    "from sklearn.pipeline import Pipeline\n",
    "X_train,X_test,y_train,y_test = train_test_split(X,y,test_size=0.3,random_state=23)"
   ]
  },
  {
   "cell_type": "code",
   "execution_count": 17,
   "metadata": {},
   "outputs": [
    {
     "name": "stdout",
     "output_type": "stream",
     "text": [
      "Acc with PC = 0.9619047619047619\n"
     ]
    }
   ],
   "source": [
    "prcomp=PCA(n_components=3)\n",
    "svm=SVC(kernel='linear')\n",
    "pipe_svc=Pipeline([('PC',prcomp),('SVM',svm)])\n",
    "pipe_svc.fit(X_train,y_train)\n",
    "y_pred=pipe_svc.predict(X_test)\n",
    "print(\"Acc with PC =\",accuracy_score(y_test,y_pred))"
   ]
  },
  {
   "cell_type": "code",
   "execution_count": 26,
   "metadata": {},
   "outputs": [],
   "source": [
    "#KFold is used for Regression"
   ]
  },
  {
   "cell_type": "code",
   "execution_count": 25,
   "metadata": {},
   "outputs": [
    {
     "name": "stdout",
     "output_type": "stream",
     "text": [
      "Fitting 5 folds for each of 40 candidates, totalling 200 fits\n",
      "[CV 1/5] END ..PC__n_components=2, SVM__C=0.001;, score=0.950 total time=   0.0s\n",
      "[CV 2/5] END ..PC__n_components=2, SVM__C=0.001;, score=0.971 total time=   0.0s\n",
      "[CV 3/5] END ..PC__n_components=2, SVM__C=0.001;, score=0.986 total time=   0.0s\n",
      "[CV 4/5] END ..PC__n_components=2, SVM__C=0.001;, score=0.971 total time=   0.0s\n",
      "[CV 5/5] END ..PC__n_components=2, SVM__C=0.001;, score=0.935 total time=   0.0s\n",
      "[CV 1/5] END PC__n_components=2, SVM__C=0.5564444444444444;, score=0.943 total time=   0.0s\n",
      "[CV 2/5] END PC__n_components=2, SVM__C=0.5564444444444444;, score=0.979 total time=   0.0s\n",
      "[CV 3/5] END PC__n_components=2, SVM__C=0.5564444444444444;, score=0.986 total time=   0.0s\n",
      "[CV 4/5] END PC__n_components=2, SVM__C=0.5564444444444444;, score=0.979 total time=   0.0s\n",
      "[CV 5/5] END PC__n_components=2, SVM__C=0.5564444444444444;, score=0.935 total time=   0.0s\n",
      "[CV 1/5] END PC__n_components=2, SVM__C=1.1118888888888887;, score=0.943 total time=   0.0s\n",
      "[CV 2/5] END PC__n_components=2, SVM__C=1.1118888888888887;, score=0.979 total time=   0.0s\n",
      "[CV 3/5] END PC__n_components=2, SVM__C=1.1118888888888887;, score=0.986 total time=   0.0s\n",
      "[CV 4/5] END PC__n_components=2, SVM__C=1.1118888888888887;, score=0.979 total time=   0.0s\n",
      "[CV 5/5] END PC__n_components=2, SVM__C=1.1118888888888887;, score=0.935 total time=   0.0s\n",
      "[CV 1/5] END PC__n_components=2, SVM__C=1.6673333333333331;, score=0.936 total time=   0.0s\n",
      "[CV 2/5] END PC__n_components=2, SVM__C=1.6673333333333331;, score=0.979 total time=   0.0s\n",
      "[CV 3/5] END PC__n_components=2, SVM__C=1.6673333333333331;, score=0.986 total time=   0.0s\n",
      "[CV 4/5] END PC__n_components=2, SVM__C=1.6673333333333331;, score=0.979 total time=   0.0s\n",
      "[CV 5/5] END PC__n_components=2, SVM__C=1.6673333333333331;, score=0.935 total time=   0.0s\n",
      "[CV 1/5] END PC__n_components=2, SVM__C=2.2227777777777775;, score=0.936 total time=   0.0s\n",
      "[CV 2/5] END PC__n_components=2, SVM__C=2.2227777777777775;, score=0.979 total time=   0.0s\n",
      "[CV 3/5] END PC__n_components=2, SVM__C=2.2227777777777775;, score=0.986 total time=   0.0s\n",
      "[CV 4/5] END PC__n_components=2, SVM__C=2.2227777777777775;, score=0.979 total time=   0.0s\n",
      "[CV 5/5] END PC__n_components=2, SVM__C=2.2227777777777775;, score=0.935 total time=   0.0s\n",
      "[CV 1/5] END PC__n_components=2, SVM__C=2.778222222222222;, score=0.936 total time=   0.0s\n",
      "[CV 2/5] END PC__n_components=2, SVM__C=2.778222222222222;, score=0.979 total time=   0.0s\n",
      "[CV 3/5] END PC__n_components=2, SVM__C=2.778222222222222;, score=0.986 total time=   0.0s\n",
      "[CV 4/5] END PC__n_components=2, SVM__C=2.778222222222222;, score=0.979 total time=   0.0s\n",
      "[CV 5/5] END PC__n_components=2, SVM__C=2.778222222222222;, score=0.935 total time=   0.0s\n",
      "[CV 1/5] END PC__n_components=2, SVM__C=3.3336666666666663;, score=0.936 total time=   0.0s\n",
      "[CV 2/5] END PC__n_components=2, SVM__C=3.3336666666666663;, score=0.979 total time=   0.0s\n",
      "[CV 3/5] END PC__n_components=2, SVM__C=3.3336666666666663;, score=0.986 total time=   0.0s\n",
      "[CV 4/5] END PC__n_components=2, SVM__C=3.3336666666666663;, score=0.979 total time=   0.0s\n",
      "[CV 5/5] END PC__n_components=2, SVM__C=3.3336666666666663;, score=0.935 total time=   0.0s\n",
      "[CV 1/5] END PC__n_components=2, SVM__C=3.8891111111111107;, score=0.936 total time=   0.0s\n",
      "[CV 2/5] END PC__n_components=2, SVM__C=3.8891111111111107;, score=0.979 total time=   0.0s\n",
      "[CV 3/5] END PC__n_components=2, SVM__C=3.8891111111111107;, score=0.986 total time=   0.0s\n",
      "[CV 4/5] END PC__n_components=2, SVM__C=3.8891111111111107;, score=0.979 total time=   0.0s\n",
      "[CV 5/5] END PC__n_components=2, SVM__C=3.8891111111111107;, score=0.935 total time=   0.0s\n",
      "[CV 1/5] END PC__n_components=2, SVM__C=4.444555555555556;, score=0.936 total time=   0.0s\n",
      "[CV 2/5] END PC__n_components=2, SVM__C=4.444555555555556;, score=0.979 total time=   0.0s\n",
      "[CV 3/5] END PC__n_components=2, SVM__C=4.444555555555556;, score=0.986 total time=   0.0s\n",
      "[CV 4/5] END PC__n_components=2, SVM__C=4.444555555555556;, score=0.979 total time=   0.0s\n",
      "[CV 5/5] END PC__n_components=2, SVM__C=4.444555555555556;, score=0.935 total time=   0.0s\n",
      "[CV 1/5] END ....PC__n_components=2, SVM__C=5.0;, score=0.936 total time=   0.0s\n",
      "[CV 2/5] END ....PC__n_components=2, SVM__C=5.0;, score=0.979 total time=   0.0s\n",
      "[CV 3/5] END ....PC__n_components=2, SVM__C=5.0;, score=0.986 total time=   0.0s\n",
      "[CV 4/5] END ....PC__n_components=2, SVM__C=5.0;, score=0.979 total time=   0.0s\n",
      "[CV 5/5] END ....PC__n_components=2, SVM__C=5.0;, score=0.935 total time=   0.0s\n",
      "[CV 1/5] END ..PC__n_components=3, SVM__C=0.001;, score=0.950 total time=   0.0s\n",
      "[CV 2/5] END ..PC__n_components=3, SVM__C=0.001;, score=0.971 total time=   0.0s\n",
      "[CV 3/5] END ..PC__n_components=3, SVM__C=0.001;, score=0.993 total time=   0.0s\n",
      "[CV 4/5] END ..PC__n_components=3, SVM__C=0.001;, score=0.971 total time=   0.0s\n",
      "[CV 5/5] END ..PC__n_components=3, SVM__C=0.001;, score=0.935 total time=   0.0s\n",
      "[CV 1/5] END PC__n_components=3, SVM__C=0.5564444444444444;, score=0.964 total time=   0.0s\n",
      "[CV 2/5] END PC__n_components=3, SVM__C=0.5564444444444444;, score=0.979 total time=   0.0s\n",
      "[CV 3/5] END PC__n_components=3, SVM__C=0.5564444444444444;, score=0.993 total time=   0.0s\n",
      "[CV 4/5] END PC__n_components=3, SVM__C=0.5564444444444444;, score=0.971 total time=   0.0s\n",
      "[CV 5/5] END PC__n_components=3, SVM__C=0.5564444444444444;, score=0.942 total time=   0.0s\n",
      "[CV 1/5] END PC__n_components=3, SVM__C=1.1118888888888887;, score=0.964 total time=   0.0s\n",
      "[CV 2/5] END PC__n_components=3, SVM__C=1.1118888888888887;, score=0.979 total time=   0.0s\n",
      "[CV 3/5] END PC__n_components=3, SVM__C=1.1118888888888887;, score=0.993 total time=   0.0s\n",
      "[CV 4/5] END PC__n_components=3, SVM__C=1.1118888888888887;, score=0.971 total time=   0.0s\n",
      "[CV 5/5] END PC__n_components=3, SVM__C=1.1118888888888887;, score=0.942 total time=   0.0s\n",
      "[CV 1/5] END PC__n_components=3, SVM__C=1.6673333333333331;, score=0.964 total time=   0.0s\n",
      "[CV 2/5] END PC__n_components=3, SVM__C=1.6673333333333331;, score=0.979 total time=   0.0s\n",
      "[CV 3/5] END PC__n_components=3, SVM__C=1.6673333333333331;, score=0.993 total time=   0.0s\n",
      "[CV 4/5] END PC__n_components=3, SVM__C=1.6673333333333331;, score=0.971 total time=   0.0s\n",
      "[CV 5/5] END PC__n_components=3, SVM__C=1.6673333333333331;, score=0.942 total time=   0.0s\n",
      "[CV 1/5] END PC__n_components=3, SVM__C=2.2227777777777775;, score=0.964 total time=   0.0s\n",
      "[CV 2/5] END PC__n_components=3, SVM__C=2.2227777777777775;, score=0.979 total time=   0.0s\n",
      "[CV 3/5] END PC__n_components=3, SVM__C=2.2227777777777775;, score=0.993 total time=   0.0s\n",
      "[CV 4/5] END PC__n_components=3, SVM__C=2.2227777777777775;, score=0.971 total time=   0.0s\n",
      "[CV 5/5] END PC__n_components=3, SVM__C=2.2227777777777775;, score=0.942 total time=   0.0s\n",
      "[CV 1/5] END PC__n_components=3, SVM__C=2.778222222222222;, score=0.964 total time=   0.0s\n",
      "[CV 2/5] END PC__n_components=3, SVM__C=2.778222222222222;, score=0.979 total time=   0.0s\n",
      "[CV 3/5] END PC__n_components=3, SVM__C=2.778222222222222;, score=0.993 total time=   0.0s\n",
      "[CV 4/5] END PC__n_components=3, SVM__C=2.778222222222222;, score=0.971 total time=   0.0s\n",
      "[CV 5/5] END PC__n_components=3, SVM__C=2.778222222222222;, score=0.942 total time=   0.0s\n",
      "[CV 1/5] END PC__n_components=3, SVM__C=3.3336666666666663;, score=0.964 total time=   0.0s\n",
      "[CV 2/5] END PC__n_components=3, SVM__C=3.3336666666666663;, score=0.979 total time=   0.0s\n",
      "[CV 3/5] END PC__n_components=3, SVM__C=3.3336666666666663;, score=0.993 total time=   0.0s\n",
      "[CV 4/5] END PC__n_components=3, SVM__C=3.3336666666666663;, score=0.971 total time=   0.0s\n",
      "[CV 5/5] END PC__n_components=3, SVM__C=3.3336666666666663;, score=0.942 total time=   0.0s\n",
      "[CV 1/5] END PC__n_components=3, SVM__C=3.8891111111111107;, score=0.964 total time=   0.0s\n",
      "[CV 2/5] END PC__n_components=3, SVM__C=3.8891111111111107;, score=0.979 total time=   0.0s\n",
      "[CV 3/5] END PC__n_components=3, SVM__C=3.8891111111111107;, score=0.993 total time=   0.0s\n",
      "[CV 4/5] END PC__n_components=3, SVM__C=3.8891111111111107;, score=0.971 total time=   0.0s\n",
      "[CV 5/5] END PC__n_components=3, SVM__C=3.8891111111111107;, score=0.942 total time=   0.0s\n",
      "[CV 1/5] END PC__n_components=3, SVM__C=4.444555555555556;, score=0.964 total time=   0.0s\n",
      "[CV 2/5] END PC__n_components=3, SVM__C=4.444555555555556;, score=0.979 total time=   0.0s\n",
      "[CV 3/5] END PC__n_components=3, SVM__C=4.444555555555556;, score=0.993 total time=   0.0s\n",
      "[CV 4/5] END PC__n_components=3, SVM__C=4.444555555555556;, score=0.971 total time=   0.0s\n",
      "[CV 5/5] END PC__n_components=3, SVM__C=4.444555555555556;, score=0.942 total time=   0.0s\n"
     ]
    },
    {
     "name": "stdout",
     "output_type": "stream",
     "text": [
      "[CV 1/5] END ....PC__n_components=3, SVM__C=5.0;, score=0.964 total time=   0.0s\n",
      "[CV 2/5] END ....PC__n_components=3, SVM__C=5.0;, score=0.979 total time=   0.0s\n",
      "[CV 3/5] END ....PC__n_components=3, SVM__C=5.0;, score=0.993 total time=   0.0s\n",
      "[CV 4/5] END ....PC__n_components=3, SVM__C=5.0;, score=0.971 total time=   0.0s\n",
      "[CV 5/5] END ....PC__n_components=3, SVM__C=5.0;, score=0.942 total time=   0.0s\n",
      "[CV 1/5] END ..PC__n_components=4, SVM__C=0.001;, score=0.950 total time=   0.0s\n",
      "[CV 2/5] END ..PC__n_components=4, SVM__C=0.001;, score=0.971 total time=   0.0s\n",
      "[CV 3/5] END ..PC__n_components=4, SVM__C=0.001;, score=0.993 total time=   0.0s\n",
      "[CV 4/5] END ..PC__n_components=4, SVM__C=0.001;, score=0.979 total time=   0.0s\n",
      "[CV 5/5] END ..PC__n_components=4, SVM__C=0.001;, score=0.928 total time=   0.0s\n",
      "[CV 1/5] END PC__n_components=4, SVM__C=0.5564444444444444;, score=0.964 total time=   0.0s\n",
      "[CV 2/5] END PC__n_components=4, SVM__C=0.5564444444444444;, score=0.979 total time=   0.0s\n",
      "[CV 3/5] END PC__n_components=4, SVM__C=0.5564444444444444;, score=0.993 total time=   0.0s\n",
      "[CV 4/5] END PC__n_components=4, SVM__C=0.5564444444444444;, score=0.971 total time=   0.0s\n",
      "[CV 5/5] END PC__n_components=4, SVM__C=0.5564444444444444;, score=0.942 total time=   0.0s\n",
      "[CV 1/5] END PC__n_components=4, SVM__C=1.1118888888888887;, score=0.964 total time=   0.0s\n",
      "[CV 2/5] END PC__n_components=4, SVM__C=1.1118888888888887;, score=0.979 total time=   0.0s\n",
      "[CV 3/5] END PC__n_components=4, SVM__C=1.1118888888888887;, score=0.993 total time=   0.0s\n",
      "[CV 4/5] END PC__n_components=4, SVM__C=1.1118888888888887;, score=0.971 total time=   0.0s\n",
      "[CV 5/5] END PC__n_components=4, SVM__C=1.1118888888888887;, score=0.942 total time=   0.0s\n",
      "[CV 1/5] END PC__n_components=4, SVM__C=1.6673333333333331;, score=0.964 total time=   0.0s\n",
      "[CV 2/5] END PC__n_components=4, SVM__C=1.6673333333333331;, score=0.979 total time=   0.0s\n",
      "[CV 3/5] END PC__n_components=4, SVM__C=1.6673333333333331;, score=0.993 total time=   0.0s\n",
      "[CV 4/5] END PC__n_components=4, SVM__C=1.6673333333333331;, score=0.971 total time=   0.0s\n",
      "[CV 5/5] END PC__n_components=4, SVM__C=1.6673333333333331;, score=0.942 total time=   0.0s\n",
      "[CV 1/5] END PC__n_components=4, SVM__C=2.2227777777777775;, score=0.964 total time=   0.0s\n",
      "[CV 2/5] END PC__n_components=4, SVM__C=2.2227777777777775;, score=0.979 total time=   0.0s\n",
      "[CV 3/5] END PC__n_components=4, SVM__C=2.2227777777777775;, score=0.993 total time=   0.0s\n",
      "[CV 4/5] END PC__n_components=4, SVM__C=2.2227777777777775;, score=0.971 total time=   0.0s\n",
      "[CV 5/5] END PC__n_components=4, SVM__C=2.2227777777777775;, score=0.942 total time=   0.0s\n",
      "[CV 1/5] END PC__n_components=4, SVM__C=2.778222222222222;, score=0.964 total time=   0.0s\n",
      "[CV 2/5] END PC__n_components=4, SVM__C=2.778222222222222;, score=0.979 total time=   0.0s\n",
      "[CV 3/5] END PC__n_components=4, SVM__C=2.778222222222222;, score=0.993 total time=   0.0s\n",
      "[CV 4/5] END PC__n_components=4, SVM__C=2.778222222222222;, score=0.971 total time=   0.0s\n",
      "[CV 5/5] END PC__n_components=4, SVM__C=2.778222222222222;, score=0.942 total time=   0.0s\n",
      "[CV 1/5] END PC__n_components=4, SVM__C=3.3336666666666663;, score=0.964 total time=   0.0s\n",
      "[CV 2/5] END PC__n_components=4, SVM__C=3.3336666666666663;, score=0.979 total time=   0.0s\n",
      "[CV 3/5] END PC__n_components=4, SVM__C=3.3336666666666663;, score=0.993 total time=   0.0s\n",
      "[CV 4/5] END PC__n_components=4, SVM__C=3.3336666666666663;, score=0.971 total time=   0.0s\n",
      "[CV 5/5] END PC__n_components=4, SVM__C=3.3336666666666663;, score=0.942 total time=   0.0s\n",
      "[CV 1/5] END PC__n_components=4, SVM__C=3.8891111111111107;, score=0.964 total time=   0.0s\n",
      "[CV 2/5] END PC__n_components=4, SVM__C=3.8891111111111107;, score=0.979 total time=   0.0s\n",
      "[CV 3/5] END PC__n_components=4, SVM__C=3.8891111111111107;, score=0.993 total time=   0.0s\n",
      "[CV 4/5] END PC__n_components=4, SVM__C=3.8891111111111107;, score=0.971 total time=   0.0s\n",
      "[CV 5/5] END PC__n_components=4, SVM__C=3.8891111111111107;, score=0.942 total time=   0.0s\n",
      "[CV 1/5] END PC__n_components=4, SVM__C=4.444555555555556;, score=0.964 total time=   0.0s\n",
      "[CV 2/5] END PC__n_components=4, SVM__C=4.444555555555556;, score=0.979 total time=   0.0s\n",
      "[CV 3/5] END PC__n_components=4, SVM__C=4.444555555555556;, score=0.993 total time=   0.0s\n",
      "[CV 4/5] END PC__n_components=4, SVM__C=4.444555555555556;, score=0.971 total time=   0.0s\n",
      "[CV 5/5] END PC__n_components=4, SVM__C=4.444555555555556;, score=0.942 total time=   0.0s\n",
      "[CV 1/5] END ....PC__n_components=4, SVM__C=5.0;, score=0.964 total time=   0.0s\n",
      "[CV 2/5] END ....PC__n_components=4, SVM__C=5.0;, score=0.979 total time=   0.0s\n",
      "[CV 3/5] END ....PC__n_components=4, SVM__C=5.0;, score=0.993 total time=   0.0s\n",
      "[CV 4/5] END ....PC__n_components=4, SVM__C=5.0;, score=0.971 total time=   0.0s\n",
      "[CV 5/5] END ....PC__n_components=4, SVM__C=5.0;, score=0.942 total time=   0.0s\n",
      "[CV 1/5] END ..PC__n_components=5, SVM__C=0.001;, score=0.950 total time=   0.0s\n",
      "[CV 2/5] END ..PC__n_components=5, SVM__C=0.001;, score=0.971 total time=   0.0s\n",
      "[CV 3/5] END ..PC__n_components=5, SVM__C=0.001;, score=0.993 total time=   0.0s\n",
      "[CV 4/5] END ..PC__n_components=5, SVM__C=0.001;, score=0.971 total time=   0.0s\n",
      "[CV 5/5] END ..PC__n_components=5, SVM__C=0.001;, score=0.928 total time=   0.0s\n",
      "[CV 1/5] END PC__n_components=5, SVM__C=0.5564444444444444;, score=0.964 total time=   0.0s\n",
      "[CV 2/5] END PC__n_components=5, SVM__C=0.5564444444444444;, score=0.979 total time=   0.0s\n",
      "[CV 3/5] END PC__n_components=5, SVM__C=0.5564444444444444;, score=0.986 total time=   0.0s\n",
      "[CV 4/5] END PC__n_components=5, SVM__C=0.5564444444444444;, score=0.964 total time=   0.0s\n",
      "[CV 5/5] END PC__n_components=5, SVM__C=0.5564444444444444;, score=0.942 total time=   0.0s\n",
      "[CV 1/5] END PC__n_components=5, SVM__C=1.1118888888888887;, score=0.964 total time=   0.0s\n",
      "[CV 2/5] END PC__n_components=5, SVM__C=1.1118888888888887;, score=0.979 total time=   0.0s\n",
      "[CV 3/5] END PC__n_components=5, SVM__C=1.1118888888888887;, score=0.986 total time=   0.0s\n",
      "[CV 4/5] END PC__n_components=5, SVM__C=1.1118888888888887;, score=0.964 total time=   0.0s\n",
      "[CV 5/5] END PC__n_components=5, SVM__C=1.1118888888888887;, score=0.942 total time=   0.0s\n",
      "[CV 1/5] END PC__n_components=5, SVM__C=1.6673333333333331;, score=0.964 total time=   0.0s\n",
      "[CV 2/5] END PC__n_components=5, SVM__C=1.6673333333333331;, score=0.979 total time=   0.0s\n",
      "[CV 3/5] END PC__n_components=5, SVM__C=1.6673333333333331;, score=0.986 total time=   0.0s\n",
      "[CV 4/5] END PC__n_components=5, SVM__C=1.6673333333333331;, score=0.964 total time=   0.0s\n",
      "[CV 5/5] END PC__n_components=5, SVM__C=1.6673333333333331;, score=0.942 total time=   0.0s\n",
      "[CV 1/5] END PC__n_components=5, SVM__C=2.2227777777777775;, score=0.964 total time=   0.0s\n",
      "[CV 2/5] END PC__n_components=5, SVM__C=2.2227777777777775;, score=0.979 total time=   0.0s\n",
      "[CV 3/5] END PC__n_components=5, SVM__C=2.2227777777777775;, score=0.986 total time=   0.0s\n",
      "[CV 4/5] END PC__n_components=5, SVM__C=2.2227777777777775;, score=0.964 total time=   0.0s\n",
      "[CV 5/5] END PC__n_components=5, SVM__C=2.2227777777777775;, score=0.942 total time=   0.0s\n",
      "[CV 1/5] END PC__n_components=5, SVM__C=2.778222222222222;, score=0.964 total time=   0.0s\n",
      "[CV 2/5] END PC__n_components=5, SVM__C=2.778222222222222;, score=0.979 total time=   0.0s\n",
      "[CV 3/5] END PC__n_components=5, SVM__C=2.778222222222222;, score=0.986 total time=   0.0s\n",
      "[CV 4/5] END PC__n_components=5, SVM__C=2.778222222222222;, score=0.964 total time=   0.0s\n",
      "[CV 5/5] END PC__n_components=5, SVM__C=2.778222222222222;, score=0.942 total time=   0.0s\n",
      "[CV 1/5] END PC__n_components=5, SVM__C=3.3336666666666663;, score=0.964 total time=   0.0s\n",
      "[CV 2/5] END PC__n_components=5, SVM__C=3.3336666666666663;, score=0.979 total time=   0.0s\n",
      "[CV 3/5] END PC__n_components=5, SVM__C=3.3336666666666663;, score=0.986 total time=   0.0s\n",
      "[CV 4/5] END PC__n_components=5, SVM__C=3.3336666666666663;, score=0.964 total time=   0.0s\n",
      "[CV 5/5] END PC__n_components=5, SVM__C=3.3336666666666663;, score=0.942 total time=   0.0s\n",
      "[CV 1/5] END PC__n_components=5, SVM__C=3.8891111111111107;, score=0.964 total time=   0.0s\n",
      "[CV 2/5] END PC__n_components=5, SVM__C=3.8891111111111107;, score=0.979 total time=   0.0s\n"
     ]
    },
    {
     "name": "stdout",
     "output_type": "stream",
     "text": [
      "[CV 3/5] END PC__n_components=5, SVM__C=3.8891111111111107;, score=0.986 total time=   0.0s\n",
      "[CV 4/5] END PC__n_components=5, SVM__C=3.8891111111111107;, score=0.964 total time=   0.0s\n",
      "[CV 5/5] END PC__n_components=5, SVM__C=3.8891111111111107;, score=0.942 total time=   0.0s\n",
      "[CV 1/5] END PC__n_components=5, SVM__C=4.444555555555556;, score=0.964 total time=   0.0s\n",
      "[CV 2/5] END PC__n_components=5, SVM__C=4.444555555555556;, score=0.979 total time=   0.0s\n",
      "[CV 3/5] END PC__n_components=5, SVM__C=4.444555555555556;, score=0.986 total time=   0.0s\n",
      "[CV 4/5] END PC__n_components=5, SVM__C=4.444555555555556;, score=0.964 total time=   0.0s\n",
      "[CV 5/5] END PC__n_components=5, SVM__C=4.444555555555556;, score=0.942 total time=   0.0s\n",
      "[CV 1/5] END ....PC__n_components=5, SVM__C=5.0;, score=0.964 total time=   0.0s\n",
      "[CV 2/5] END ....PC__n_components=5, SVM__C=5.0;, score=0.979 total time=   0.0s\n",
      "[CV 3/5] END ....PC__n_components=5, SVM__C=5.0;, score=0.986 total time=   0.0s\n",
      "[CV 4/5] END ....PC__n_components=5, SVM__C=5.0;, score=0.964 total time=   0.0s\n",
      "[CV 5/5] END ....PC__n_components=5, SVM__C=5.0;, score=0.942 total time=   0.0s\n",
      "{'PC__n_components': 3, 'SVM__C': 0.5564444444444444}\n",
      "0.9699177800616651\n"
     ]
    }
   ],
   "source": [
    "#Stratified KFold is used for classification\n",
    "from sklearn.model_selection import GridSearchCV,KFold,StratifiedKFold\n",
    "from sklearn.preprocessing import StandardScaler,MinMaxScaler \n",
    "from sklearn.pipeline import Pipeline\n",
    "kfold=StratifiedKFold(n_splits=5,shuffle=True,random_state=23)\n",
    "svm=SVC(kernel='linear')\n",
    "pipe_svc=Pipeline([('PC',prcomp),('SVM',svm)])        \n",
    "params={'PC__n_components': [2,3,4,5],'SVM__C': np.linspace(0.001, 5, 10)}\n",
    "gcv = GridSearchCV(pipe_svc, param_grid=params,cv=kfold,verbose=3)\n",
    "gcv.fit(X,y)\n",
    "print(gcv.best_params_)\n",
    "print(gcv.best_score_)"
   ]
  },
  {
   "cell_type": "code",
   "execution_count": null,
   "metadata": {},
   "outputs": [],
   "source": []
  }
 ],
 "metadata": {
  "kernelspec": {
   "display_name": "Python 3 (ipykernel)",
   "language": "python",
   "name": "python3"
  },
  "language_info": {
   "codemirror_mode": {
    "name": "ipython",
    "version": 3
   },
   "file_extension": ".py",
   "mimetype": "text/x-python",
   "name": "python",
   "nbconvert_exporter": "python",
   "pygments_lexer": "ipython3",
   "version": "3.11.5"
  }
 },
 "nbformat": 4,
 "nbformat_minor": 2
}
