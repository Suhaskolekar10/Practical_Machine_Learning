{
 "cells": [
  {
   "cell_type": "code",
   "execution_count": 1,
   "id": "fefeeda6",
   "metadata": {},
   "outputs": [],
   "source": [
    "import pandas as pd\n",
    "from sklearn.decomposition import PCA\n",
    "import numpy as np  \n",
    "import seaborn as sns \n",
    "import matplotlib.pyplot as plt "
   ]
  },
  {
   "cell_type": "code",
   "execution_count": 2,
   "id": "4bdd685e",
   "metadata": {},
   "outputs": [],
   "source": [
    "bank=pd.read_csv('data.csv')\n",
    "X=bank.drop('Bankrupt?',axis=1)\n",
    "y=bank['Bankrupt?']"
   ]
  },
  {
   "cell_type": "code",
   "execution_count": 3,
   "id": "0d052018",
   "metadata": {},
   "outputs": [],
   "source": [
    "#When data is having very big and very small values go for Min Max Scaler"
   ]
  },
  {
   "cell_type": "code",
   "execution_count": 9,
   "id": "c8edf2dd",
   "metadata": {},
   "outputs": [
    {
     "name": "stdout",
     "output_type": "stream",
     "text": [
      "Fitting 5 folds for each of 20 candidates, totalling 100 fits\n",
      "[CV 1/5] END COMP__n_components=0.75, SVM__C=0.001;, score=0.968 total time=   0.2s\n",
      "[CV 2/5] END COMP__n_components=0.75, SVM__C=0.001;, score=0.967 total time=   0.2s\n",
      "[CV 3/5] END COMP__n_components=0.75, SVM__C=0.001;, score=0.968 total time=   0.2s\n",
      "[CV 4/5] END COMP__n_components=0.75, SVM__C=0.001;, score=0.968 total time=   0.2s\n",
      "[CV 5/5] END COMP__n_components=0.75, SVM__C=0.001;, score=0.968 total time=   0.2s\n",
      "[CV 1/5] END COMP__n_components=0.75, SVM__C=0.75075;, score=0.968 total time=   0.2s\n",
      "[CV 2/5] END COMP__n_components=0.75, SVM__C=0.75075;, score=0.968 total time=   0.2s\n",
      "[CV 3/5] END COMP__n_components=0.75, SVM__C=0.75075;, score=0.968 total time=   0.2s\n",
      "[CV 4/5] END COMP__n_components=0.75, SVM__C=0.75075;, score=0.968 total time=   0.2s\n",
      "[CV 5/5] END COMP__n_components=0.75, SVM__C=0.75075;, score=0.968 total time=   0.2s\n",
      "[CV 1/5] END COMP__n_components=0.75, SVM__C=1.5005;, score=0.968 total time=   0.2s\n",
      "[CV 2/5] END COMP__n_components=0.75, SVM__C=1.5005;, score=0.968 total time=   0.2s\n",
      "[CV 3/5] END COMP__n_components=0.75, SVM__C=1.5005;, score=0.968 total time=   0.2s\n",
      "[CV 4/5] END COMP__n_components=0.75, SVM__C=1.5005;, score=0.968 total time=   0.2s\n",
      "[CV 5/5] END COMP__n_components=0.75, SVM__C=1.5005;, score=0.968 total time=   0.2s\n",
      "[CV 1/5] END COMP__n_components=0.75, SVM__C=2.25025;, score=0.968 total time=   0.2s\n",
      "[CV 2/5] END COMP__n_components=0.75, SVM__C=2.25025;, score=0.967 total time=   0.2s\n",
      "[CV 3/5] END COMP__n_components=0.75, SVM__C=2.25025;, score=0.968 total time=   0.2s\n",
      "[CV 4/5] END COMP__n_components=0.75, SVM__C=2.25025;, score=0.968 total time=   0.2s\n",
      "[CV 5/5] END COMP__n_components=0.75, SVM__C=2.25025;, score=0.968 total time=   0.2s\n",
      "[CV 1/5] END COMP__n_components=0.75, SVM__C=3.0;, score=0.968 total time=   0.2s\n",
      "[CV 2/5] END COMP__n_components=0.75, SVM__C=3.0;, score=0.967 total time=   0.2s\n",
      "[CV 3/5] END COMP__n_components=0.75, SVM__C=3.0;, score=0.968 total time=   0.2s\n",
      "[CV 4/5] END COMP__n_components=0.75, SVM__C=3.0;, score=0.968 total time=   0.2s\n",
      "[CV 5/5] END COMP__n_components=0.75, SVM__C=3.0;, score=0.968 total time=   0.2s\n",
      "[CV 1/5] END COMP__n_components=0.8, SVM__C=0.001;, score=0.968 total time=   0.2s\n",
      "[CV 2/5] END COMP__n_components=0.8, SVM__C=0.001;, score=0.967 total time=   0.2s\n",
      "[CV 3/5] END COMP__n_components=0.8, SVM__C=0.001;, score=0.968 total time=   0.2s\n",
      "[CV 4/5] END COMP__n_components=0.8, SVM__C=0.001;, score=0.968 total time=   0.2s\n",
      "[CV 5/5] END COMP__n_components=0.8, SVM__C=0.001;, score=0.968 total time=   0.2s\n",
      "[CV 1/5] END COMP__n_components=0.8, SVM__C=0.75075;, score=0.968 total time=   0.2s\n",
      "[CV 2/5] END COMP__n_components=0.8, SVM__C=0.75075;, score=0.967 total time=   0.2s\n",
      "[CV 3/5] END COMP__n_components=0.8, SVM__C=0.75075;, score=0.968 total time=   0.3s\n",
      "[CV 4/5] END COMP__n_components=0.8, SVM__C=0.75075;, score=0.968 total time=   0.3s\n",
      "[CV 5/5] END COMP__n_components=0.8, SVM__C=0.75075;, score=0.968 total time=   0.2s\n",
      "[CV 1/5] END COMP__n_components=0.8, SVM__C=1.5005;, score=0.968 total time=   0.2s\n",
      "[CV 2/5] END COMP__n_components=0.8, SVM__C=1.5005;, score=0.967 total time=   0.2s\n",
      "[CV 3/5] END COMP__n_components=0.8, SVM__C=1.5005;, score=0.968 total time=   0.2s\n",
      "[CV 4/5] END COMP__n_components=0.8, SVM__C=1.5005;, score=0.968 total time=   0.2s\n",
      "[CV 5/5] END COMP__n_components=0.8, SVM__C=1.5005;, score=0.968 total time=   0.2s\n",
      "[CV 1/5] END COMP__n_components=0.8, SVM__C=2.25025;, score=0.968 total time=   0.2s\n",
      "[CV 2/5] END COMP__n_components=0.8, SVM__C=2.25025;, score=0.968 total time=   0.2s\n",
      "[CV 3/5] END COMP__n_components=0.8, SVM__C=2.25025;, score=0.968 total time=   0.2s\n",
      "[CV 4/5] END COMP__n_components=0.8, SVM__C=2.25025;, score=0.968 total time=   0.2s\n",
      "[CV 5/5] END COMP__n_components=0.8, SVM__C=2.25025;, score=0.968 total time=   0.2s\n",
      "[CV 1/5] END COMP__n_components=0.8, SVM__C=3.0;, score=0.968 total time=   0.2s\n",
      "[CV 2/5] END COMP__n_components=0.8, SVM__C=3.0;, score=0.967 total time=   0.2s\n",
      "[CV 3/5] END COMP__n_components=0.8, SVM__C=3.0;, score=0.968 total time=   0.2s\n",
      "[CV 4/5] END COMP__n_components=0.8, SVM__C=3.0;, score=0.968 total time=   0.2s\n",
      "[CV 5/5] END COMP__n_components=0.8, SVM__C=3.0;, score=0.968 total time=   0.4s\n",
      "[CV 1/5] END COMP__n_components=0.85, SVM__C=0.001;, score=0.968 total time=   0.3s\n",
      "[CV 2/5] END COMP__n_components=0.85, SVM__C=0.001;, score=0.968 total time=   0.3s\n",
      "[CV 3/5] END COMP__n_components=0.85, SVM__C=0.001;, score=0.968 total time=   0.3s\n",
      "[CV 4/5] END COMP__n_components=0.85, SVM__C=0.001;, score=0.968 total time=   0.3s\n",
      "[CV 5/5] END COMP__n_components=0.85, SVM__C=0.001;, score=0.968 total time=   0.3s\n",
      "[CV 1/5] END COMP__n_components=0.85, SVM__C=0.75075;, score=0.968 total time=   0.3s\n",
      "[CV 2/5] END COMP__n_components=0.85, SVM__C=0.75075;, score=0.968 total time=   0.3s\n",
      "[CV 3/5] END COMP__n_components=0.85, SVM__C=0.75075;, score=0.968 total time=   0.3s\n",
      "[CV 4/5] END COMP__n_components=0.85, SVM__C=0.75075;, score=0.968 total time=   0.3s\n",
      "[CV 5/5] END COMP__n_components=0.85, SVM__C=0.75075;, score=0.968 total time=   0.3s\n",
      "[CV 1/5] END COMP__n_components=0.85, SVM__C=1.5005;, score=0.968 total time=   0.3s\n",
      "[CV 2/5] END COMP__n_components=0.85, SVM__C=1.5005;, score=0.968 total time=   0.3s\n",
      "[CV 3/5] END COMP__n_components=0.85, SVM__C=1.5005;, score=0.968 total time=   0.3s\n",
      "[CV 4/5] END COMP__n_components=0.85, SVM__C=1.5005;, score=0.968 total time=   0.3s\n",
      "[CV 5/5] END COMP__n_components=0.85, SVM__C=1.5005;, score=0.968 total time=   0.3s\n",
      "[CV 1/5] END COMP__n_components=0.85, SVM__C=2.25025;, score=0.968 total time=   0.3s\n",
      "[CV 2/5] END COMP__n_components=0.85, SVM__C=2.25025;, score=0.968 total time=   0.3s\n",
      "[CV 3/5] END COMP__n_components=0.85, SVM__C=2.25025;, score=0.968 total time=   0.3s\n",
      "[CV 4/5] END COMP__n_components=0.85, SVM__C=2.25025;, score=0.968 total time=   0.3s\n",
      "[CV 5/5] END COMP__n_components=0.85, SVM__C=2.25025;, score=0.968 total time=   0.3s\n",
      "[CV 1/5] END COMP__n_components=0.85, SVM__C=3.0;, score=0.968 total time=   0.3s\n",
      "[CV 2/5] END COMP__n_components=0.85, SVM__C=3.0;, score=0.968 total time=   0.3s\n",
      "[CV 3/5] END COMP__n_components=0.85, SVM__C=3.0;, score=0.968 total time=   0.3s\n",
      "[CV 4/5] END COMP__n_components=0.85, SVM__C=3.0;, score=0.968 total time=   0.4s\n",
      "[CV 5/5] END COMP__n_components=0.85, SVM__C=3.0;, score=0.968 total time=   0.3s\n",
      "[CV 1/5] END COMP__n_components=0.9, SVM__C=0.001;, score=0.968 total time=   0.3s\n",
      "[CV 2/5] END COMP__n_components=0.9, SVM__C=0.001;, score=0.968 total time=   0.3s\n",
      "[CV 3/5] END COMP__n_components=0.9, SVM__C=0.001;, score=0.968 total time=   0.3s\n",
      "[CV 4/5] END COMP__n_components=0.9, SVM__C=0.001;, score=0.968 total time=   0.3s\n",
      "[CV 5/5] END COMP__n_components=0.9, SVM__C=0.001;, score=0.968 total time=   0.3s\n",
      "[CV 1/5] END COMP__n_components=0.9, SVM__C=0.75075;, score=0.968 total time=   0.4s\n",
      "[CV 2/5] END COMP__n_components=0.9, SVM__C=0.75075;, score=0.968 total time=   0.4s\n",
      "[CV 3/5] END COMP__n_components=0.9, SVM__C=0.75075;, score=0.968 total time=   0.3s\n",
      "[CV 4/5] END COMP__n_components=0.9, SVM__C=0.75075;, score=0.968 total time=   0.3s\n",
      "[CV 5/5] END COMP__n_components=0.9, SVM__C=0.75075;, score=0.968 total time=   0.3s\n",
      "[CV 1/5] END COMP__n_components=0.9, SVM__C=1.5005;, score=0.968 total time=   0.3s\n",
      "[CV 2/5] END COMP__n_components=0.9, SVM__C=1.5005;, score=0.968 total time=   0.3s\n",
      "[CV 3/5] END COMP__n_components=0.9, SVM__C=1.5005;, score=0.968 total time=   0.3s\n",
      "[CV 4/5] END COMP__n_components=0.9, SVM__C=1.5005;, score=0.968 total time=   0.3s\n",
      "[CV 5/5] END COMP__n_components=0.9, SVM__C=1.5005;, score=0.968 total time=   0.3s\n",
      "[CV 1/5] END COMP__n_components=0.9, SVM__C=2.25025;, score=0.968 total time=   0.3s\n",
      "[CV 2/5] END COMP__n_components=0.9, SVM__C=2.25025;, score=0.968 total time=   0.3s\n",
      "[CV 3/5] END COMP__n_components=0.9, SVM__C=2.25025;, score=0.968 total time=   0.3s\n",
      "[CV 4/5] END COMP__n_components=0.9, SVM__C=2.25025;, score=0.968 total time=   0.3s\n",
      "[CV 5/5] END COMP__n_components=0.9, SVM__C=2.25025;, score=0.968 total time=   0.3s\n",
      "[CV 1/5] END COMP__n_components=0.9, SVM__C=3.0;, score=0.968 total time=   0.3s\n",
      "[CV 2/5] END COMP__n_components=0.9, SVM__C=3.0;, score=0.968 total time=   0.3s\n"
     ]
    },
    {
     "name": "stdout",
     "output_type": "stream",
     "text": [
      "[CV 3/5] END COMP__n_components=0.9, SVM__C=3.0;, score=0.968 total time=   0.3s\n",
      "[CV 4/5] END COMP__n_components=0.9, SVM__C=3.0;, score=0.968 total time=   0.3s\n",
      "[CV 5/5] END COMP__n_components=0.9, SVM__C=3.0;, score=0.968 total time=   0.3s\n"
     ]
    },
    {
     "data": {
      "text/html": [
       "<style>#sk-container-id-1 {color: black;}#sk-container-id-1 pre{padding: 0;}#sk-container-id-1 div.sk-toggleable {background-color: white;}#sk-container-id-1 label.sk-toggleable__label {cursor: pointer;display: block;width: 100%;margin-bottom: 0;padding: 0.3em;box-sizing: border-box;text-align: center;}#sk-container-id-1 label.sk-toggleable__label-arrow:before {content: \"▸\";float: left;margin-right: 0.25em;color: #696969;}#sk-container-id-1 label.sk-toggleable__label-arrow:hover:before {color: black;}#sk-container-id-1 div.sk-estimator:hover label.sk-toggleable__label-arrow:before {color: black;}#sk-container-id-1 div.sk-toggleable__content {max-height: 0;max-width: 0;overflow: hidden;text-align: left;background-color: #f0f8ff;}#sk-container-id-1 div.sk-toggleable__content pre {margin: 0.2em;color: black;border-radius: 0.25em;background-color: #f0f8ff;}#sk-container-id-1 input.sk-toggleable__control:checked~div.sk-toggleable__content {max-height: 200px;max-width: 100%;overflow: auto;}#sk-container-id-1 input.sk-toggleable__control:checked~label.sk-toggleable__label-arrow:before {content: \"▾\";}#sk-container-id-1 div.sk-estimator input.sk-toggleable__control:checked~label.sk-toggleable__label {background-color: #d4ebff;}#sk-container-id-1 div.sk-label input.sk-toggleable__control:checked~label.sk-toggleable__label {background-color: #d4ebff;}#sk-container-id-1 input.sk-hidden--visually {border: 0;clip: rect(1px 1px 1px 1px);clip: rect(1px, 1px, 1px, 1px);height: 1px;margin: -1px;overflow: hidden;padding: 0;position: absolute;width: 1px;}#sk-container-id-1 div.sk-estimator {font-family: monospace;background-color: #f0f8ff;border: 1px dotted black;border-radius: 0.25em;box-sizing: border-box;margin-bottom: 0.5em;}#sk-container-id-1 div.sk-estimator:hover {background-color: #d4ebff;}#sk-container-id-1 div.sk-parallel-item::after {content: \"\";width: 100%;border-bottom: 1px solid gray;flex-grow: 1;}#sk-container-id-1 div.sk-label:hover label.sk-toggleable__label {background-color: #d4ebff;}#sk-container-id-1 div.sk-serial::before {content: \"\";position: absolute;border-left: 1px solid gray;box-sizing: border-box;top: 0;bottom: 0;left: 50%;z-index: 0;}#sk-container-id-1 div.sk-serial {display: flex;flex-direction: column;align-items: center;background-color: white;padding-right: 0.2em;padding-left: 0.2em;position: relative;}#sk-container-id-1 div.sk-item {position: relative;z-index: 1;}#sk-container-id-1 div.sk-parallel {display: flex;align-items: stretch;justify-content: center;background-color: white;position: relative;}#sk-container-id-1 div.sk-item::before, #sk-container-id-1 div.sk-parallel-item::before {content: \"\";position: absolute;border-left: 1px solid gray;box-sizing: border-box;top: 0;bottom: 0;left: 50%;z-index: -1;}#sk-container-id-1 div.sk-parallel-item {display: flex;flex-direction: column;z-index: 1;position: relative;background-color: white;}#sk-container-id-1 div.sk-parallel-item:first-child::after {align-self: flex-end;width: 50%;}#sk-container-id-1 div.sk-parallel-item:last-child::after {align-self: flex-start;width: 50%;}#sk-container-id-1 div.sk-parallel-item:only-child::after {width: 0;}#sk-container-id-1 div.sk-dashed-wrapped {border: 1px dashed gray;margin: 0 0.4em 0.5em 0.4em;box-sizing: border-box;padding-bottom: 0.4em;background-color: white;}#sk-container-id-1 div.sk-label label {font-family: monospace;font-weight: bold;display: inline-block;line-height: 1.2em;}#sk-container-id-1 div.sk-label-container {text-align: center;}#sk-container-id-1 div.sk-container {/* jupyter's `normalize.less` sets `[hidden] { display: none; }` but bootstrap.min.css set `[hidden] { display: none !important; }` so we also need the `!important` here to be able to override the default hidden behavior on the sphinx rendered scikit-learn.org. See: https://github.com/scikit-learn/scikit-learn/issues/21755 */display: inline-block !important;position: relative;}#sk-container-id-1 div.sk-text-repr-fallback {display: none;}</style><div id=\"sk-container-id-1\" class=\"sk-top-container\"><div class=\"sk-text-repr-fallback\"><pre>GridSearchCV(cv=StratifiedKFold(n_splits=5, random_state=23, shuffle=True),\n",
       "             estimator=Pipeline(steps=[(&#x27;SCL&#x27;, MinMaxScaler()), (&#x27;COMP&#x27;, PCA()),\n",
       "                                       (&#x27;SVM&#x27;, SVC(kernel=&#x27;linear&#x27;))]),\n",
       "             param_grid={&#x27;COMP__n_components&#x27;: [0.75, 0.8, 0.85, 0.9],\n",
       "                         &#x27;SVM__C&#x27;: array([1.00000e-03, 7.50750e-01, 1.50050e+00, 2.25025e+00, 3.00000e+00])},\n",
       "             verbose=3)</pre><b>In a Jupyter environment, please rerun this cell to show the HTML representation or trust the notebook. <br />On GitHub, the HTML representation is unable to render, please try loading this page with nbviewer.org.</b></div><div class=\"sk-container\" hidden><div class=\"sk-item sk-dashed-wrapped\"><div class=\"sk-label-container\"><div class=\"sk-label sk-toggleable\"><input class=\"sk-toggleable__control sk-hidden--visually\" id=\"sk-estimator-id-1\" type=\"checkbox\" ><label for=\"sk-estimator-id-1\" class=\"sk-toggleable__label sk-toggleable__label-arrow\">GridSearchCV</label><div class=\"sk-toggleable__content\"><pre>GridSearchCV(cv=StratifiedKFold(n_splits=5, random_state=23, shuffle=True),\n",
       "             estimator=Pipeline(steps=[(&#x27;SCL&#x27;, MinMaxScaler()), (&#x27;COMP&#x27;, PCA()),\n",
       "                                       (&#x27;SVM&#x27;, SVC(kernel=&#x27;linear&#x27;))]),\n",
       "             param_grid={&#x27;COMP__n_components&#x27;: [0.75, 0.8, 0.85, 0.9],\n",
       "                         &#x27;SVM__C&#x27;: array([1.00000e-03, 7.50750e-01, 1.50050e+00, 2.25025e+00, 3.00000e+00])},\n",
       "             verbose=3)</pre></div></div></div><div class=\"sk-parallel\"><div class=\"sk-parallel-item\"><div class=\"sk-item\"><div class=\"sk-label-container\"><div class=\"sk-label sk-toggleable\"><input class=\"sk-toggleable__control sk-hidden--visually\" id=\"sk-estimator-id-2\" type=\"checkbox\" ><label for=\"sk-estimator-id-2\" class=\"sk-toggleable__label sk-toggleable__label-arrow\">estimator: Pipeline</label><div class=\"sk-toggleable__content\"><pre>Pipeline(steps=[(&#x27;SCL&#x27;, MinMaxScaler()), (&#x27;COMP&#x27;, PCA()),\n",
       "                (&#x27;SVM&#x27;, SVC(kernel=&#x27;linear&#x27;))])</pre></div></div></div><div class=\"sk-serial\"><div class=\"sk-item\"><div class=\"sk-serial\"><div class=\"sk-item\"><div class=\"sk-estimator sk-toggleable\"><input class=\"sk-toggleable__control sk-hidden--visually\" id=\"sk-estimator-id-3\" type=\"checkbox\" ><label for=\"sk-estimator-id-3\" class=\"sk-toggleable__label sk-toggleable__label-arrow\">MinMaxScaler</label><div class=\"sk-toggleable__content\"><pre>MinMaxScaler()</pre></div></div></div><div class=\"sk-item\"><div class=\"sk-estimator sk-toggleable\"><input class=\"sk-toggleable__control sk-hidden--visually\" id=\"sk-estimator-id-4\" type=\"checkbox\" ><label for=\"sk-estimator-id-4\" class=\"sk-toggleable__label sk-toggleable__label-arrow\">PCA</label><div class=\"sk-toggleable__content\"><pre>PCA()</pre></div></div></div><div class=\"sk-item\"><div class=\"sk-estimator sk-toggleable\"><input class=\"sk-toggleable__control sk-hidden--visually\" id=\"sk-estimator-id-5\" type=\"checkbox\" ><label for=\"sk-estimator-id-5\" class=\"sk-toggleable__label sk-toggleable__label-arrow\">SVC</label><div class=\"sk-toggleable__content\"><pre>SVC(kernel=&#x27;linear&#x27;)</pre></div></div></div></div></div></div></div></div></div></div></div></div>"
      ],
      "text/plain": [
       "GridSearchCV(cv=StratifiedKFold(n_splits=5, random_state=23, shuffle=True),\n",
       "             estimator=Pipeline(steps=[('SCL', MinMaxScaler()), ('COMP', PCA()),\n",
       "                                       ('SVM', SVC(kernel='linear'))]),\n",
       "             param_grid={'COMP__n_components': [0.75, 0.8, 0.85, 0.9],\n",
       "                         'SVM__C': array([1.00000e-03, 7.50750e-01, 1.50050e+00, 2.25025e+00, 3.00000e+00])},\n",
       "             verbose=3)"
      ]
     },
     "execution_count": 9,
     "metadata": {},
     "output_type": "execute_result"
    }
   ],
   "source": [
    "from sklearn.preprocessing import StandardScaler,MinMaxScaler\n",
    "from sklearn.model_selection import GridSearchCV,KFold,StratifiedKFold\n",
    "from sklearn.svm import SVC\n",
    "from sklearn.pipeline import Pipeline\n",
    "scaler=MinMaxScaler()\n",
    "prcomp=PCA()\n",
    "svm=SVC(kernel='linear')\n",
    "pipe_PCA=Pipeline([('SCL',scaler),('COMP',prcomp),('SVM',svm)])    \n",
    "params={'COMP__n_components': [0.75,0.8,0.85,0.9],'SVM__C': np.linspace(0.001, 3, 5)}\n",
    "kfold=StratifiedKFold(n_splits=5,shuffle=True,random_state=23)\n",
    "gcv = GridSearchCV(pipe_PCA, param_grid=params,cv=kfold,verbose=3)\n",
    "gcv.fit(X,y)"
   ]
  },
  {
   "cell_type": "code",
   "execution_count": 10,
   "id": "80401067",
   "metadata": {},
   "outputs": [
    {
     "name": "stdout",
     "output_type": "stream",
     "text": [
      "{'COMP__n_components': 0.75, 'SVM__C': 0.75075}\n",
      "0.9678838296581416\n"
     ]
    }
   ],
   "source": [
    "print(gcv.best_params_)\n",
    "print(gcv.best_score_)"
   ]
  },
  {
   "cell_type": "code",
   "execution_count": null,
   "id": "569c4979",
   "metadata": {},
   "outputs": [],
   "source": []
  },
  {
   "cell_type": "code",
   "execution_count": null,
   "id": "622b35ce",
   "metadata": {},
   "outputs": [],
   "source": []
  },
  {
   "cell_type": "code",
   "execution_count": null,
   "id": "ffc0b0a7",
   "metadata": {},
   "outputs": [],
   "source": []
  },
  {
   "cell_type": "code",
   "execution_count": null,
   "id": "dd909799",
   "metadata": {},
   "outputs": [],
   "source": []
  },
  {
   "cell_type": "code",
   "execution_count": null,
   "id": "e4b33123",
   "metadata": {},
   "outputs": [],
   "source": []
  },
  {
   "cell_type": "code",
   "execution_count": null,
   "id": "0603d54c",
   "metadata": {},
   "outputs": [],
   "source": []
  },
  {
   "cell_type": "code",
   "execution_count": null,
   "id": "48042f3c",
   "metadata": {},
   "outputs": [],
   "source": [
    "#80%-34\n",
    "#85 - 40\n",
    "#90 - 45\n",
    "#95-53"
   ]
  }
 ],
 "metadata": {
  "kernelspec": {
   "display_name": "Python 3 (ipykernel)",
   "language": "python",
   "name": "python3"
  },
  "language_info": {
   "codemirror_mode": {
    "name": "ipython",
    "version": 3
   },
   "file_extension": ".py",
   "mimetype": "text/x-python",
   "name": "python",
   "nbconvert_exporter": "python",
   "pygments_lexer": "ipython3",
   "version": "3.11.5"
  }
 },
 "nbformat": 4,
 "nbformat_minor": 5
}
