{
 "cells": [
  {
   "cell_type": "code",
   "execution_count": 1,
   "id": "1660c458",
   "metadata": {},
   "outputs": [],
   "source": [
    "import pandas as pd\n",
    "from sklearn.manifold import TSNE\n",
    "import numpy as np\n",
    "import seaborn as sns\n",
    "import matplotlib.pyplot as plt"
   ]
  },
  {
   "cell_type": "code",
   "execution_count": 2,
   "id": "ee2f9b49",
   "metadata": {},
   "outputs": [],
   "source": [
    "hr=pd.read_csv('HR_comma_sep.csv')\n",
    "hr=pd.get_dummies(hr,drop_first=True)"
   ]
  },
  {
   "cell_type": "code",
   "execution_count": 3,
   "id": "3be19562",
   "metadata": {},
   "outputs": [],
   "source": [
    "X=hr.drop('left',axis=1)\n",
    "y=hr['left']"
   ]
  },
  {
   "cell_type": "code",
   "execution_count": 4,
   "id": "f90e2f2e",
   "metadata": {},
   "outputs": [],
   "source": [
    "from sklearn.svm import SVC\n",
    "from sklearn.model_selection import GridSearchCV,KFold,StratifiedKFold\n",
    "from sklearn.pipeline import Pipeline\n",
    "\n",
    "kfold=StratifiedKFold(n_splits=5,shuffle=True,random_state=23)\n",
    "#tsne=TSNE(random_state=23).set_output(transform='pandas')  #perplexity is a tuning parameter\n",
    "#Xtsne=tsne.fit_transform(X)"
   ]
  },
  {
   "cell_type": "code",
   "execution_count": null,
   "id": "2775c774",
   "metadata": {},
   "outputs": [],
   "source": [
    "import pandas as pd\n",
    "from sklearn.model_selection import cross_val_score\n",
    "from sklearn.preprocessing import StandardScaler,OneHotEncoder\n",
    "from sklearn.compose import make_column_selector,make_column_transformer\n",
    "ohc=OneHotEncoder(sparse_output=False,drop='first')\n",
    "scaler=StandardScaler()\n",
    "ct_enc=make_column_transformer((ohc,make_column_selector(dtype_include=object))\n",
    "                               ,(scaler,make_column_selector(dtype_include=['int64','float64']))\n",
    "                               ,verbose_feature_names_out=False).set_output(transform=\"pandas\")\n",
    "X_enc=ct_enc.fit_transform(X)\n",
    "#Column Transformer is better in the long run\n",
    "\n",
    "scores=[]\n",
    "perplex=[20,30,45]\n",
    "\n",
    "for i in perplex:\n",
    "    tsne=TSNE(random_state=23,perplexity=i)\n",
    "    X_tsne=tsne.fit_transform(X)\n",
    "    svm=SVC(kernel='linear')\n",
    "    results=cross_val_score(svm,X_tsne,y,cv=kfold,n_jobs=-1)\n",
    "    scores.append(results.mean())\n",
    "    print(results.mean())\n",
    "    \n",
    "print(\"Best score =\", np.max(scores))\n",
    "print(\"Best perplexity =\", perplex[np.argmax(scores)])                                "
   ]
  },
  {
   "cell_type": "markdown",
   "id": "2b2dc94f",
   "metadata": {},
   "source": [
    "# ABORTED AS IT IS TAKING TIME"
   ]
  },
  {
   "cell_type": "code",
   "execution_count": null,
   "id": "94555a10",
   "metadata": {},
   "outputs": [
    {
     "name": "stdout",
     "output_type": "stream",
     "text": [
      "Fitting 5 folds for each of 1 candidates, totalling 5 fits\n"
     ]
    }
   ],
   "source": [
    "'''scores=[]\n",
    "perplex=[5,15,30,35]\n",
    "for i in perplex:\n",
    "    tsne=TSNE(random_state=23,perplexity=i)\n",
    "    X_tsne=tsne.fit_transform(X)\n",
    "    svm=SVC(kernel='linear')\n",
    "    params={}\n",
    "    gcv=GridSearchCV(svm,param_grid=params,cv=kfold,verbose=3)\n",
    "    gcv.fit(X_tsne,y)\n",
    "    scores.append(gcv.best_score_)\n",
    "    \n",
    "print(\"Best score =\", np.max(scores))\n",
    "print(\"Best perplexity =\", perplex[np.argmax(scores)])'''"
   ]
  },
  {
   "cell_type": "code",
   "execution_count": null,
   "id": "91f15fa6",
   "metadata": {},
   "outputs": [],
   "source": [
    "'''from sklearn.model_selection import cross_val_score\n",
    "scores=[]\n",
    "perplex=[5,15,30,35]\n",
    "for i in perplex:\n",
    "    tsne=TSNE(random_state=23,perplexity=i)\n",
    "    X_tsne=tsne.fit_transform(X)\n",
    "    svm=SVC(kernel='linear')\n",
    "    results=cross_val_score(svm,X_tsne,y,cv=kfold,verbose=3)\n",
    "    scores.append(results.mean())\n",
    "    \n",
    "print(\"Best score =\", np.max(scores))\n",
    "print(\"Best perplexity =\", perplex[np.argmax(scores)])'''"
   ]
  }
 ],
 "metadata": {
  "kernelspec": {
   "display_name": "Python 3 (ipykernel)",
   "language": "python",
   "name": "python3"
  },
  "language_info": {
   "codemirror_mode": {
    "name": "ipython",
    "version": 3
   },
   "file_extension": ".py",
   "mimetype": "text/x-python",
   "name": "python",
   "nbconvert_exporter": "python",
   "pygments_lexer": "ipython3",
   "version": "3.11.5"
  }
 },
 "nbformat": 4,
 "nbformat_minor": 5
}
