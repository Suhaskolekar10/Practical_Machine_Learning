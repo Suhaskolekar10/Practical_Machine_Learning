{
 "cells": [
  {
   "cell_type": "code",
   "execution_count": 9,
   "id": "2e98492a",
   "metadata": {},
   "outputs": [],
   "source": [
    "import numpy as np\n",
    "import pandas as pd\n",
    "from sklearn.cluster import DBSCAN\n",
    "from sklearn.preprocessing import StandardScaler\n",
    "from sklearn.cluster import KMeans\n",
    "from sklearn.metrics import silhouette_score\n",
    "import warnings\n",
    "warnings.filterwarnings('ignore')"
   ]
  },
  {
   "cell_type": "code",
   "execution_count": 10,
   "id": "8b7fdba3",
   "metadata": {},
   "outputs": [],
   "source": [
    "milk=pd.read_csv('milk.csv',index_col=0)\n",
    "scalar=StandardScaler()\n",
    "milkscaled=scalar.fit_transform(milk)\n",
    "\n",
    "milkscaled=pd.DataFrame(milkscaled,columns=milk.columns,index=milk.index)"
   ]
  },
  {
   "cell_type": "code",
   "execution_count": 11,
   "id": "475202ea",
   "metadata": {},
   "outputs": [
    {
     "name": "stdout",
     "output_type": "stream",
     "text": [
      "[ 0  0  0  0  0  0  0  0  0 -1  0  0  0  0  0  0  1 -1 -1  1  2  2  2 -1\n",
      " -1]\n"
     ]
    }
   ],
   "source": [
    "clust_DB = DBSCAN(eps=1,min_samples=2)\n",
    "clust_DB.fit(milkscaled)\n",
    "print(clust_DB.labels_)"
   ]
  },
  {
   "cell_type": "code",
   "execution_count": 34,
   "id": "b4c18b43",
   "metadata": {},
   "outputs": [
    {
     "name": "stdout",
     "output_type": "stream",
     "text": [
      "0.4456667238577395\n"
     ]
    }
   ],
   "source": [
    "milkscaled['Clust'] = clust_DB.labels_\n",
    "milk_scl_inliers = milkscaled[milkscaled['Clust']!=1]\n",
    "print(silhouette_score(milk_scl_inliers.iloc[:,:-1],\n",
    "                      milk_scl_inliers.iloc[:,-1]))"
   ]
  },
  {
   "cell_type": "code",
   "execution_count": 35,
   "id": "a4e5c698",
   "metadata": {},
   "outputs": [],
   "source": [
    "eps_range=[0.2,0.4,0.6,1]\n",
    "mp_range=[2,3,4,5]\n",
    "dic={}\n",
    "\n",
    "for i in eps_range:\n",
    "    for j in mp_range:\n",
    "        try:\n",
    "            scalar=StandardScaler()\n",
    "            milkscaled=scalar.fit_transform(milk)\n",
    "            milkscaled=pd.DataFrame(milkscaled,columns=milk.columns,index=milk.index)\n",
    "            clust_DB = DBSCAN(eps=i,min_samples=j)\n",
    "            clust_DB.fit(milkscaled)\n",
    "            milkscaled['Clust'] = clust_DB.labels_\n",
    "            milk_scl_inliers = milkscaled[milkscaled['Clust']!=-1]\n",
    "            dic[str(i)+','+str(j)]=silhouette_score(milk_scl_inliers.iloc[:,:-1],\n",
    "                                                  milk_scl_inliers.iloc[:,-1])\n",
    "        \n",
    "        except:\n",
    "            dic[str(i)+','+str(j)]=-1\n",
    "\n",
    "\n",
    "        \n",
    "      "
   ]
  },
  {
   "cell_type": "code",
   "execution_count": 41,
   "id": "6b680c56",
   "metadata": {},
   "outputs": [
    {
     "data": {
      "text/plain": [
       "{'0.2,2': -1,\n",
       " '0.2,3': -1,\n",
       " '0.2,4': -1,\n",
       " '0.2,5': -1,\n",
       " '0.4,2': 0.6518937593821538,\n",
       " '0.4,3': 0.5385180352469559,\n",
       " '0.4,4': -1,\n",
       " '0.4,5': -1,\n",
       " '0.6,2': 0.5934459505692155,\n",
       " '0.6,3': 0.5344431042454363,\n",
       " '0.6,4': 0.5519747727201489,\n",
       " '0.6,5': -1,\n",
       " '1,2': 0.4344818095328392,\n",
       " '1,3': 0.6473871775367226,\n",
       " '1,4': -1,\n",
       " '1,5': -1}"
      ]
     },
     "execution_count": 41,
     "metadata": {},
     "output_type": "execute_result"
    }
   ],
   "source": [
    "dic"
   ]
  },
  {
   "cell_type": "code",
   "execution_count": null,
   "id": "4c009ab2",
   "metadata": {},
   "outputs": [],
   "source": [
    "###########  plotting PCS ########################################"
   ]
  },
  {
   "cell_type": "code",
   "execution_count": 47,
   "id": "519dd077",
   "metadata": {},
   "outputs": [
    {
     "name": "stdout",
     "output_type": "stream",
     "text": [
      "[-1  0  0 -1 -1  1  1  2 -1 -1  2  1 -1 -1  1  2 -1 -1 -1 -1  3  3 -1 -1\n",
      " -1]\n"
     ]
    }
   ],
   "source": [
    "from sklearn.decomposition import PCA\n",
    "import seaborn as sns\n",
    "import matplotlib.pyplot as plt\n",
    "\n",
    "prcomp=PCA()\n",
    "scores=prcomp.fit_transform(milkscaled.iloc[:,:5])\n",
    "clust_DB = DBSCAN(eps=0.4,min_samples=2)\n",
    "clust_DB.fit(milkscaled.iloc[:,:5])\n",
    "print(clust_DB.labels_)\n"
   ]
  },
  {
   "cell_type": "code",
   "execution_count": 49,
   "id": "5c7db796",
   "metadata": {},
   "outputs": [],
   "source": [
    "df_PCs=pd.DataFrame({'PC1':scores[:,0],'PC2':scores[:,1],'Cluster':clust_DB.labels_})\n",
    "df_PCs['Cluster']=df_PCs['Cluster'].astype(object)\n"
   ]
  },
  {
   "cell_type": "code",
   "execution_count": 50,
   "id": "15f11df6",
   "metadata": {},
   "outputs": [
    {
     "data": {
      "image/png": "[encoded data removed]",
      "text/plain": [
       "<Figure size 640x480 with 1 Axes>"
      ]
     },
     "metadata": {},
     "output_type": "display_data"
    }
   ],
   "source": [
    "sns.scatterplot(data=df_PCs,x='PC1',palette='bright',y='PC2',hue='Cluster')\n",
    "for i in np.arange(0,milk.shape[0]):\n",
    "    plt.text(scores[i,0],scores[i,1],list(milk.index)[i],fontsize=6)\n",
    "    \n",
    "plt.legend(loc='best')\n",
    "plt.show()"
   ]
  },
  {
   "cell_type": "code",
   "execution_count": null,
   "id": "e7b6a321",
   "metadata": {},
   "outputs": [],
   "source": []
  }
 ],
 "metadata": {
  "kernelspec": {
   "display_name": "Python 3 (ipykernel)",
   "language": "python",
   "name": "python3"
  },
  "language_info": {
   "codemirror_mode": {
    "name": "ipython",
    "version": 3
   },
   "file_extension": ".py",
   "mimetype": "text/x-python",
   "name": "python",
   "nbconvert_exporter": "python",
   "pygments_lexer": "ipython3",
   "version": "3.11.5"
  }
 },
 "nbformat": 4,
 "nbformat_minor": 5
}
