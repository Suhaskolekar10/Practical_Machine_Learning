{
 "cells": [
  {
   "cell_type": "code",
   "execution_count": 1,
   "id": "adca39f5",
   "metadata": {},
   "outputs": [],
   "source": [
    "import pandas as pd \n",
    "import numpy as np  \n",
    "import seaborn as sns \n",
    "import matplotlib.pyplot as plt    \n",
    "from mlxtend.frequent_patterns import apriori\n",
    "from mlxtend.frequent_patterns import association_rules"
   ]
  },
  {
   "cell_type": "code",
   "execution_count": 2,
   "id": "8b97c704",
   "metadata": {},
   "outputs": [],
   "source": [
    "fp_df = pd.read_csv('Faceplate.csv',index_col=0)\n",
    "fp_df = fp_df.astype(bool)\n"
   ]
  },
  {
   "cell_type": "code",
   "execution_count": 3,
   "id": "5c39a7b3",
   "metadata": {},
   "outputs": [],
   "source": [
    "#Create Frequent itemsets\n",
    "itemsets=apriori(fp_df,min_support=0.2,use_colnames=True)"
   ]
  },
  {
   "cell_type": "code",
   "execution_count": 4,
   "id": "04809386",
   "metadata": {},
   "outputs": [
    {
     "data": {
      "text/html": [
       "<div>\n",
       "<style scoped>\n",
       "    .dataframe tbody tr th:only-of-type {\n",
       "        vertical-align: middle;\n",
       "    }\n",
       "\n",
       "    .dataframe tbody tr th {\n",
       "        vertical-align: top;\n",
       "    }\n",
       "\n",
       "    .dataframe thead th {\n",
       "        text-align: right;\n",
       "    }\n",
       "</style>\n",
       "<table border=\"1\" class=\"dataframe\">\n",
       "  <thead>\n",
       "    <tr style=\"text-align: right;\">\n",
       "      <th></th>\n",
       "      <th>antecedents</th>\n",
       "      <th>consequents</th>\n",
       "      <th>support</th>\n",
       "      <th>confidence</th>\n",
       "      <th>lift</th>\n",
       "    </tr>\n",
       "  </thead>\n",
       "  <tbody>\n",
       "    <tr>\n",
       "      <th>9</th>\n",
       "      <td>(Green)</td>\n",
       "      <td>(Red, White)</td>\n",
       "      <td>0.2</td>\n",
       "      <td>1.000000</td>\n",
       "      <td>2.500000</td>\n",
       "    </tr>\n",
       "    <tr>\n",
       "      <th>3</th>\n",
       "      <td>(Green)</td>\n",
       "      <td>(Red)</td>\n",
       "      <td>0.2</td>\n",
       "      <td>1.000000</td>\n",
       "      <td>1.666667</td>\n",
       "    </tr>\n",
       "    <tr>\n",
       "      <th>8</th>\n",
       "      <td>(White, Green)</td>\n",
       "      <td>(Red)</td>\n",
       "      <td>0.2</td>\n",
       "      <td>1.000000</td>\n",
       "      <td>1.666667</td>\n",
       "    </tr>\n",
       "    <tr>\n",
       "      <th>5</th>\n",
       "      <td>(Orange)</td>\n",
       "      <td>(White)</td>\n",
       "      <td>0.2</td>\n",
       "      <td>1.000000</td>\n",
       "      <td>1.428571</td>\n",
       "    </tr>\n",
       "    <tr>\n",
       "      <th>6</th>\n",
       "      <td>(Green)</td>\n",
       "      <td>(White)</td>\n",
       "      <td>0.2</td>\n",
       "      <td>1.000000</td>\n",
       "      <td>1.428571</td>\n",
       "    </tr>\n",
       "    <tr>\n",
       "      <th>7</th>\n",
       "      <td>(Red, Green)</td>\n",
       "      <td>(White)</td>\n",
       "      <td>0.2</td>\n",
       "      <td>1.000000</td>\n",
       "      <td>1.428571</td>\n",
       "    </tr>\n",
       "    <tr>\n",
       "      <th>1</th>\n",
       "      <td>(Red)</td>\n",
       "      <td>(Blue)</td>\n",
       "      <td>0.4</td>\n",
       "      <td>0.666667</td>\n",
       "      <td>1.111111</td>\n",
       "    </tr>\n",
       "    <tr>\n",
       "      <th>2</th>\n",
       "      <td>(Blue)</td>\n",
       "      <td>(Red)</td>\n",
       "      <td>0.4</td>\n",
       "      <td>0.666667</td>\n",
       "      <td>1.111111</td>\n",
       "    </tr>\n",
       "  </tbody>\n",
       "</table>\n",
       "</div>"
      ],
      "text/plain": [
       "      antecedents   consequents  support  confidence      lift\n",
       "9         (Green)  (Red, White)      0.2    1.000000  2.500000\n",
       "3         (Green)         (Red)      0.2    1.000000  1.666667\n",
       "8  (White, Green)         (Red)      0.2    1.000000  1.666667\n",
       "5        (Orange)       (White)      0.2    1.000000  1.428571\n",
       "6         (Green)       (White)      0.2    1.000000  1.428571\n",
       "7    (Red, Green)       (White)      0.2    1.000000  1.428571\n",
       "1           (Red)        (Blue)      0.4    0.666667  1.111111\n",
       "2          (Blue)         (Red)      0.4    0.666667  1.111111"
      ]
     },
     "execution_count": 4,
     "metadata": {},
     "output_type": "execute_result"
    }
   ],
   "source": [
    "#and convert into rules\n",
    "rules = association_rules(itemsets,metric='confidence',min_threshold=0.6)\n",
    "rules = rules[['antecedents','consequents','support','confidence','lift']]\n",
    "rules = rules[rules['lift']>1]\n",
    "rules.sort_values(by='lift',ascending=False)"
   ]
  },
  {
   "cell_type": "code",
   "execution_count": 3,
   "id": "e5165cbd",
   "metadata": {},
   "outputs": [
    {
     "name": "stderr",
     "output_type": "stream",
     "text": [
      "/home/dai/anaconda3/envs/user_environment/lib/python3.12/site-packages/tqdm/auto.py:21: TqdmWarning: IProgress not found. Please update jupyter and ipywidgets. See https://ipywidgets.readthedocs.io/en/stable/user_install.html\n",
      "  from .autonotebook import tqdm as notebook_tqdm\n"
     ]
    }
   ],
   "source": [
    "import gradio as gr"
   ]
  },
  {
   "cell_type": "code",
   "execution_count": 23,
   "id": "6ba764f1",
   "metadata": {},
   "outputs": [
    {
     "ename": "ImportError",
     "evalue": "cannot import name 'Doc' from 'typing_extensions' (/home/dai/anaconda3/lib/python3.11/site-packages/typing_extensions.py)",
     "output_type": "error",
     "traceback": [
      "\u001b[0;31m---------------------------------------------------------------------------\u001b[0m",
      "\u001b[0;31mImportError\u001b[0m                               Traceback (most recent call last)",
      "Cell \u001b[0;32mIn[23], line 1\u001b[0m\n\u001b[0;32m----> 1\u001b[0m \u001b[38;5;28;01mfrom\u001b[39;00m \u001b[38;5;21;01mtyping_extensions\u001b[39;00m \u001b[38;5;28;01mimport\u001b[39;00m Doc\n",
      "\u001b[0;31mImportError\u001b[0m: cannot import name 'Doc' from 'typing_extensions' (/home/dai/anaconda3/lib/python3.11/site-packages/typing_extensions.py)"
     ]
    }
   ],
   "source": [
    "from typing_extensions import Doc"
   ]
  },
  {
   "cell_type": "code",
   "execution_count": null,
   "id": "fd6f4e5e",
   "metadata": {},
   "outputs": [],
   "source": []
  },
  {
   "cell_type": "code",
   "execution_count": 32,
   "id": "e14a9bd5",
   "metadata": {},
   "outputs": [
    {
     "name": "stdout",
     "output_type": "stream",
     "text": [
      "Requirement already satisfied: typing_extensions in /home/dai/anaconda3/lib/python3.11/site-packages (4.7.0)\r\n"
     ]
    }
   ],
   "source": [
    "!pip install typing_extensions"
   ]
  },
  {
   "cell_type": "code",
   "execution_count": 22,
   "id": "3655e397",
   "metadata": {},
   "outputs": [],
   "source": [
    "def gen_rules(min_sup,min_conf):\n",
    "    itemsets=apriori(fp_df,min_support=min_sup,use_colnames=True)\n",
    "    rules = association_rules(itemsets,metric='confidence',min_threshold=min_conf)\n",
    "    rules = rules[['antecedents','consequents','support','confidence','lift']]\n",
    "    rules = rules[rules['lift']>1]\n",
    "    return rules.sort_values(by='lift',ascending=False)"
   ]
  },
  {
   "cell_type": "code",
   "execution_count": null,
   "id": "21167595",
   "metadata": {},
   "outputs": [],
   "source": [
    "demo=gr.Interface(gen_rules,inputs=[gr.Number(value=0.01, step=0.01\n",
    "        ,minimum=0.0001, maximum=1),gr.Number(value=0.01, step=0.01,minimum=0.0001,maximum=1)],outputs='dataframe')\n",
    "if __name__==\"__main__\":\n",
    "    demo.launch()"
   ]
  },
  {
   "cell_type": "markdown",
   "id": "a4cf6d4d",
   "metadata": {},
   "source": [
    "# Cosmetics dataset"
   ]
  },
  {
   "cell_type": "code",
   "execution_count": 16,
   "id": "9943f00c",
   "metadata": {},
   "outputs": [],
   "source": [
    "CS_df = pd.read_csv('Cosmetics.csv',index_col=0)\n",
    "CS_df = CS_df.astype(bool)"
   ]
  },
  {
   "cell_type": "code",
   "execution_count": 19,
   "id": "eb3146f5",
   "metadata": {},
   "outputs": [],
   "source": [
    "#Create Frequent itemsets\n",
    "itemsets=apriori(CS_df,min_support=0.3,use_colnames=True)"
   ]
  },
  {
   "cell_type": "code",
   "execution_count": 20,
   "id": "661a841c",
   "metadata": {},
   "outputs": [
    {
     "data": {
      "text/html": [
       "<div>\n",
       "<style scoped>\n",
       "    .dataframe tbody tr th:only-of-type {\n",
       "        vertical-align: middle;\n",
       "    }\n",
       "\n",
       "    .dataframe tbody tr th {\n",
       "        vertical-align: top;\n",
       "    }\n",
       "\n",
       "    .dataframe thead th {\n",
       "        text-align: right;\n",
       "    }\n",
       "</style>\n",
       "<table border=\"1\" class=\"dataframe\">\n",
       "  <thead>\n",
       "    <tr style=\"text-align: right;\">\n",
       "      <th></th>\n",
       "      <th>antecedents</th>\n",
       "      <th>consequents</th>\n",
       "      <th>support</th>\n",
       "      <th>confidence</th>\n",
       "      <th>lift</th>\n",
       "    </tr>\n",
       "  </thead>\n",
       "  <tbody>\n",
       "    <tr>\n",
       "      <th>0</th>\n",
       "      <td>(Eye shadow)</td>\n",
       "      <td>(Mascara)</td>\n",
       "      <td>0.321</td>\n",
       "      <td>0.842520</td>\n",
       "      <td>2.359999</td>\n",
       "    </tr>\n",
       "    <tr>\n",
       "      <th>1</th>\n",
       "      <td>(Mascara)</td>\n",
       "      <td>(Eye shadow)</td>\n",
       "      <td>0.321</td>\n",
       "      <td>0.899160</td>\n",
       "      <td>2.359999</td>\n",
       "    </tr>\n",
       "    <tr>\n",
       "      <th>3</th>\n",
       "      <td>(Foundation)</td>\n",
       "      <td>(Lip Gloss)</td>\n",
       "      <td>0.356</td>\n",
       "      <td>0.664179</td>\n",
       "      <td>1.355468</td>\n",
       "    </tr>\n",
       "    <tr>\n",
       "      <th>2</th>\n",
       "      <td>(Lip Gloss)</td>\n",
       "      <td>(Foundation)</td>\n",
       "      <td>0.356</td>\n",
       "      <td>0.726531</td>\n",
       "      <td>1.355468</td>\n",
       "    </tr>\n",
       "  </tbody>\n",
       "</table>\n",
       "</div>"
      ],
      "text/plain": [
       "    antecedents   consequents  support  confidence      lift\n",
       "0  (Eye shadow)     (Mascara)    0.321    0.842520  2.359999\n",
       "1     (Mascara)  (Eye shadow)    0.321    0.899160  2.359999\n",
       "3  (Foundation)   (Lip Gloss)    0.356    0.664179  1.355468\n",
       "2   (Lip Gloss)  (Foundation)    0.356    0.726531  1.355468"
      ]
     },
     "execution_count": 20,
     "metadata": {},
     "output_type": "execute_result"
    }
   ],
   "source": [
    "rules = association_rules(itemsets,metric='confidence',min_threshold=0.6)\n",
    "rules = rules[['antecedents','consequents','support','confidence','lift']]\n",
    "rules = rules[rules['lift']>1]\n",
    "rules.sort_values(by='lift',ascending=False)"
   ]
  },
  {
   "cell_type": "code",
   "execution_count": null,
   "id": "0019e4e8",
   "metadata": {},
   "outputs": [],
   "source": []
  }
 ],
 "metadata": {
  "kernelspec": {
   "display_name": "Python 3 (ipykernel)",
   "language": "python",
   "name": "python3"
  },
  "language_info": {
   "codemirror_mode": {
    "name": "ipython",
    "version": 3
   },
   "file_extension": ".py",
   "mimetype": "text/x-python",
   "name": "python",
   "nbconvert_exporter": "python",
   "pygments_lexer": "ipython3",
   "version": "3.11.5"
  }
 },
 "nbformat": 4,
 "nbformat_minor": 5
}
