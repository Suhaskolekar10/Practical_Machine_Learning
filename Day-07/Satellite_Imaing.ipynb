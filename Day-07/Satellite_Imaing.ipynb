{
 "cells": [
  {
   "cell_type": "code",
   "execution_count": 36,
   "id": "0f743b72",
   "metadata": {},
   "outputs": [],
   "source": [
    "import pandas as pd\n",
    "from sklearn.svm import SVR,SVC\n",
    "from sklearn.model_selection import train_test_split\n",
    "from sklearn.model_selection import KFold, GridSearchCV,StratifiedKFold\n",
    "import numpy as np \n",
    "from sklearn.preprocessing import LabelEncoder\n",
    "from sklearn.metrics import accuracy_score, log_loss\n",
    "\n",
    "sat = pd.read_csv(\"Satellite.csv\",delimiter=\";\")\n",
    "lbl = LabelEncoder()\n",
    "sat['classes'] = lbl.fit_transform(sat['classes'])"
   ]
  },
  {
   "cell_type": "code",
   "execution_count": 37,
   "id": "6886a8f3",
   "metadata": {},
   "outputs": [],
   "source": [
    "X = sat.drop('classes', axis=1)\n",
    "Y=sat[['classes']]\n",
    "y =sat['classes']"
   ]
  },
  {
   "cell_type": "code",
   "execution_count": 3,
   "id": "02ace4c7",
   "metadata": {},
   "outputs": [],
   "source": [
    "from sklearn.metrics import r2_score\n",
    "from sklearn.preprocessing import StandardScaler,MinMaxScaler \n",
    "from sklearn.pipeline import Pipeline"
   ]
  },
  {
   "cell_type": "markdown",
   "id": "ae070c99",
   "metadata": {},
   "source": [
    "# Randamize grid search cv"
   ]
  },
  {
   "cell_type": "code",
   "execution_count": 4,
   "id": "88af83bd",
   "metadata": {},
   "outputs": [],
   "source": [
    "from sklearn.model_selection import RandomizedSearchCV\n",
    "scaler_y=MinMaxScaler()\n",
    "y_scl=scaler_y.fit_transform(y)"
   ]
  },
  {
   "cell_type": "code",
   "execution_count": 11,
   "id": "33aea36d",
   "metadata": {},
   "outputs": [
    {
     "name": "stdout",
     "output_type": "stream",
     "text": [
      "Fitting 5 folds for each of 10 candidates, totalling 50 fits\n",
      "[CV 1/5] END SVM__C=2.1722828282828277, SVM__decision_function_shape=ovr, SVM__gamma=4.394060606060606;, score=-0.338 total time=   2.8s\n",
      "[CV 2/5] END SVM__C=2.1722828282828277, SVM__decision_function_shape=ovr, SVM__gamma=4.394060606060606;, score=-0.348 total time=   3.0s\n",
      "[CV 3/5] END SVM__C=2.1722828282828277, SVM__decision_function_shape=ovr, SVM__gamma=4.394060606060606;, score=-0.329 total time=   3.0s\n",
      "[CV 4/5] END SVM__C=2.1722828282828277, SVM__decision_function_shape=ovr, SVM__gamma=4.394060606060606;, score=-0.354 total time=   3.2s\n",
      "[CV 5/5] END SVM__C=2.1722828282828277, SVM__decision_function_shape=ovr, SVM__gamma=4.394060606060606;, score=-0.313 total time=   3.1s\n",
      "[CV 1/5] END SVM__C=2.3237676767676763, SVM__decision_function_shape=ovo, SVM__gamma=2.8287171717171713;, score=-0.337 total time=   3.0s\n",
      "[CV 2/5] END SVM__C=2.3237676767676763, SVM__decision_function_shape=ovo, SVM__gamma=2.8287171717171713;, score=-0.349 total time=   3.2s\n",
      "[CV 3/5] END SVM__C=2.3237676767676763, SVM__decision_function_shape=ovo, SVM__gamma=2.8287171717171713;, score=-0.329 total time=   3.0s\n",
      "[CV 4/5] END SVM__C=2.3237676767676763, SVM__decision_function_shape=ovo, SVM__gamma=2.8287171717171713;, score=-0.354 total time=   2.9s\n",
      "[CV 5/5] END SVM__C=2.3237676767676763, SVM__decision_function_shape=ovo, SVM__gamma=2.8287171717171713;, score=-0.314 total time=   2.9s\n",
      "[CV 1/5] END SVM__C=2.778222222222222, SVM__decision_function_shape=ovr, SVM__gamma=4.545545454545454;, score=-0.338 total time=   3.0s\n",
      "[CV 2/5] END SVM__C=2.778222222222222, SVM__decision_function_shape=ovr, SVM__gamma=4.545545454545454;, score=-0.350 total time=   3.1s\n",
      "[CV 3/5] END SVM__C=2.778222222222222, SVM__decision_function_shape=ovr, SVM__gamma=4.545545454545454;, score=-0.330 total time=   3.1s\n",
      "[CV 4/5] END SVM__C=2.778222222222222, SVM__decision_function_shape=ovr, SVM__gamma=4.545545454545454;, score=-0.353 total time=   3.1s\n",
      "[CV 5/5] END SVM__C=2.778222222222222, SVM__decision_function_shape=ovr, SVM__gamma=4.545545454545454;, score=-0.315 total time=   3.2s\n",
      "[CV 1/5] END SVM__C=2.4247575757575754, SVM__decision_function_shape=ovr, SVM__gamma=0.20297979797979795;, score=-0.337 total time=   3.0s\n",
      "[CV 2/5] END SVM__C=2.4247575757575754, SVM__decision_function_shape=ovr, SVM__gamma=0.20297979797979795;, score=-0.349 total time=   3.0s\n",
      "[CV 3/5] END SVM__C=2.4247575757575754, SVM__decision_function_shape=ovr, SVM__gamma=0.20297979797979795;, score=-0.329 total time=   3.1s\n",
      "[CV 4/5] END SVM__C=2.4247575757575754, SVM__decision_function_shape=ovr, SVM__gamma=0.20297979797979795;, score=-0.354 total time=   2.9s\n",
      "[CV 5/5] END SVM__C=2.4247575757575754, SVM__decision_function_shape=ovr, SVM__gamma=0.20297979797979795;, score=-0.314 total time=   3.2s\n",
      "[CV 1/5] END SVM__C=1.5158484848484846, SVM__decision_function_shape=ovr, SVM__gamma=3.7881212121212116;, score=-0.336 total time=   2.6s\n",
      "[CV 2/5] END SVM__C=1.5158484848484846, SVM__decision_function_shape=ovr, SVM__gamma=3.7881212121212116;, score=-0.347 total time=   2.6s\n",
      "[CV 3/5] END SVM__C=1.5158484848484846, SVM__decision_function_shape=ovr, SVM__gamma=3.7881212121212116;, score=-0.328 total time=   2.7s\n",
      "[CV 4/5] END SVM__C=1.5158484848484846, SVM__decision_function_shape=ovr, SVM__gamma=3.7881212121212116;, score=-0.354 total time=   2.6s\n",
      "[CV 5/5] END SVM__C=1.5158484848484846, SVM__decision_function_shape=ovr, SVM__gamma=3.7881212121212116;, score=-0.313 total time=   2.6s\n",
      "[CV 1/5] END SVM__C=2.6267373737373734, SVM__decision_function_shape=ovo, SVM__gamma=3.8891111111111103;, score=-0.338 total time=   2.9s\n",
      "[CV 2/5] END SVM__C=2.6267373737373734, SVM__decision_function_shape=ovo, SVM__gamma=3.8891111111111103;, score=-0.350 total time=   3.0s\n",
      "[CV 3/5] END SVM__C=2.6267373737373734, SVM__decision_function_shape=ovo, SVM__gamma=3.8891111111111103;, score=-0.330 total time=   3.2s\n",
      "[CV 4/5] END SVM__C=2.6267373737373734, SVM__decision_function_shape=ovo, SVM__gamma=3.8891111111111103;, score=-0.353 total time=   3.1s\n",
      "[CV 5/5] END SVM__C=2.6267373737373734, SVM__decision_function_shape=ovo, SVM__gamma=3.8891111111111103;, score=-0.314 total time=   3.4s\n",
      "[CV 1/5] END SVM__C=4.192080808080808, SVM__decision_function_shape=ovr, SVM__gamma=1.566343434343434;, score=-0.339 total time=   3.7s\n",
      "[CV 2/5] END SVM__C=4.192080808080808, SVM__decision_function_shape=ovr, SVM__gamma=1.566343434343434;, score=-0.352 total time=   3.9s\n",
      "[CV 3/5] END SVM__C=4.192080808080808, SVM__decision_function_shape=ovr, SVM__gamma=1.566343434343434;, score=-0.332 total time=   4.3s\n",
      "[CV 4/5] END SVM__C=4.192080808080808, SVM__decision_function_shape=ovr, SVM__gamma=1.566343434343434;, score=-0.354 total time=   4.0s\n",
      "[CV 5/5] END SVM__C=4.192080808080808, SVM__decision_function_shape=ovr, SVM__gamma=1.566343434343434;, score=-0.317 total time=   4.1s\n",
      "[CV 1/5] END SVM__C=4.1415858585858585, SVM__decision_function_shape=ovo, SVM__gamma=1.162383838383838;, score=-0.339 total time=   3.8s\n",
      "[CV 2/5] END SVM__C=4.1415858585858585, SVM__decision_function_shape=ovo, SVM__gamma=1.162383838383838;, score=-0.352 total time=   4.1s\n",
      "[CV 3/5] END SVM__C=4.1415858585858585, SVM__decision_function_shape=ovo, SVM__gamma=1.162383838383838;, score=-0.332 total time=   3.7s\n",
      "[CV 4/5] END SVM__C=4.1415858585858585, SVM__decision_function_shape=ovo, SVM__gamma=1.162383838383838;, score=-0.354 total time=   3.5s\n",
      "[CV 5/5] END SVM__C=4.1415858585858585, SVM__decision_function_shape=ovo, SVM__gamma=1.162383838383838;, score=-0.317 total time=   3.9s\n",
      "[CV 1/5] END SVM__C=2.2227777777777775, SVM__decision_function_shape=ovo, SVM__gamma=2.8792121212121207;, score=-0.338 total time=   2.9s\n",
      "[CV 2/5] END SVM__C=2.2227777777777775, SVM__decision_function_shape=ovo, SVM__gamma=2.8792121212121207;, score=-0.349 total time=   3.0s\n",
      "[CV 3/5] END SVM__C=2.2227777777777775, SVM__decision_function_shape=ovo, SVM__gamma=2.8792121212121207;, score=-0.329 total time=   3.0s\n",
      "[CV 4/5] END SVM__C=2.2227777777777775, SVM__decision_function_shape=ovo, SVM__gamma=2.8792121212121207;, score=-0.354 total time=   2.9s\n",
      "[CV 5/5] END SVM__C=2.2227777777777775, SVM__decision_function_shape=ovo, SVM__gamma=2.8792121212121207;, score=-0.314 total time=   3.0s\n",
      "[CV 1/5] END SVM__C=1.768323232323232, SVM__decision_function_shape=ovr, SVM__gamma=3.737626262626262;, score=-0.337 total time=   2.6s\n",
      "[CV 2/5] END SVM__C=1.768323232323232, SVM__decision_function_shape=ovr, SVM__gamma=3.737626262626262;, score=-0.348 total time=   3.0s\n",
      "[CV 3/5] END SVM__C=1.768323232323232, SVM__decision_function_shape=ovr, SVM__gamma=3.737626262626262;, score=-0.329 total time=   2.8s\n",
      "[CV 4/5] END SVM__C=1.768323232323232, SVM__decision_function_shape=ovr, SVM__gamma=3.737626262626262;, score=-0.354 total time=   2.9s\n",
      "[CV 5/5] END SVM__C=1.768323232323232, SVM__decision_function_shape=ovr, SVM__gamma=3.737626262626262;, score=-0.313 total time=   2.8s\n"
     ]
    },
    {
     "data": {
      "text/html": [
       "<style>#sk-container-id-1 {color: black;}#sk-container-id-1 pre{padding: 0;}#sk-container-id-1 div.sk-toggleable {background-color: white;}#sk-container-id-1 label.sk-toggleable__label {cursor: pointer;display: block;width: 100%;margin-bottom: 0;padding: 0.3em;box-sizing: border-box;text-align: center;}#sk-container-id-1 label.sk-toggleable__label-arrow:before {content: \"▸\";float: left;margin-right: 0.25em;color: #696969;}#sk-container-id-1 label.sk-toggleable__label-arrow:hover:before {color: black;}#sk-container-id-1 div.sk-estimator:hover label.sk-toggleable__label-arrow:before {color: black;}#sk-container-id-1 div.sk-toggleable__content {max-height: 0;max-width: 0;overflow: hidden;text-align: left;background-color: #f0f8ff;}#sk-container-id-1 div.sk-toggleable__content pre {margin: 0.2em;color: black;border-radius: 0.25em;background-color: #f0f8ff;}#sk-container-id-1 input.sk-toggleable__control:checked~div.sk-toggleable__content {max-height: 200px;max-width: 100%;overflow: auto;}#sk-container-id-1 input.sk-toggleable__control:checked~label.sk-toggleable__label-arrow:before {content: \"▾\";}#sk-container-id-1 div.sk-estimator input.sk-toggleable__control:checked~label.sk-toggleable__label {background-color: #d4ebff;}#sk-container-id-1 div.sk-label input.sk-toggleable__control:checked~label.sk-toggleable__label {background-color: #d4ebff;}#sk-container-id-1 input.sk-hidden--visually {border: 0;clip: rect(1px 1px 1px 1px);clip: rect(1px, 1px, 1px, 1px);height: 1px;margin: -1px;overflow: hidden;padding: 0;position: absolute;width: 1px;}#sk-container-id-1 div.sk-estimator {font-family: monospace;background-color: #f0f8ff;border: 1px dotted black;border-radius: 0.25em;box-sizing: border-box;margin-bottom: 0.5em;}#sk-container-id-1 div.sk-estimator:hover {background-color: #d4ebff;}#sk-container-id-1 div.sk-parallel-item::after {content: \"\";width: 100%;border-bottom: 1px solid gray;flex-grow: 1;}#sk-container-id-1 div.sk-label:hover label.sk-toggleable__label {background-color: #d4ebff;}#sk-container-id-1 div.sk-serial::before {content: \"\";position: absolute;border-left: 1px solid gray;box-sizing: border-box;top: 0;bottom: 0;left: 50%;z-index: 0;}#sk-container-id-1 div.sk-serial {display: flex;flex-direction: column;align-items: center;background-color: white;padding-right: 0.2em;padding-left: 0.2em;position: relative;}#sk-container-id-1 div.sk-item {position: relative;z-index: 1;}#sk-container-id-1 div.sk-parallel {display: flex;align-items: stretch;justify-content: center;background-color: white;position: relative;}#sk-container-id-1 div.sk-item::before, #sk-container-id-1 div.sk-parallel-item::before {content: \"\";position: absolute;border-left: 1px solid gray;box-sizing: border-box;top: 0;bottom: 0;left: 50%;z-index: -1;}#sk-container-id-1 div.sk-parallel-item {display: flex;flex-direction: column;z-index: 1;position: relative;background-color: white;}#sk-container-id-1 div.sk-parallel-item:first-child::after {align-self: flex-end;width: 50%;}#sk-container-id-1 div.sk-parallel-item:last-child::after {align-self: flex-start;width: 50%;}#sk-container-id-1 div.sk-parallel-item:only-child::after {width: 0;}#sk-container-id-1 div.sk-dashed-wrapped {border: 1px dashed gray;margin: 0 0.4em 0.5em 0.4em;box-sizing: border-box;padding-bottom: 0.4em;background-color: white;}#sk-container-id-1 div.sk-label label {font-family: monospace;font-weight: bold;display: inline-block;line-height: 1.2em;}#sk-container-id-1 div.sk-label-container {text-align: center;}#sk-container-id-1 div.sk-container {/* jupyter's `normalize.less` sets `[hidden] { display: none; }` but bootstrap.min.css set `[hidden] { display: none !important; }` so we also need the `!important` here to be able to override the default hidden behavior on the sphinx rendered scikit-learn.org. See: https://github.com/scikit-learn/scikit-learn/issues/21755 */display: inline-block !important;position: relative;}#sk-container-id-1 div.sk-text-repr-fallback {display: none;}</style><div id=\"sk-container-id-1\" class=\"sk-top-container\"><div class=\"sk-text-repr-fallback\"><pre>RandomizedSearchCV(cv=KFold(n_splits=5, random_state=23, shuffle=True),\n",
       "                   estimator=Pipeline(steps=[(&#x27;SCL&#x27;, StandardScaler()),\n",
       "                                             (&#x27;SVM&#x27;,\n",
       "                                              SVC(kernel=&#x27;linear&#x27;,\n",
       "                                                  probability=True,\n",
       "                                                  random_state=23))]),\n",
       "                   param_distributions={&#x27;SVM__C&#x27;: array([1.00000000e-03, 5.14949495e-02, 1.01989899e-01, 1.52484848e-01,\n",
       "       2.02979798e-01, 2.53474747e-01, 3.03969697e-01, 3.54464646e-01,\n",
       "       4.0495959...\n",
       "       4.04059596e+00, 4.09109091e+00, 4.14158586e+00, 4.19208081e+00,\n",
       "       4.24257576e+00, 4.29307071e+00, 4.34356566e+00, 4.39406061e+00,\n",
       "       4.44455556e+00, 4.49505051e+00, 4.54554545e+00, 4.59604040e+00,\n",
       "       4.64653535e+00, 4.69703030e+00, 4.74752525e+00, 4.79802020e+00,\n",
       "       4.84851515e+00, 4.89901010e+00, 4.94950505e+00, 5.00000000e+00])},\n",
       "                   random_state=23, scoring=&#x27;neg_log_loss&#x27;, verbose=3)</pre><b>In a Jupyter environment, please rerun this cell to show the HTML representation or trust the notebook. <br />On GitHub, the HTML representation is unable to render, please try loading this page with nbviewer.org.</b></div><div class=\"sk-container\" hidden><div class=\"sk-item sk-dashed-wrapped\"><div class=\"sk-label-container\"><div class=\"sk-label sk-toggleable\"><input class=\"sk-toggleable__control sk-hidden--visually\" id=\"sk-estimator-id-1\" type=\"checkbox\" ><label for=\"sk-estimator-id-1\" class=\"sk-toggleable__label sk-toggleable__label-arrow\">RandomizedSearchCV</label><div class=\"sk-toggleable__content\"><pre>RandomizedSearchCV(cv=KFold(n_splits=5, random_state=23, shuffle=True),\n",
       "                   estimator=Pipeline(steps=[(&#x27;SCL&#x27;, StandardScaler()),\n",
       "                                             (&#x27;SVM&#x27;,\n",
       "                                              SVC(kernel=&#x27;linear&#x27;,\n",
       "                                                  probability=True,\n",
       "                                                  random_state=23))]),\n",
       "                   param_distributions={&#x27;SVM__C&#x27;: array([1.00000000e-03, 5.14949495e-02, 1.01989899e-01, 1.52484848e-01,\n",
       "       2.02979798e-01, 2.53474747e-01, 3.03969697e-01, 3.54464646e-01,\n",
       "       4.0495959...\n",
       "       4.04059596e+00, 4.09109091e+00, 4.14158586e+00, 4.19208081e+00,\n",
       "       4.24257576e+00, 4.29307071e+00, 4.34356566e+00, 4.39406061e+00,\n",
       "       4.44455556e+00, 4.49505051e+00, 4.54554545e+00, 4.59604040e+00,\n",
       "       4.64653535e+00, 4.69703030e+00, 4.74752525e+00, 4.79802020e+00,\n",
       "       4.84851515e+00, 4.89901010e+00, 4.94950505e+00, 5.00000000e+00])},\n",
       "                   random_state=23, scoring=&#x27;neg_log_loss&#x27;, verbose=3)</pre></div></div></div><div class=\"sk-parallel\"><div class=\"sk-parallel-item\"><div class=\"sk-item\"><div class=\"sk-label-container\"><div class=\"sk-label sk-toggleable\"><input class=\"sk-toggleable__control sk-hidden--visually\" id=\"sk-estimator-id-2\" type=\"checkbox\" ><label for=\"sk-estimator-id-2\" class=\"sk-toggleable__label sk-toggleable__label-arrow\">estimator: Pipeline</label><div class=\"sk-toggleable__content\"><pre>Pipeline(steps=[(&#x27;SCL&#x27;, StandardScaler()),\n",
       "                (&#x27;SVM&#x27;,\n",
       "                 SVC(kernel=&#x27;linear&#x27;, probability=True, random_state=23))])</pre></div></div></div><div class=\"sk-serial\"><div class=\"sk-item\"><div class=\"sk-serial\"><div class=\"sk-item\"><div class=\"sk-estimator sk-toggleable\"><input class=\"sk-toggleable__control sk-hidden--visually\" id=\"sk-estimator-id-3\" type=\"checkbox\" ><label for=\"sk-estimator-id-3\" class=\"sk-toggleable__label sk-toggleable__label-arrow\">StandardScaler</label><div class=\"sk-toggleable__content\"><pre>StandardScaler()</pre></div></div></div><div class=\"sk-item\"><div class=\"sk-estimator sk-toggleable\"><input class=\"sk-toggleable__control sk-hidden--visually\" id=\"sk-estimator-id-4\" type=\"checkbox\" ><label for=\"sk-estimator-id-4\" class=\"sk-toggleable__label sk-toggleable__label-arrow\">SVC</label><div class=\"sk-toggleable__content\"><pre>SVC(kernel=&#x27;linear&#x27;, probability=True, random_state=23)</pre></div></div></div></div></div></div></div></div></div></div></div></div>"
      ],
      "text/plain": [
       "RandomizedSearchCV(cv=KFold(n_splits=5, random_state=23, shuffle=True),\n",
       "                   estimator=Pipeline(steps=[('SCL', StandardScaler()),\n",
       "                                             ('SVM',\n",
       "                                              SVC(kernel='linear',\n",
       "                                                  probability=True,\n",
       "                                                  random_state=23))]),\n",
       "                   param_distributions={'SVM__C': array([1.00000000e-03, 5.14949495e-02, 1.01989899e-01, 1.52484848e-01,\n",
       "       2.02979798e-01, 2.53474747e-01, 3.03969697e-01, 3.54464646e-01,\n",
       "       4.0495959...\n",
       "       4.04059596e+00, 4.09109091e+00, 4.14158586e+00, 4.19208081e+00,\n",
       "       4.24257576e+00, 4.29307071e+00, 4.34356566e+00, 4.39406061e+00,\n",
       "       4.44455556e+00, 4.49505051e+00, 4.54554545e+00, 4.59604040e+00,\n",
       "       4.64653535e+00, 4.69703030e+00, 4.74752525e+00, 4.79802020e+00,\n",
       "       4.84851515e+00, 4.89901010e+00, 4.94950505e+00, 5.00000000e+00])},\n",
       "                   random_state=23, scoring='neg_log_loss', verbose=3)"
      ]
     },
     "execution_count": 11,
     "metadata": {},
     "output_type": "execute_result"
    }
   ],
   "source": [
    "#StandardScaler+Linear\n",
    "scalar=StandardScaler()\n",
    "svm=SVC(kernel='linear',probability=True,random_state=23)\n",
    "kfold=KFold(n_splits=5,shuffle=True,random_state=23)\n",
    "pipe=Pipeline([(\"SCL\",scalar),(\"SVM\",svm)])\n",
    "params={'SVM__C': np.linspace(0.001, 5, 100),'SVM__gamma':np.linspace(0.001,5,100),'SVM__decision_function_shape':['ovo','ovr']}\n",
    "rgcv=RandomizedSearchCV(pipe,param_distributions=params,cv=kfold,verbose=3,scoring='neg_log_loss',random_state=23)\n",
    "rgcv.fit(X,y)"
   ]
  },
  {
   "cell_type": "code",
   "execution_count": 12,
   "id": "82506c4f",
   "metadata": {},
   "outputs": [
    {
     "name": "stdout",
     "output_type": "stream",
     "text": [
      "{'SVM__gamma': 3.7881212121212116, 'SVM__decision_function_shape': 'ovr', 'SVM__C': 1.5158484848484846}\n",
      "-0.3356805566888476\n"
     ]
    }
   ],
   "source": [
    "print(rgcv.best_params_)\n",
    "print(rgcv.best_score_)"
   ]
  },
  {
   "cell_type": "code",
   "execution_count": 13,
   "id": "c6d6aa79",
   "metadata": {},
   "outputs": [
    {
     "name": "stdout",
     "output_type": "stream",
     "text": [
      "Fitting 5 folds for each of 10 candidates, totalling 50 fits\n",
      "[CV 1/5] END SVM__C=2.1722828282828277, SVM__decision_function_shape=ovr, SVM__gamma=4.394060606060606;, score=-1.124 total time=  23.7s\n",
      "[CV 2/5] END SVM__C=2.1722828282828277, SVM__decision_function_shape=ovr, SVM__gamma=4.394060606060606;, score=-1.093 total time=  22.5s\n",
      "[CV 3/5] END SVM__C=2.1722828282828277, SVM__decision_function_shape=ovr, SVM__gamma=4.394060606060606;, score=-1.122 total time=  22.9s\n",
      "[CV 4/5] END SVM__C=2.1722828282828277, SVM__decision_function_shape=ovr, SVM__gamma=4.394060606060606;, score=-1.098 total time=  24.7s\n",
      "[CV 5/5] END SVM__C=2.1722828282828277, SVM__decision_function_shape=ovr, SVM__gamma=4.394060606060606;, score=-1.109 total time=  25.0s\n",
      "[CV 1/5] END SVM__C=2.3237676767676763, SVM__decision_function_shape=ovo, SVM__gamma=2.8287171717171713;, score=-0.717 total time=  23.2s\n",
      "[CV 2/5] END SVM__C=2.3237676767676763, SVM__decision_function_shape=ovo, SVM__gamma=2.8287171717171713;, score=-0.669 total time=  23.2s\n",
      "[CV 3/5] END SVM__C=2.3237676767676763, SVM__decision_function_shape=ovo, SVM__gamma=2.8287171717171713;, score=-0.739 total time=  23.2s\n",
      "[CV 4/5] END SVM__C=2.3237676767676763, SVM__decision_function_shape=ovo, SVM__gamma=2.8287171717171713;, score=-0.703 total time=  22.3s\n",
      "[CV 5/5] END SVM__C=2.3237676767676763, SVM__decision_function_shape=ovo, SVM__gamma=2.8287171717171713;, score=-0.686 total time=  24.0s\n",
      "[CV 1/5] END SVM__C=2.778222222222222, SVM__decision_function_shape=ovr, SVM__gamma=4.545545454545454;, score=-1.160 total time=  25.4s\n",
      "[CV 2/5] END SVM__C=2.778222222222222, SVM__decision_function_shape=ovr, SVM__gamma=4.545545454545454;, score=-1.133 total time=  24.3s\n",
      "[CV 3/5] END SVM__C=2.778222222222222, SVM__decision_function_shape=ovr, SVM__gamma=4.545545454545454;, score=-1.156 total time=  22.5s\n",
      "[CV 4/5] END SVM__C=2.778222222222222, SVM__decision_function_shape=ovr, SVM__gamma=4.545545454545454;, score=-1.130 total time=  25.1s\n",
      "[CV 5/5] END SVM__C=2.778222222222222, SVM__decision_function_shape=ovr, SVM__gamma=4.545545454545454;, score=-1.148 total time=  28.8s\n",
      "[CV 1/5] END SVM__C=2.4247575757575754, SVM__decision_function_shape=ovr, SVM__gamma=0.20297979797979795;, score=-0.225 total time=   5.4s\n",
      "[CV 2/5] END SVM__C=2.4247575757575754, SVM__decision_function_shape=ovr, SVM__gamma=0.20297979797979795;, score=-0.204 total time=   5.6s\n",
      "[CV 3/5] END SVM__C=2.4247575757575754, SVM__decision_function_shape=ovr, SVM__gamma=0.20297979797979795;, score=-0.209 total time=   5.4s\n",
      "[CV 4/5] END SVM__C=2.4247575757575754, SVM__decision_function_shape=ovr, SVM__gamma=0.20297979797979795;, score=-0.237 total time=   5.2s\n",
      "[CV 5/5] END SVM__C=2.4247575757575754, SVM__decision_function_shape=ovr, SVM__gamma=0.20297979797979795;, score=-0.205 total time=   5.5s\n",
      "[CV 1/5] END SVM__C=1.5158484848484846, SVM__decision_function_shape=ovr, SVM__gamma=3.7881212121212116;, score=-0.973 total time=  25.2s\n",
      "[CV 2/5] END SVM__C=1.5158484848484846, SVM__decision_function_shape=ovr, SVM__gamma=3.7881212121212116;, score=-0.928 total time=  24.5s\n",
      "[CV 3/5] END SVM__C=1.5158484848484846, SVM__decision_function_shape=ovr, SVM__gamma=3.7881212121212116;, score=-0.978 total time=  23.9s\n",
      "[CV 4/5] END SVM__C=1.5158484848484846, SVM__decision_function_shape=ovr, SVM__gamma=3.7881212121212116;, score=-0.941 total time=  23.8s\n",
      "[CV 5/5] END SVM__C=1.5158484848484846, SVM__decision_function_shape=ovr, SVM__gamma=3.7881212121212116;, score=-0.948 total time=  24.2s\n",
      "[CV 1/5] END SVM__C=2.6267373737373734, SVM__decision_function_shape=ovo, SVM__gamma=3.8891111111111103;, score=-0.998 total time=  22.4s\n",
      "[CV 2/5] END SVM__C=2.6267373737373734, SVM__decision_function_shape=ovo, SVM__gamma=3.8891111111111103;, score=-0.956 total time=  25.3s\n",
      "[CV 3/5] END SVM__C=2.6267373737373734, SVM__decision_function_shape=ovo, SVM__gamma=3.8891111111111103;, score=-1.002 total time=  24.8s\n",
      "[CV 4/5] END SVM__C=2.6267373737373734, SVM__decision_function_shape=ovo, SVM__gamma=3.8891111111111103;, score=-0.968 total time=  25.3s\n",
      "[CV 5/5] END SVM__C=2.6267373737373734, SVM__decision_function_shape=ovo, SVM__gamma=3.8891111111111103;, score=-0.975 total time=  25.7s\n",
      "[CV 1/5] END SVM__C=4.192080808080808, SVM__decision_function_shape=ovr, SVM__gamma=1.566343434343434;, score=-0.407 total time=  20.4s\n",
      "[CV 2/5] END SVM__C=4.192080808080808, SVM__decision_function_shape=ovr, SVM__gamma=1.566343434343434;, score=-0.368 total time=  21.2s\n",
      "[CV 3/5] END SVM__C=4.192080808080808, SVM__decision_function_shape=ovr, SVM__gamma=1.566343434343434;, score=-0.417 total time=  22.0s\n",
      "[CV 4/5] END SVM__C=4.192080808080808, SVM__decision_function_shape=ovr, SVM__gamma=1.566343434343434;, score=-0.428 total time=  22.7s\n",
      "[CV 5/5] END SVM__C=4.192080808080808, SVM__decision_function_shape=ovr, SVM__gamma=1.566343434343434;, score=-0.385 total time=  22.8s\n",
      "[CV 1/5] END SVM__C=4.1415858585858585, SVM__decision_function_shape=ovo, SVM__gamma=1.162383838383838;, score=-0.329 total time=  20.2s\n",
      "[CV 2/5] END SVM__C=4.1415858585858585, SVM__decision_function_shape=ovo, SVM__gamma=1.162383838383838;, score=-0.294 total time=  21.2s\n",
      "[CV 3/5] END SVM__C=4.1415858585858585, SVM__decision_function_shape=ovo, SVM__gamma=1.162383838383838;, score=-0.334 total time=  21.3s\n",
      "[CV 4/5] END SVM__C=4.1415858585858585, SVM__decision_function_shape=ovo, SVM__gamma=1.162383838383838;, score=-0.355 total time=  22.0s\n",
      "[CV 5/5] END SVM__C=4.1415858585858585, SVM__decision_function_shape=ovo, SVM__gamma=1.162383838383838;, score=-0.316 total time=  21.0s\n",
      "[CV 1/5] END SVM__C=2.2227777777777775, SVM__decision_function_shape=ovo, SVM__gamma=2.8792121212121207;, score=-0.731 total time=  26.0s\n",
      "[CV 2/5] END SVM__C=2.2227777777777775, SVM__decision_function_shape=ovo, SVM__gamma=2.8792121212121207;, score=-0.683 total time=  25.1s\n",
      "[CV 3/5] END SVM__C=2.2227777777777775, SVM__decision_function_shape=ovo, SVM__gamma=2.8792121212121207;, score=-0.752 total time=  24.4s\n",
      "[CV 4/5] END SVM__C=2.2227777777777775, SVM__decision_function_shape=ovo, SVM__gamma=2.8792121212121207;, score=-0.715 total time=  23.3s\n",
      "[CV 5/5] END SVM__C=2.2227777777777775, SVM__decision_function_shape=ovo, SVM__gamma=2.8792121212121207;, score=-0.700 total time=  23.8s\n",
      "[CV 1/5] END SVM__C=1.768323232323232, SVM__decision_function_shape=ovr, SVM__gamma=3.737626262626262;, score=-0.960 total time=  23.9s\n",
      "[CV 2/5] END SVM__C=1.768323232323232, SVM__decision_function_shape=ovr, SVM__gamma=3.737626262626262;, score=-0.914 total time=  25.3s\n",
      "[CV 3/5] END SVM__C=1.768323232323232, SVM__decision_function_shape=ovr, SVM__gamma=3.737626262626262;, score=-0.965 total time=  24.1s\n",
      "[CV 4/5] END SVM__C=1.768323232323232, SVM__decision_function_shape=ovr, SVM__gamma=3.737626262626262;, score=-0.928 total time=  22.6s\n",
      "[CV 5/5] END SVM__C=1.768323232323232, SVM__decision_function_shape=ovr, SVM__gamma=3.737626262626262;, score=-0.935 total time=  22.8s\n"
     ]
    },
    {
     "ename": "NameError",
     "evalue": "name 'gcv' is not defined",
     "output_type": "error",
     "traceback": [
      "\u001b[0;31m---------------------------------------------------------------------------\u001b[0m",
      "\u001b[0;31mNameError\u001b[0m                                 Traceback (most recent call last)",
      "Cell \u001b[0;32mIn[13], line 8\u001b[0m\n\u001b[1;32m      6\u001b[0m rgcv\u001b[38;5;241m=\u001b[39mRandomizedSearchCV(pipe,param_distributions\u001b[38;5;241m=\u001b[39mparams,cv\u001b[38;5;241m=\u001b[39mkfold,verbose\u001b[38;5;241m=\u001b[39m\u001b[38;5;241m3\u001b[39m,scoring\u001b[38;5;241m=\u001b[39m\u001b[38;5;124m'\u001b[39m\u001b[38;5;124mneg_log_loss\u001b[39m\u001b[38;5;124m'\u001b[39m,random_state\u001b[38;5;241m=\u001b[39m\u001b[38;5;241m23\u001b[39m)\n\u001b[1;32m      7\u001b[0m rgcv\u001b[38;5;241m.\u001b[39mfit(X,y)\n\u001b[0;32m----> 8\u001b[0m \u001b[38;5;28mprint\u001b[39m(gcv\u001b[38;5;241m.\u001b[39mbest_params_)\n\u001b[1;32m      9\u001b[0m \u001b[38;5;28mprint\u001b[39m(gcv\u001b[38;5;241m.\u001b[39mbest_score_)\n",
      "\u001b[0;31mNameError\u001b[0m: name 'gcv' is not defined"
     ]
    }
   ],
   "source": [
    "##StandardScaler+RBF\n",
    "scalar=StandardScaler()\n",
    "svm=SVC(kernel='rbf',probability=True,random_state=23)\n",
    "kfold=KFold(n_splits=5,shuffle=True,random_state=23)\n",
    "pipe=Pipeline([(\"SCL\",scalar),(\"SVM\",svm)])\n",
    "params={'SVM__C': np.linspace(0.001, 5, 100),'SVM__gamma':np.linspace(0.001,5,100),'SVM__decision_function_shape':['ovo','ovr']}\n",
    "rgcv=RandomizedSearchCV(pipe,param_distributions=params,cv=kfold,verbose=3,scoring='neg_log_loss',random_state=23)\n",
    "rgcv.fit(X,y)"
   ]
  },
  {
   "cell_type": "code",
   "execution_count": 14,
   "id": "310cab91",
   "metadata": {},
   "outputs": [
    {
     "name": "stdout",
     "output_type": "stream",
     "text": [
      "{'SVM__gamma': 0.20297979797979795, 'SVM__decision_function_shape': 'ovr', 'SVM__C': 2.4247575757575754}\n",
      "-0.21583862296130704\n"
     ]
    }
   ],
   "source": [
    "print(rgcv.best_params_)\n",
    "print(rgcv.best_score_)"
   ]
  },
  {
   "cell_type": "code",
   "execution_count": 30,
   "id": "729f7d17",
   "metadata": {},
   "outputs": [
    {
     "name": "stdout",
     "output_type": "stream",
     "text": [
      "Fitting 5 folds for each of 10 candidates, totalling 50 fits\n",
      "[CV 1/5] END SVM__C=2.1722828282828277, SVM__decision_function_shape=ovr, SVM__gamma=4.394060606060606;, score=-0.336 total time=   1.7s\n",
      "[CV 2/5] END SVM__C=2.1722828282828277, SVM__decision_function_shape=ovr, SVM__gamma=4.394060606060606;, score=-0.339 total time=   1.7s\n",
      "[CV 3/5] END SVM__C=2.1722828282828277, SVM__decision_function_shape=ovr, SVM__gamma=4.394060606060606;, score=-0.328 total time=   1.9s\n",
      "[CV 4/5] END SVM__C=2.1722828282828277, SVM__decision_function_shape=ovr, SVM__gamma=4.394060606060606;, score=-0.351 total time=   1.8s\n",
      "[CV 5/5] END SVM__C=2.1722828282828277, SVM__decision_function_shape=ovr, SVM__gamma=4.394060606060606;, score=-0.311 total time=   1.7s\n",
      "[CV 1/5] END SVM__C=2.3237676767676763, SVM__decision_function_shape=ovo, SVM__gamma=2.8287171717171713;, score=-0.336 total time=   1.7s\n",
      "[CV 2/5] END SVM__C=2.3237676767676763, SVM__decision_function_shape=ovo, SVM__gamma=2.8287171717171713;, score=-0.338 total time=   1.6s\n",
      "[CV 3/5] END SVM__C=2.3237676767676763, SVM__decision_function_shape=ovo, SVM__gamma=2.8287171717171713;, score=-0.328 total time=   1.7s\n",
      "[CV 4/5] END SVM__C=2.3237676767676763, SVM__decision_function_shape=ovo, SVM__gamma=2.8287171717171713;, score=-0.350 total time=   1.7s\n",
      "[CV 5/5] END SVM__C=2.3237676767676763, SVM__decision_function_shape=ovo, SVM__gamma=2.8287171717171713;, score=-0.310 total time=   1.7s\n",
      "[CV 1/5] END SVM__C=2.778222222222222, SVM__decision_function_shape=ovr, SVM__gamma=4.545545454545454;, score=-0.335 total time=   1.7s\n",
      "[CV 2/5] END SVM__C=2.778222222222222, SVM__decision_function_shape=ovr, SVM__gamma=4.545545454545454;, score=-0.337 total time=   1.7s\n",
      "[CV 3/5] END SVM__C=2.778222222222222, SVM__decision_function_shape=ovr, SVM__gamma=4.545545454545454;, score=-0.326 total time=   1.7s\n",
      "[CV 4/5] END SVM__C=2.778222222222222, SVM__decision_function_shape=ovr, SVM__gamma=4.545545454545454;, score=-0.348 total time=   1.7s\n",
      "[CV 5/5] END SVM__C=2.778222222222222, SVM__decision_function_shape=ovr, SVM__gamma=4.545545454545454;, score=-0.309 total time=   1.7s\n",
      "[CV 1/5] END SVM__C=2.4247575757575754, SVM__decision_function_shape=ovr, SVM__gamma=0.20297979797979795;, score=-0.336 total time=   1.7s\n",
      "[CV 2/5] END SVM__C=2.4247575757575754, SVM__decision_function_shape=ovr, SVM__gamma=0.20297979797979795;, score=-0.338 total time=   1.7s\n",
      "[CV 3/5] END SVM__C=2.4247575757575754, SVM__decision_function_shape=ovr, SVM__gamma=0.20297979797979795;, score=-0.327 total time=   1.7s\n",
      "[CV 4/5] END SVM__C=2.4247575757575754, SVM__decision_function_shape=ovr, SVM__gamma=0.20297979797979795;, score=-0.349 total time=   1.6s\n",
      "[CV 5/5] END SVM__C=2.4247575757575754, SVM__decision_function_shape=ovr, SVM__gamma=0.20297979797979795;, score=-0.310 total time=   1.7s\n",
      "[CV 1/5] END SVM__C=1.5158484848484846, SVM__decision_function_shape=ovr, SVM__gamma=3.7881212121212116;, score=-0.340 total time=   1.6s\n",
      "[CV 2/5] END SVM__C=1.5158484848484846, SVM__decision_function_shape=ovr, SVM__gamma=3.7881212121212116;, score=-0.340 total time=   1.7s\n",
      "[CV 3/5] END SVM__C=1.5158484848484846, SVM__decision_function_shape=ovr, SVM__gamma=3.7881212121212116;, score=-0.331 total time=   1.7s\n",
      "[CV 4/5] END SVM__C=1.5158484848484846, SVM__decision_function_shape=ovr, SVM__gamma=3.7881212121212116;, score=-0.355 total time=   1.6s\n",
      "[CV 5/5] END SVM__C=1.5158484848484846, SVM__decision_function_shape=ovr, SVM__gamma=3.7881212121212116;, score=-0.313 total time=   1.7s\n",
      "[CV 1/5] END SVM__C=2.6267373737373734, SVM__decision_function_shape=ovo, SVM__gamma=3.8891111111111103;, score=-0.336 total time=   1.7s\n",
      "[CV 2/5] END SVM__C=2.6267373737373734, SVM__decision_function_shape=ovo, SVM__gamma=3.8891111111111103;, score=-0.337 total time=   1.7s\n",
      "[CV 3/5] END SVM__C=2.6267373737373734, SVM__decision_function_shape=ovo, SVM__gamma=3.8891111111111103;, score=-0.327 total time=   1.7s\n",
      "[CV 4/5] END SVM__C=2.6267373737373734, SVM__decision_function_shape=ovo, SVM__gamma=3.8891111111111103;, score=-0.349 total time=   1.7s\n",
      "[CV 5/5] END SVM__C=2.6267373737373734, SVM__decision_function_shape=ovo, SVM__gamma=3.8891111111111103;, score=-0.310 total time=   1.7s\n",
      "[CV 1/5] END SVM__C=4.192080808080808, SVM__decision_function_shape=ovr, SVM__gamma=1.566343434343434;, score=-0.333 total time=   1.7s\n",
      "[CV 2/5] END SVM__C=4.192080808080808, SVM__decision_function_shape=ovr, SVM__gamma=1.566343434343434;, score=-0.339 total time=   1.7s\n",
      "[CV 3/5] END SVM__C=4.192080808080808, SVM__decision_function_shape=ovr, SVM__gamma=1.566343434343434;, score=-0.325 total time=   1.8s\n",
      "[CV 4/5] END SVM__C=4.192080808080808, SVM__decision_function_shape=ovr, SVM__gamma=1.566343434343434;, score=-0.346 total time=   1.7s\n",
      "[CV 5/5] END SVM__C=4.192080808080808, SVM__decision_function_shape=ovr, SVM__gamma=1.566343434343434;, score=-0.308 total time=   1.8s\n",
      "[CV 1/5] END SVM__C=4.1415858585858585, SVM__decision_function_shape=ovo, SVM__gamma=1.162383838383838;, score=-0.333 total time=   1.7s\n",
      "[CV 2/5] END SVM__C=4.1415858585858585, SVM__decision_function_shape=ovo, SVM__gamma=1.162383838383838;, score=-0.339 total time=   1.7s\n",
      "[CV 3/5] END SVM__C=4.1415858585858585, SVM__decision_function_shape=ovo, SVM__gamma=1.162383838383838;, score=-0.325 total time=   1.8s\n",
      "[CV 4/5] END SVM__C=4.1415858585858585, SVM__decision_function_shape=ovo, SVM__gamma=1.162383838383838;, score=-0.346 total time=   1.7s\n",
      "[CV 5/5] END SVM__C=4.1415858585858585, SVM__decision_function_shape=ovo, SVM__gamma=1.162383838383838;, score=-0.308 total time=   1.8s\n",
      "[CV 1/5] END SVM__C=2.2227777777777775, SVM__decision_function_shape=ovo, SVM__gamma=2.8792121212121207;, score=-0.336 total time=   1.7s\n",
      "[CV 2/5] END SVM__C=2.2227777777777775, SVM__decision_function_shape=ovo, SVM__gamma=2.8792121212121207;, score=-0.339 total time=   1.7s\n",
      "[CV 3/5] END SVM__C=2.2227777777777775, SVM__decision_function_shape=ovo, SVM__gamma=2.8792121212121207;, score=-0.328 total time=   1.7s\n",
      "[CV 4/5] END SVM__C=2.2227777777777775, SVM__decision_function_shape=ovo, SVM__gamma=2.8792121212121207;, score=-0.351 total time=   1.7s\n",
      "[CV 5/5] END SVM__C=2.2227777777777775, SVM__decision_function_shape=ovo, SVM__gamma=2.8792121212121207;, score=-0.311 total time=   1.7s\n",
      "[CV 1/5] END SVM__C=1.768323232323232, SVM__decision_function_shape=ovr, SVM__gamma=3.737626262626262;, score=-0.338 total time=   1.7s\n",
      "[CV 2/5] END SVM__C=1.768323232323232, SVM__decision_function_shape=ovr, SVM__gamma=3.737626262626262;, score=-0.340 total time=   1.6s\n",
      "[CV 3/5] END SVM__C=1.768323232323232, SVM__decision_function_shape=ovr, SVM__gamma=3.737626262626262;, score=-0.330 total time=   1.6s\n",
      "[CV 4/5] END SVM__C=1.768323232323232, SVM__decision_function_shape=ovr, SVM__gamma=3.737626262626262;, score=-0.353 total time=   1.6s\n",
      "[CV 5/5] END SVM__C=1.768323232323232, SVM__decision_function_shape=ovr, SVM__gamma=3.737626262626262;, score=-0.312 total time=   1.7s\n",
      "{'SVM__gamma': 1.566343434343434, 'SVM__decision_function_shape': 'ovr', 'SVM__C': 4.192080808080808}\n",
      "-0.3301887553756344\n"
     ]
    }
   ],
   "source": [
    "#MinMaxScaler+Linear\n",
    "kfold=KFold(n_splits=5,shuffle=True,random_state=23)\n",
    "scalar=MinMaxScaler()\n",
    "svm=SVC(kernel='linear',probability=True,random_state=23)\n",
    "pipe=Pipeline([(\"SCL\",scalar),(\"SVM\",svm)])          #here we are using values of KNN transformer\n",
    "params={'SVM__C': np.linspace(0.001, 5, 100),'SVM__gamma':np.linspace(0.001,5,100),'SVM__decision_function_shape':['ovo','ovr']}\n",
    "rgcv=RandomizedSearchCV(pipe,param_distributions=params,cv=kfold,verbose=3,scoring='neg_log_loss',random_state=23)\n",
    "rgcv.fit(X,y)\n",
    "print(rgcv.best_params_)\n",
    "print(rgcv.best_score_)"
   ]
  },
  {
   "cell_type": "code",
   "execution_count": 31,
   "id": "b11127b7",
   "metadata": {},
   "outputs": [
    {
     "name": "stdout",
     "output_type": "stream",
     "text": [
      "Fitting 5 folds for each of 10 candidates, totalling 50 fits\n",
      "[CV 1/5] END SVM__C=2.1722828282828277, SVM__decision_function_shape=ovr, SVM__gamma=4.394060606060606;, score=-0.223 total time=   4.5s\n",
      "[CV 2/5] END SVM__C=2.1722828282828277, SVM__decision_function_shape=ovr, SVM__gamma=4.394060606060606;, score=-0.208 total time=   4.5s\n",
      "[CV 3/5] END SVM__C=2.1722828282828277, SVM__decision_function_shape=ovr, SVM__gamma=4.394060606060606;, score=-0.206 total time=   4.4s\n",
      "[CV 4/5] END SVM__C=2.1722828282828277, SVM__decision_function_shape=ovr, SVM__gamma=4.394060606060606;, score=-0.238 total time=   4.2s\n",
      "[CV 5/5] END SVM__C=2.1722828282828277, SVM__decision_function_shape=ovr, SVM__gamma=4.394060606060606;, score=-0.203 total time=   4.5s\n",
      "[CV 1/5] END SVM__C=2.3237676767676763, SVM__decision_function_shape=ovo, SVM__gamma=2.8287171717171713;, score=-0.230 total time=   3.6s\n",
      "[CV 2/5] END SVM__C=2.3237676767676763, SVM__decision_function_shape=ovo, SVM__gamma=2.8287171717171713;, score=-0.217 total time=   3.3s\n",
      "[CV 3/5] END SVM__C=2.3237676767676763, SVM__decision_function_shape=ovo, SVM__gamma=2.8287171717171713;, score=-0.208 total time=   3.2s\n",
      "[CV 4/5] END SVM__C=2.3237676767676763, SVM__decision_function_shape=ovo, SVM__gamma=2.8287171717171713;, score=-0.241 total time=   3.3s\n",
      "[CV 5/5] END SVM__C=2.3237676767676763, SVM__decision_function_shape=ovo, SVM__gamma=2.8287171717171713;, score=-0.206 total time=   3.3s\n",
      "[CV 1/5] END SVM__C=2.778222222222222, SVM__decision_function_shape=ovr, SVM__gamma=4.545545454545454;, score=-0.218 total time=   4.5s\n",
      "[CV 2/5] END SVM__C=2.778222222222222, SVM__decision_function_shape=ovr, SVM__gamma=4.545545454545454;, score=-0.204 total time=   4.5s\n",
      "[CV 3/5] END SVM__C=2.778222222222222, SVM__decision_function_shape=ovr, SVM__gamma=4.545545454545454;, score=-0.205 total time=   4.5s\n",
      "[CV 4/5] END SVM__C=2.778222222222222, SVM__decision_function_shape=ovr, SVM__gamma=4.545545454545454;, score=-0.234 total time=   4.4s\n",
      "[CV 5/5] END SVM__C=2.778222222222222, SVM__decision_function_shape=ovr, SVM__gamma=4.545545454545454;, score=-0.200 total time=   4.6s\n",
      "[CV 1/5] END SVM__C=2.4247575757575754, SVM__decision_function_shape=ovr, SVM__gamma=0.20297979797979795;, score=-0.293 total time=   2.4s\n",
      "[CV 2/5] END SVM__C=2.4247575757575754, SVM__decision_function_shape=ovr, SVM__gamma=0.20297979797979795;, score=-0.289 total time=   2.5s\n",
      "[CV 3/5] END SVM__C=2.4247575757575754, SVM__decision_function_shape=ovr, SVM__gamma=0.20297979797979795;, score=-0.275 total time=   2.5s\n",
      "[CV 4/5] END SVM__C=2.4247575757575754, SVM__decision_function_shape=ovr, SVM__gamma=0.20297979797979795;, score=-0.307 total time=   2.4s\n",
      "[CV 5/5] END SVM__C=2.4247575757575754, SVM__decision_function_shape=ovr, SVM__gamma=0.20297979797979795;, score=-0.270 total time=   2.5s\n",
      "[CV 1/5] END SVM__C=1.5158484848484846, SVM__decision_function_shape=ovr, SVM__gamma=3.7881212121212116;, score=-0.236 total time=   3.9s\n",
      "[CV 2/5] END SVM__C=1.5158484848484846, SVM__decision_function_shape=ovr, SVM__gamma=3.7881212121212116;, score=-0.215 total time=   3.9s\n",
      "[CV 3/5] END SVM__C=1.5158484848484846, SVM__decision_function_shape=ovr, SVM__gamma=3.7881212121212116;, score=-0.211 total time=   4.0s\n",
      "[CV 4/5] END SVM__C=1.5158484848484846, SVM__decision_function_shape=ovr, SVM__gamma=3.7881212121212116;, score=-0.244 total time=   3.9s\n",
      "[CV 5/5] END SVM__C=1.5158484848484846, SVM__decision_function_shape=ovr, SVM__gamma=3.7881212121212116;, score=-0.210 total time=   4.0s\n",
      "[CV 1/5] END SVM__C=2.6267373737373734, SVM__decision_function_shape=ovo, SVM__gamma=3.8891111111111103;, score=-0.220 total time=   3.9s\n",
      "[CV 2/5] END SVM__C=2.6267373737373734, SVM__decision_function_shape=ovo, SVM__gamma=3.8891111111111103;, score=-0.208 total time=   4.0s\n",
      "[CV 3/5] END SVM__C=2.6267373737373734, SVM__decision_function_shape=ovo, SVM__gamma=3.8891111111111103;, score=-0.205 total time=   4.0s\n",
      "[CV 4/5] END SVM__C=2.6267373737373734, SVM__decision_function_shape=ovo, SVM__gamma=3.8891111111111103;, score=-0.236 total time=   4.0s\n",
      "[CV 5/5] END SVM__C=2.6267373737373734, SVM__decision_function_shape=ovo, SVM__gamma=3.8891111111111103;, score=-0.201 total time=   4.0s\n",
      "[CV 1/5] END SVM__C=4.192080808080808, SVM__decision_function_shape=ovr, SVM__gamma=1.566343434343434;, score=-0.232 total time=   2.5s\n",
      "[CV 2/5] END SVM__C=4.192080808080808, SVM__decision_function_shape=ovr, SVM__gamma=1.566343434343434;, score=-0.225 total time=   2.5s\n",
      "[CV 3/5] END SVM__C=4.192080808080808, SVM__decision_function_shape=ovr, SVM__gamma=1.566343434343434;, score=-0.209 total time=   2.5s\n",
      "[CV 4/5] END SVM__C=4.192080808080808, SVM__decision_function_shape=ovr, SVM__gamma=1.566343434343434;, score=-0.246 total time=   2.5s\n",
      "[CV 5/5] END SVM__C=4.192080808080808, SVM__decision_function_shape=ovr, SVM__gamma=1.566343434343434;, score=-0.213 total time=   2.5s\n",
      "[CV 1/5] END SVM__C=4.1415858585858585, SVM__decision_function_shape=ovo, SVM__gamma=1.162383838383838;, score=-0.240 total time=   2.3s\n",
      "[CV 2/5] END SVM__C=4.1415858585858585, SVM__decision_function_shape=ovo, SVM__gamma=1.162383838383838;, score=-0.232 total time=   2.3s\n",
      "[CV 3/5] END SVM__C=4.1415858585858585, SVM__decision_function_shape=ovo, SVM__gamma=1.162383838383838;, score=-0.216 total time=   2.3s\n",
      "[CV 4/5] END SVM__C=4.1415858585858585, SVM__decision_function_shape=ovo, SVM__gamma=1.162383838383838;, score=-0.255 total time=   2.2s\n",
      "[CV 5/5] END SVM__C=4.1415858585858585, SVM__decision_function_shape=ovo, SVM__gamma=1.162383838383838;, score=-0.223 total time=   2.3s\n",
      "[CV 1/5] END SVM__C=2.2227777777777775, SVM__decision_function_shape=ovo, SVM__gamma=2.8792121212121207;, score=-0.231 total time=   3.3s\n",
      "[CV 2/5] END SVM__C=2.2227777777777775, SVM__decision_function_shape=ovo, SVM__gamma=2.8792121212121207;, score=-0.217 total time=   3.3s\n",
      "[CV 3/5] END SVM__C=2.2227777777777775, SVM__decision_function_shape=ovo, SVM__gamma=2.8792121212121207;, score=-0.208 total time=   3.3s\n",
      "[CV 4/5] END SVM__C=2.2227777777777775, SVM__decision_function_shape=ovo, SVM__gamma=2.8792121212121207;, score=-0.241 total time=   3.2s\n",
      "[CV 5/5] END SVM__C=2.2227777777777775, SVM__decision_function_shape=ovo, SVM__gamma=2.8792121212121207;, score=-0.207 total time=   3.3s\n",
      "[CV 1/5] END SVM__C=1.768323232323232, SVM__decision_function_shape=ovr, SVM__gamma=3.737626262626262;, score=-0.232 total time=   3.8s\n",
      "[CV 2/5] END SVM__C=1.768323232323232, SVM__decision_function_shape=ovr, SVM__gamma=3.737626262626262;, score=-0.213 total time=   3.9s\n",
      "[CV 3/5] END SVM__C=1.768323232323232, SVM__decision_function_shape=ovr, SVM__gamma=3.737626262626262;, score=-0.209 total time=   3.9s\n",
      "[CV 4/5] END SVM__C=1.768323232323232, SVM__decision_function_shape=ovr, SVM__gamma=3.737626262626262;, score=-0.242 total time=   3.8s\n",
      "[CV 5/5] END SVM__C=1.768323232323232, SVM__decision_function_shape=ovr, SVM__gamma=3.737626262626262;, score=-0.207 total time=   3.9s\n",
      "{'SVM__gamma': 4.545545454545454, 'SVM__decision_function_shape': 'ovr', 'SVM__C': 2.778222222222222}\n",
      "-0.2122510297954391\n"
     ]
    }
   ],
   "source": [
    "#MinMaxScaler+RBf\n",
    "kfold=KFold(n_splits=5,shuffle=True,random_state=23)\n",
    "scalar=MinMaxScaler()\n",
    "svm=SVC(kernel='rbf',probability=True,random_state=23)\n",
    "pipe=Pipeline([(\"SCL\",scalar),(\"SVM\",svm)])          #here we are using values of KNN transformer\n",
    "params={'SVM__C': np.linspace(0.001, 5, 100),'SVM__gamma':np.linspace(0.001,5,100),'SVM__decision_function_shape':['ovo','ovr']}\n",
    "rgcv=RandomizedSearchCV(pipe,param_distributions=params,cv=kfold,verbose=3,scoring='neg_log_loss',random_state=23)\n",
    "rgcv.fit(X,y)\n",
    "print(rgcv.best_params_)\n",
    "print(rgcv.best_score_)"
   ]
  },
  {
   "cell_type": "code",
   "execution_count": 32,
   "id": "1fdd7f7f",
   "metadata": {},
   "outputs": [],
   "source": [
    "bm=rgcv.best_estimator_"
   ]
  },
  {
   "cell_type": "code",
   "execution_count": 33,
   "id": "18172e1a",
   "metadata": {},
   "outputs": [],
   "source": [
    "#Inferencing\n",
    "tst_sat=pd.read_csv(\"tst_satellite.csv\")"
   ]
  },
  {
   "cell_type": "code",
   "execution_count": 34,
   "id": "0bdf8dfd",
   "metadata": {},
   "outputs": [
    {
     "name": "stdout",
     "output_type": "stream",
     "text": [
      "Predictions:\n",
      "['cotton crop' 'cotton crop' 'cotton crop' 'cotton crop' 'cotton crop'\n",
      " 'cotton crop' 'cotton crop' 'cotton crop' 'cotton crop' 'cotton crop'\n",
      " 'cotton crop' 'cotton crop' 'cotton crop' 'cotton crop' 'cotton crop'\n",
      " 'cotton crop' 'cotton crop' 'cotton crop']\n"
     ]
    }
   ],
   "source": [
    "y_pred=bm.predict(tst_sat)\n",
    "print(\"Predictions:\")\n",
    "print(lbl.inverse_transform(y_pred))"
   ]
  },
  {
   "cell_type": "code",
   "execution_count": 38,
   "id": "2adfd117",
   "metadata": {},
   "outputs": [
    {
     "name": "stdout",
     "output_type": "stream",
     "text": [
      "{'solver': 'svd'}\n",
      "-0.5872905454633515\n"
     ]
    }
   ],
   "source": [
    "###LDA\n",
    "from sklearn.discriminant_analysis import LinearDiscriminantAnalysis,QuadraticDiscriminantAnalysis\n",
    "lda=LinearDiscriminantAnalysis()\n",
    "kfold=StratifiedKFold(n_splits=5,shuffle=True,random_state=23)\n",
    "params={'solver':['svd','lsqr','eigen']}\n",
    "gcv=GridSearchCV(lda,param_grid=params,cv=kfold,scoring='neg_log_loss')\n",
    "gcv.fit(X,y)\n",
    "print(gcv.best_params_)\n",
    "print(gcv.best_score_)"
   ]
  },
  {
   "cell_type": "code",
   "execution_count": 39,
   "id": "6930a885",
   "metadata": {},
   "outputs": [
    {
     "name": "stdout",
     "output_type": "stream",
     "text": [
      "{}\n",
      "-0.8814849658082486\n"
     ]
    }
   ],
   "source": [
    "###QDA\n",
    "qda=QuadraticDiscriminantAnalysis()\n",
    "kfold=StratifiedKFold(n_splits=5,shuffle=True,random_state=23)\n",
    "params={}\n",
    "gcv=GridSearchCV(qda,param_grid=params,cv=kfold,scoring='neg_log_loss')\n",
    "gcv.fit(X,y)\n",
    "print(gcv.best_params_)\n",
    "print(gcv.best_score_)"
   ]
  },
  {
   "cell_type": "code",
   "execution_count": null,
   "id": "39842258",
   "metadata": {},
   "outputs": [],
   "source": []
  }
 ],
 "metadata": {
  "kernelspec": {
   "display_name": "Python 3 (ipykernel)",
   "language": "python",
   "name": "python3"
  },
  "language_info": {
   "codemirror_mode": {
    "name": "ipython",
    "version": 3
   },
   "file_extension": ".py",
   "mimetype": "text/x-python",
   "name": "python",
   "nbconvert_exporter": "python",
   "pygments_lexer": "ipython3",
   "version": "3.11.5"
  }
 },
 "nbformat": 4,
 "nbformat_minor": 5
}
