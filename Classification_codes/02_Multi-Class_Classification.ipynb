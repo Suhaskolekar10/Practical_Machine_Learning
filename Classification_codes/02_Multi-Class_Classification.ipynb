{
 "cells": [
  {
   "cell_type": "code",
   "execution_count": 1,
   "id": "b1ce8379",
   "metadata": {},
   "outputs": [],
   "source": [
    "###-----------------\n",
    "### Import Libraries\n",
    "###-----------------\n",
    "\n",
    "import pandas as pd\n",
    "import numpy as np\n",
    "from sklearn.linear_model import LogisticRegression\n",
    "from sklearn.model_selection import train_test_split,StratifiedKFold\n",
    "from sklearn.model_selection import GridSearchCV\n",
    "from sklearn.linear_model import ElasticNet\n",
    "from sklearn.model_selection import KFold,cross_val_score\n",
    "from sklearn.metrics import log_loss,accuracy_score,mean_squared_error\n",
    "from sklearn.preprocessing import LabelEncoder\n",
    "\n",
    "import warnings\n",
    "warnings.filterwarnings('ignore')"
   ]
  },
  {
   "cell_type": "code",
   "execution_count": 2,
   "id": "5589818c",
   "metadata": {},
   "outputs": [
    {
     "data": {
      "text/html": [
       "<div>\n",
       "<style scoped>\n",
       "    .dataframe tbody tr th:only-of-type {\n",
       "        vertical-align: middle;\n",
       "    }\n",
       "\n",
       "    .dataframe tbody tr th {\n",
       "        vertical-align: top;\n",
       "    }\n",
       "\n",
       "    .dataframe thead th {\n",
       "        text-align: right;\n",
       "    }\n",
       "</style>\n",
       "<table border=\"1\" class=\"dataframe\">\n",
       "  <thead>\n",
       "    <tr style=\"text-align: right;\">\n",
       "      <th></th>\n",
       "      <th>Class</th>\n",
       "      <th>region.centroid.col</th>\n",
       "      <th>region.centroid.row</th>\n",
       "      <th>region.pixel.count</th>\n",
       "      <th>short.line.density.5</th>\n",
       "      <th>short.line.density.2</th>\n",
       "      <th>vedge.mean</th>\n",
       "      <th>vegde.sd</th>\n",
       "      <th>hedge.mean</th>\n",
       "      <th>hedge.sd</th>\n",
       "      <th>intensity.mean</th>\n",
       "      <th>rawred.mean</th>\n",
       "      <th>rawblue.mean</th>\n",
       "      <th>rawgreen.mean</th>\n",
       "      <th>exred.mean</th>\n",
       "      <th>exblue.mean</th>\n",
       "      <th>exgreen.mean</th>\n",
       "      <th>value.mean</th>\n",
       "      <th>saturation.mean</th>\n",
       "      <th>hue-mean</th>\n",
       "    </tr>\n",
       "  </thead>\n",
       "  <tbody>\n",
       "    <tr>\n",
       "      <th>0</th>\n",
       "      <td>BRICKFACE</td>\n",
       "      <td>188</td>\n",
       "      <td>133</td>\n",
       "      <td>9</td>\n",
       "      <td>0.0</td>\n",
       "      <td>0.0</td>\n",
       "      <td>0.333333</td>\n",
       "      <td>0.266667</td>\n",
       "      <td>0.500000</td>\n",
       "      <td>0.077778</td>\n",
       "      <td>6.666666</td>\n",
       "      <td>8.333334</td>\n",
       "      <td>7.777778</td>\n",
       "      <td>3.888889</td>\n",
       "      <td>5.000000</td>\n",
       "      <td>3.333333</td>\n",
       "      <td>-8.333333</td>\n",
       "      <td>8.444445</td>\n",
       "      <td>0.538580</td>\n",
       "      <td>-0.924817</td>\n",
       "    </tr>\n",
       "    <tr>\n",
       "      <th>1</th>\n",
       "      <td>BRICKFACE</td>\n",
       "      <td>105</td>\n",
       "      <td>139</td>\n",
       "      <td>9</td>\n",
       "      <td>0.0</td>\n",
       "      <td>0.0</td>\n",
       "      <td>0.277778</td>\n",
       "      <td>0.107407</td>\n",
       "      <td>0.833333</td>\n",
       "      <td>0.522222</td>\n",
       "      <td>6.111111</td>\n",
       "      <td>7.555555</td>\n",
       "      <td>7.222222</td>\n",
       "      <td>3.555556</td>\n",
       "      <td>4.333334</td>\n",
       "      <td>3.333333</td>\n",
       "      <td>-7.666666</td>\n",
       "      <td>7.555555</td>\n",
       "      <td>0.532628</td>\n",
       "      <td>-0.965946</td>\n",
       "    </tr>\n",
       "    <tr>\n",
       "      <th>2</th>\n",
       "      <td>BRICKFACE</td>\n",
       "      <td>34</td>\n",
       "      <td>137</td>\n",
       "      <td>9</td>\n",
       "      <td>0.0</td>\n",
       "      <td>0.0</td>\n",
       "      <td>0.500000</td>\n",
       "      <td>0.166667</td>\n",
       "      <td>1.111111</td>\n",
       "      <td>0.474074</td>\n",
       "      <td>5.851852</td>\n",
       "      <td>7.777778</td>\n",
       "      <td>6.444445</td>\n",
       "      <td>3.333333</td>\n",
       "      <td>5.777778</td>\n",
       "      <td>1.777778</td>\n",
       "      <td>-7.555555</td>\n",
       "      <td>7.777778</td>\n",
       "      <td>0.573633</td>\n",
       "      <td>-0.744272</td>\n",
       "    </tr>\n",
       "    <tr>\n",
       "      <th>3</th>\n",
       "      <td>BRICKFACE</td>\n",
       "      <td>39</td>\n",
       "      <td>111</td>\n",
       "      <td>9</td>\n",
       "      <td>0.0</td>\n",
       "      <td>0.0</td>\n",
       "      <td>0.722222</td>\n",
       "      <td>0.374074</td>\n",
       "      <td>0.888889</td>\n",
       "      <td>0.429629</td>\n",
       "      <td>6.037037</td>\n",
       "      <td>7.000000</td>\n",
       "      <td>7.666666</td>\n",
       "      <td>3.444444</td>\n",
       "      <td>2.888889</td>\n",
       "      <td>4.888889</td>\n",
       "      <td>-7.777778</td>\n",
       "      <td>7.888889</td>\n",
       "      <td>0.562919</td>\n",
       "      <td>-1.175773</td>\n",
       "    </tr>\n",
       "    <tr>\n",
       "      <th>4</th>\n",
       "      <td>BRICKFACE</td>\n",
       "      <td>16</td>\n",
       "      <td>128</td>\n",
       "      <td>9</td>\n",
       "      <td>0.0</td>\n",
       "      <td>0.0</td>\n",
       "      <td>0.500000</td>\n",
       "      <td>0.077778</td>\n",
       "      <td>0.666667</td>\n",
       "      <td>0.311111</td>\n",
       "      <td>5.555555</td>\n",
       "      <td>6.888889</td>\n",
       "      <td>6.666666</td>\n",
       "      <td>3.111111</td>\n",
       "      <td>4.000000</td>\n",
       "      <td>3.333333</td>\n",
       "      <td>-7.333334</td>\n",
       "      <td>7.111111</td>\n",
       "      <td>0.561508</td>\n",
       "      <td>-0.985811</td>\n",
       "    </tr>\n",
       "  </tbody>\n",
       "</table>\n",
       "</div>"
      ],
      "text/plain": [
       "       Class  region.centroid.col  region.centroid.row  region.pixel.count  \\\n",
       "0  BRICKFACE                  188                  133                   9   \n",
       "1  BRICKFACE                  105                  139                   9   \n",
       "2  BRICKFACE                   34                  137                   9   \n",
       "3  BRICKFACE                   39                  111                   9   \n",
       "4  BRICKFACE                   16                  128                   9   \n",
       "\n",
       "   short.line.density.5  short.line.density.2  vedge.mean  vegde.sd  \\\n",
       "0                   0.0                   0.0    0.333333  0.266667   \n",
       "1                   0.0                   0.0    0.277778  0.107407   \n",
       "2                   0.0                   0.0    0.500000  0.166667   \n",
       "3                   0.0                   0.0    0.722222  0.374074   \n",
       "4                   0.0                   0.0    0.500000  0.077778   \n",
       "\n",
       "   hedge.mean  hedge.sd  intensity.mean  rawred.mean  rawblue.mean  \\\n",
       "0    0.500000  0.077778        6.666666     8.333334      7.777778   \n",
       "1    0.833333  0.522222        6.111111     7.555555      7.222222   \n",
       "2    1.111111  0.474074        5.851852     7.777778      6.444445   \n",
       "3    0.888889  0.429629        6.037037     7.000000      7.666666   \n",
       "4    0.666667  0.311111        5.555555     6.888889      6.666666   \n",
       "\n",
       "   rawgreen.mean  exred.mean  exblue.mean  exgreen.mean  value.mean  \\\n",
       "0       3.888889    5.000000     3.333333     -8.333333    8.444445   \n",
       "1       3.555556    4.333334     3.333333     -7.666666    7.555555   \n",
       "2       3.333333    5.777778     1.777778     -7.555555    7.777778   \n",
       "3       3.444444    2.888889     4.888889     -7.777778    7.888889   \n",
       "4       3.111111    4.000000     3.333333     -7.333334    7.111111   \n",
       "\n",
       "   saturation.mean  hue-mean  \n",
       "0         0.538580 -0.924817  \n",
       "1         0.532628 -0.965946  \n",
       "2         0.573633 -0.744272  \n",
       "3         0.562919 -1.175773  \n",
       "4         0.561508 -0.985811  "
      ]
     },
     "execution_count": 2,
     "metadata": {},
     "output_type": "execute_result"
    }
   ],
   "source": [
    "img=pd.read_csv('Image_Segmention.csv')\n",
    "\n",
    "\n",
    "img.head()"
   ]
  },
  {
   "cell_type": "code",
   "execution_count": 3,
   "id": "ce8fc8dc",
   "metadata": {},
   "outputs": [
    {
     "name": "stdout",
     "output_type": "stream",
     "text": [
      "['BRICKFACE' 'CEMENT' 'FOLIAGE' 'GRASS' 'PATH' 'SKY' 'WINDOW']\n"
     ]
    }
   ],
   "source": [
    "lbl=LabelEncoder()\n",
    "img['Class']=lbl.fit_transform(img['Class'])\n",
    "print(lbl.classes_)"
   ]
  },
  {
   "cell_type": "code",
   "execution_count": 4,
   "id": "30108b0a",
   "metadata": {},
   "outputs": [],
   "source": [
    "x=img.drop('Class',axis=1)\n",
    "y=img['Class']"
   ]
  },
  {
   "cell_type": "code",
   "execution_count": 5,
   "id": "39fec7eb",
   "metadata": {},
   "outputs": [],
   "source": [
    "x_train,x_test,y_train,y_test=train_test_split(x,y,\n",
    "                                               test_size=0.3,\n",
    "                                               random_state=23,\n",
    "                                               stratify=y)"
   ]
  },
  {
   "cell_type": "code",
   "execution_count": 6,
   "id": "391eb3ab",
   "metadata": {},
   "outputs": [
    {
     "data": {
      "text/html": [
       "<style>#sk-container-id-1 {color: black;background-color: white;}#sk-container-id-1 pre{padding: 0;}#sk-container-id-1 div.sk-toggleable {background-color: white;}#sk-container-id-1 label.sk-toggleable__label {cursor: pointer;display: block;width: 100%;margin-bottom: 0;padding: 0.3em;box-sizing: border-box;text-align: center;}#sk-container-id-1 label.sk-toggleable__label-arrow:before {content: \"▸\";float: left;margin-right: 0.25em;color: #696969;}#sk-container-id-1 label.sk-toggleable__label-arrow:hover:before {color: black;}#sk-container-id-1 div.sk-estimator:hover label.sk-toggleable__label-arrow:before {color: black;}#sk-container-id-1 div.sk-toggleable__content {max-height: 0;max-width: 0;overflow: hidden;text-align: left;background-color: #f0f8ff;}#sk-container-id-1 div.sk-toggleable__content pre {margin: 0.2em;color: black;border-radius: 0.25em;background-color: #f0f8ff;}#sk-container-id-1 input.sk-toggleable__control:checked~div.sk-toggleable__content {max-height: 200px;max-width: 100%;overflow: auto;}#sk-container-id-1 input.sk-toggleable__control:checked~label.sk-toggleable__label-arrow:before {content: \"▾\";}#sk-container-id-1 div.sk-estimator input.sk-toggleable__control:checked~label.sk-toggleable__label {background-color: #d4ebff;}#sk-container-id-1 div.sk-label input.sk-toggleable__control:checked~label.sk-toggleable__label {background-color: #d4ebff;}#sk-container-id-1 input.sk-hidden--visually {border: 0;clip: rect(1px 1px 1px 1px);clip: rect(1px, 1px, 1px, 1px);height: 1px;margin: -1px;overflow: hidden;padding: 0;position: absolute;width: 1px;}#sk-container-id-1 div.sk-estimator {font-family: monospace;background-color: #f0f8ff;border: 1px dotted black;border-radius: 0.25em;box-sizing: border-box;margin-bottom: 0.5em;}#sk-container-id-1 div.sk-estimator:hover {background-color: #d4ebff;}#sk-container-id-1 div.sk-parallel-item::after {content: \"\";width: 100%;border-bottom: 1px solid gray;flex-grow: 1;}#sk-container-id-1 div.sk-label:hover label.sk-toggleable__label {background-color: #d4ebff;}#sk-container-id-1 div.sk-serial::before {content: \"\";position: absolute;border-left: 1px solid gray;box-sizing: border-box;top: 0;bottom: 0;left: 50%;z-index: 0;}#sk-container-id-1 div.sk-serial {display: flex;flex-direction: column;align-items: center;background-color: white;padding-right: 0.2em;padding-left: 0.2em;position: relative;}#sk-container-id-1 div.sk-item {position: relative;z-index: 1;}#sk-container-id-1 div.sk-parallel {display: flex;align-items: stretch;justify-content: center;background-color: white;position: relative;}#sk-container-id-1 div.sk-item::before, #sk-container-id-1 div.sk-parallel-item::before {content: \"\";position: absolute;border-left: 1px solid gray;box-sizing: border-box;top: 0;bottom: 0;left: 50%;z-index: -1;}#sk-container-id-1 div.sk-parallel-item {display: flex;flex-direction: column;z-index: 1;position: relative;background-color: white;}#sk-container-id-1 div.sk-parallel-item:first-child::after {align-self: flex-end;width: 50%;}#sk-container-id-1 div.sk-parallel-item:last-child::after {align-self: flex-start;width: 50%;}#sk-container-id-1 div.sk-parallel-item:only-child::after {width: 0;}#sk-container-id-1 div.sk-dashed-wrapped {border: 1px dashed gray;margin: 0 0.4em 0.5em 0.4em;box-sizing: border-box;padding-bottom: 0.4em;background-color: white;}#sk-container-id-1 div.sk-label label {font-family: monospace;font-weight: bold;display: inline-block;line-height: 1.2em;}#sk-container-id-1 div.sk-label-container {text-align: center;}#sk-container-id-1 div.sk-container {/* jupyter's `normalize.less` sets `[hidden] { display: none; }` but bootstrap.min.css set `[hidden] { display: none !important; }` so we also need the `!important` here to be able to override the default hidden behavior on the sphinx rendered scikit-learn.org. See: https://github.com/scikit-learn/scikit-learn/issues/21755 */display: inline-block !important;position: relative;}#sk-container-id-1 div.sk-text-repr-fallback {display: none;}</style><div id=\"sk-container-id-1\" class=\"sk-top-container\"><div class=\"sk-text-repr-fallback\"><pre>LogisticRegression()</pre><b>In a Jupyter environment, please rerun this cell to show the HTML representation or trust the notebook. <br />On GitHub, the HTML representation is unable to render, please try loading this page with nbviewer.org.</b></div><div class=\"sk-container\" hidden><div class=\"sk-item\"><div class=\"sk-estimator sk-toggleable\"><input class=\"sk-toggleable__control sk-hidden--visually\" id=\"sk-estimator-id-1\" type=\"checkbox\" checked><label for=\"sk-estimator-id-1\" class=\"sk-toggleable__label sk-toggleable__label-arrow\">LogisticRegression</label><div class=\"sk-toggleable__content\"><pre>LogisticRegression()</pre></div></div></div></div></div>"
      ],
      "text/plain": [
       "LogisticRegression()"
      ]
     },
     "execution_count": 6,
     "metadata": {},
     "output_type": "execute_result"
    }
   ],
   "source": [
    "lr=LogisticRegression()    #multi_class= multinomial\n",
    "lr.fit(x_train,y_train)"
   ]
  },
  {
   "cell_type": "code",
   "execution_count": 7,
   "id": "213ef0ad",
   "metadata": {},
   "outputs": [
    {
     "name": "stdout",
     "output_type": "stream",
     "text": [
      "0.27163401168459117\n",
      "0.9206349206349206\n"
     ]
    }
   ],
   "source": [
    "y_pred_proba=lr.predict_proba(x_test)\n",
    "print(log_loss(y_test,y_pred_proba))\n",
    "\n",
    "y_pred=lr.predict(x_test)\n",
    "print(accuracy_score(y_test,y_pred))"
   ]
  },
  {
   "cell_type": "markdown",
   "id": "1a292d65",
   "metadata": {},
   "source": [
    "# ----------------------------------------------------------------------------------------------------------"
   ]
  },
  {
   "cell_type": "code",
   "execution_count": 8,
   "id": "2ef3f4fc",
   "metadata": {},
   "outputs": [],
   "source": [
    "#Grid search cv\n",
    "kfold=StratifiedKFold(n_splits=5,shuffle=True,random_state=23)\n",
    "mse=mean_squared_error"
   ]
  },
  {
   "cell_type": "code",
   "execution_count": 9,
   "id": "22dfc310",
   "metadata": {},
   "outputs": [
    {
     "name": "stdout",
     "output_type": "stream",
     "text": [
      "{'multi_class': 'ovr', 'penalty': 'l2', 'solver': 'newton-cg'}\n",
      "0.9044134727061557\n",
      "1.4444444444444444\n"
     ]
    }
   ],
   "source": [
    "params={'penalty':[\"l1\",\"l2\",\"elastic\",None],\n",
    "       'solver':['lbfgs','liblinear','newton-cg','newton-cholesky','sag','saga'],\n",
    "        'multi_class':['ovr', 'multinomial']}\n",
    "                                            #multi_class{‘auto’, ‘ovr’, ‘multinomial’}, default=’auto’\n",
    "\n",
    "gcv=GridSearchCV(lr,param_grid=params,cv=kfold)\n",
    "gcv.fit(x,y)\n",
    "\n",
    "print(gcv.best_params_)\n",
    "print(gcv.best_score_)\n",
    "\n",
    "\n",
    "print(mse(y_test,y_pred))"
   ]
  },
  {
   "cell_type": "code",
   "execution_count": 10,
   "id": "8b69008c",
   "metadata": {},
   "outputs": [
    {
     "name": "stdout",
     "output_type": "stream",
     "text": [
      "{'multi_class': 'multinomial', 'penalty': 'l2', 'solver': 'newton-cg'}\n",
      "-0.5465525609071172\n"
     ]
    }
   ],
   "source": [
    "gcv=GridSearchCV(lr,param_grid=params,cv=kfold,scoring='neg_log_loss')\n",
    "gcv.fit(x,y)\n",
    "\n",
    "print(gcv.best_params_)\n",
    "print(gcv.best_score_)"
   ]
  },
  {
   "cell_type": "code",
   "execution_count": 11,
   "id": "dd572e7c",
   "metadata": {},
   "outputs": [
    {
     "name": "stdout",
     "output_type": "stream",
     "text": [
      "[[-3.02403569e-02 -1.29097151e-01  1.05406506e-03 -1.64282484e-02\n",
      "  -4.54631921e-05 -2.65706121e-01 -1.25123165e-01  3.68222555e-02\n",
      "  -9.53361863e-02 -7.55518396e-02  2.68787652e-01 -3.37518384e-02\n",
      "  -4.61691898e-01  1.03301938e+00  1.25400437e-01 -1.15841949e+00\n",
      "  -5.48293635e-02 -2.48404226e-02  7.18655748e-02]\n",
      " [-5.85826462e-03 -5.97605861e-02 -1.98316736e-04  1.14007534e-01\n",
      "   7.06925154e-02 -8.39163922e-02  1.49268512e-01  2.94176341e-01\n",
      "  -7.06496922e-02  1.37638236e-01  2.77752016e-01  2.32265216e-01\n",
      "  -9.71032078e-02  4.20339034e-01  2.83883328e-01 -7.04223218e-01\n",
      "  -5.77254182e-01  2.11481520e-02 -1.78948045e-01]\n",
      " [-8.98890654e-03 -1.69606871e-01 -8.21690572e-04 -1.92327700e-02\n",
      "   1.27682667e-03  2.86385357e-01  6.23072934e-02 -5.11576619e-02\n",
      "   4.79211953e-02 -2.75448329e-01 -5.34992721e-01 -3.47056044e-01\n",
      "   5.57027295e-02 -7.78633341e-01 -2.14820623e-01  9.93454056e-01\n",
      "   7.11871289e-01  7.45091432e-01 -5.94164649e-01]\n",
      " [ 1.74678052e-02  2.17556125e-01 -1.55326435e-03  2.30739470e-06\n",
      "   1.13168872e-07 -1.23010433e-02 -1.06631891e-03  3.78022446e-03\n",
      "  -6.29362861e-02  2.72134426e-02 -1.40700341e-01 -7.66512123e-02\n",
      "   2.98991890e-01 -5.03741364e-01 -3.11594009e-01  8.15335405e-01\n",
      "   1.10298005e-01  9.81435284e-03  1.57820322e-01]\n",
      " [ 6.34313755e-03  3.11372950e-01 -1.23300035e-04  1.25868250e-05\n",
      "   2.40127578e-05  1.13357606e-02 -2.27035389e-02  9.95542184e-02\n",
      "   8.30180837e-02  8.21657082e-02  7.99116325e-02  9.06583905e-02\n",
      "   7.59271768e-02 -6.76231054e-03  2.54780299e-02 -1.87157051e-02\n",
      "   9.02766866e-02 -5.96556367e-04 -3.30361921e-03]\n",
      " [ 2.03415574e-02  4.48446585e-03  4.27990309e-04  6.05880986e-06\n",
      "  -7.59690756e-07 -6.58202065e-03 -6.34552733e-03 -1.39368419e-03\n",
      "  -2.21907650e-03  7.92660224e-02  7.31055834e-02  8.63764873e-02\n",
      "   7.83160136e-02 -1.84813239e-02  2.13313664e-02 -2.85004377e-03\n",
      "   8.63764563e-02 -6.96193354e-05 -3.08102301e-04]\n",
      " [ 9.35027975e-04 -1.74948934e-01  1.21451633e-03 -7.83674684e-02\n",
      "  -7.19472451e-02  7.07844603e-02 -5.63372552e-02 -3.81781694e-01\n",
      "   1.00201962e-01  2.47167595e-02 -2.38638221e-02  4.81590006e-02\n",
      "   4.98572960e-02 -1.45740077e-01  7.03214711e-02  7.54189971e-02\n",
      "  -3.66738891e-01 -7.50547339e-01  5.47038519e-01]]\n",
      "True\n"
     ]
    }
   ],
   "source": [
    "bm=gcv.best_estimator_\n",
    "\n",
    "print(bm.coef_)\n",
    "print(bm.fit_intercept)"
   ]
  },
  {
   "cell_type": "code",
   "execution_count": 12,
   "id": "4064510f",
   "metadata": {},
   "outputs": [
    {
     "name": "stdout",
     "output_type": "stream",
     "text": [
      "['SKY' 'PATH' 'GRASS' 'GRASS']\n"
     ]
    }
   ],
   "source": [
    "#Inferencing\n",
    "tst_img=pd.read_csv(\"tst_img.csv\")\n",
    "\n",
    "y_pred=bm.predict(tst_img)\n",
    "\n",
    "print(lbl.inverse_transform(y_pred))"
   ]
  },
  {
   "cell_type": "code",
   "execution_count": null,
   "id": "e2c6df63",
   "metadata": {},
   "outputs": [],
   "source": [
    "\n"
   ]
  }
 ],
 "metadata": {
  "kernelspec": {
   "display_name": "Python 3 (ipykernel)",
   "language": "python",
   "name": "python3"
  },
  "language_info": {
   "codemirror_mode": {
    "name": "ipython",
    "version": 3
   },
   "file_extension": ".py",
   "mimetype": "text/x-python",
   "name": "python",
   "nbconvert_exporter": "python",
   "pygments_lexer": "ipython3",
   "version": "3.11.5"
  }
 },
 "nbformat": 4,
 "nbformat_minor": 5
}
